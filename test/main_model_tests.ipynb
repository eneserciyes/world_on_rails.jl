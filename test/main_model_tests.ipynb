{
 "cells": [
  {
   "cell_type": "code",
   "execution_count": 1,
   "metadata": {},
   "outputs": [
    {
     "name": "stderr",
     "output_type": "stream",
     "text": [
      "\u001b[32m\u001b[1m  Activating\u001b[22m\u001b[39m environment at `~/avg/WoR/world_on_rails.jl/Project.toml`\n"
     ]
    }
   ],
   "source": [
    "using Pkg\n",
    "Pkg.activate(\"..\")"
   ]
  },
  {
   "cell_type": "code",
   "execution_count": 2,
   "metadata": {},
   "outputs": [],
   "source": [
    "using Revise\n",
    "using Test\n",
    "using Knet\n",
    "using Statistics:mean\n",
    "using NPZ"
   ]
  },
  {
   "cell_type": "code",
   "execution_count": 3,
   "metadata": {},
   "outputs": [
    {
     "data": {
      "text/plain": [
       "5-element Vector{String}:\n",
       " \"@\"\n",
       " \"@v#.#\"\n",
       " \"@stdlib\"\n",
       " \"/home/enes/avg/WoR/world_on_rails.jl/src/data\"\n",
       " \"/home/enes/avg/WoR/world_on_rails.jl/src/models\""
      ]
     },
     "execution_count": 3,
     "metadata": {},
     "output_type": "execute_result"
    }
   ],
   "source": [
    "push!(LOAD_PATH, joinpath(dirname(pwd()), \"src\", \"data\"))\n",
    "push!(LOAD_PATH, joinpath(dirname(pwd()), \"src\", \"models\"))"
   ]
  },
  {
   "cell_type": "code",
   "execution_count": 4,
   "metadata": {},
   "outputs": [],
   "source": [
    "cd(\"..\")"
   ]
  },
  {
   "cell_type": "markdown",
   "metadata": {},
   "source": [
    "## DataLoader Main Model"
   ]
  },
  {
   "cell_type": "code",
   "execution_count": 5,
   "metadata": {},
   "outputs": [
    {
     "name": "stdout",
     "output_type": "stream",
     "text": [
      "/home/enes/avg/WoR/world_on_rails.jl/data/main_mini: 172 frames (x3)\n"
     ]
    }
   ],
   "source": [
    "import main_dataset: LabeledMainDataset\n",
    "main_dataset = LabeledMainDataset(\"/home/enes/avg/WoR/world_on_rails.jl/data/main_mini\",\n",
    "     \"/home/enes/avg/WoR/world_on_rails.jl/configs/config.yaml\");"
   ]
  },
  {
   "cell_type": "code",
   "execution_count": 6,
   "metadata": {},
   "outputs": [],
   "source": [
    "(wide_rgbs, wide_sems, narr_rgbs, narr_sems, act_vals, spds, cmds) = main_dataset[1];"
   ]
  },
  {
   "cell_type": "code",
   "execution_count": 7,
   "metadata": {},
   "outputs": [],
   "source": [
    "wide_rgbs = reshape(wide_rgbs, (1,size(wide_rgbs)...));\n",
    "narr_rgbs = reshape(narr_rgbs, (1,size(narr_rgbs)...));\n",
    "act_vals = reshape(act_vals, (1,size(act_vals)...));"
   ]
  },
  {
   "cell_type": "code",
   "execution_count": 8,
   "metadata": {},
   "outputs": [
    {
     "data": {
      "text/plain": [
       "28×4×6 Array{Any, 3}:\n",
       "[:, :, 1] =\n",
       " 0.957224  0.932526  0.428275  0.237606\n",
       " 0.971438  1.15929   0.664114  0.415488\n",
       " 0.980962  1.24901   0.923563  0.574927\n",
       " 0.987574  1.30826   1.0457    0.734809\n",
       " 0.989072  1.32588   1.08133   0.771495\n",
       " 0.957188  1.14214   0.805325  0.562069\n",
       " 0.921557  0.949503  0.581062  0.456128\n",
       " 0.878715  0.733887  0.462459  0.334281\n",
       " 0.824732  0.577492  0.326122  0.184719\n",
       " 0.961238  0.932227  0.427769  0.237606\n",
       " 0.975497  1.15964   0.661975  0.415488\n",
       " 0.98505   1.24974   0.919751  0.574927\n",
       " 0.991683  1.30932   1.04132   0.734809\n",
       " ⋮                             \n",
       " 0.882419  0.732998  0.462012  0.334281\n",
       " 0.828241  0.57708   0.32608   0.184719\n",
       " 0.965253  0.931929  0.427263  0.237606\n",
       " 0.979556  1.15998   0.659836  0.415488\n",
       " 0.989139  1.25047   0.915939  0.574927\n",
       " 0.995792  1.31037   1.03694   0.734809\n",
       " 0.997293  1.32826   1.07209   0.771495\n",
       " 0.965171  1.14268   0.799652  0.562069\n",
       " 0.929276  0.948628  0.578681  0.456128\n",
       " 0.886122  0.732109  0.461565  0.334281\n",
       " 0.83175   0.576667  0.326038  0.184719\n",
       " 0.989072  1.32588   1.08133   0.771495\n",
       "\n",
       "[:, :, 2] =\n",
       " 0.957224  0.932526  0.428275  0.237606\n",
       " 0.971438  1.15929   0.664114  0.415488\n",
       " 0.980962  1.24901   0.923563  0.574927\n",
       " 0.987574  1.30826   1.0457    0.734809\n",
       " 0.989072  1.32588   1.08133   0.771495\n",
       " 0.957188  1.14214   0.805325  0.562069\n",
       " 0.921557  0.949503  0.581062  0.456128\n",
       " 0.878715  0.733887  0.462459  0.334281\n",
       " 0.824732  0.577492  0.326122  0.184719\n",
       " 0.961238  0.932227  0.427769  0.237606\n",
       " 0.975497  1.15964   0.661975  0.415488\n",
       " 0.98505   1.24974   0.919751  0.574927\n",
       " 0.991683  1.30932   1.04132   0.734809\n",
       " ⋮                             \n",
       " 0.882419  0.732998  0.462012  0.334281\n",
       " 0.828241  0.57708   0.32608   0.184719\n",
       " 0.965253  0.931929  0.427263  0.237606\n",
       " 0.979556  1.15998   0.659836  0.415488\n",
       " 0.989139  1.25047   0.915939  0.574927\n",
       " 0.995792  1.31037   1.03694   0.734809\n",
       " 0.997293  1.32826   1.07209   0.771495\n",
       " 0.965171  1.14268   0.799652  0.562069\n",
       " 0.929276  0.948628  0.578681  0.456128\n",
       " 0.886122  0.732109  0.461565  0.334281\n",
       " 0.83175   0.576667  0.326038  0.184719\n",
       " 0.989072  1.32588   1.08133   0.771495\n",
       "\n",
       "[:, :, 3] =\n",
       " 0.907467  1.06193   0.676778  0.415811\n",
       " 0.919435  1.27113   0.982946  0.727106\n",
       " 0.92733   1.35105   1.29309   1.00612\n",
       " 0.932702  1.40181   1.43835   1.28592\n",
       " 0.933841  1.41446   1.47474   1.35012\n",
       " 0.907404  1.25191   1.15566   0.983623\n",
       " 0.877659  1.07678   0.89066   0.798225\n",
       " 0.841642  0.874526  0.733663  0.587236\n",
       " 0.795913  0.717249  0.54174   0.332106\n",
       " 0.911976  1.06338   0.677009  0.415811\n",
       " 0.923985  1.27331   0.981954  0.727106\n",
       " 0.931908  1.35358   1.29138   1.00612\n",
       " 0.937297  1.40461   1.43669   1.28592\n",
       " ⋮                             \n",
       " 0.845869  0.875211  0.734042  0.587236\n",
       " 0.79996   0.718169  0.542257  0.332106\n",
       " 0.916485  1.06483   0.677239  0.415811\n",
       " 0.928536  1.27549   0.980962  0.727106\n",
       " 0.936485  1.35611   1.28967   1.00612\n",
       " 0.941892  1.40742   1.43503   1.28592\n",
       " 0.943032  1.42024   1.47139   1.35012\n",
       " 0.916382  1.25592   1.15352   0.983623\n",
       " 0.886399  1.07931   0.890368  0.798225\n",
       " 0.850096  0.875896  0.734421  0.587236\n",
       " 0.804007  0.71909   0.542774  0.332106\n",
       " 0.933841  1.41446   1.47474   1.35012\n",
       "\n",
       "[:, :, 4] =\n",
       " 0.907467  1.06193   0.676778  0.415811\n",
       " 0.919435  1.27113   0.982946  0.727106\n",
       " 0.92733   1.35105   1.29309   1.00612\n",
       " 0.932702  1.40181   1.43835   1.28592\n",
       " 0.933841  1.41446   1.47474   1.35012\n",
       " 0.907404  1.25191   1.15566   0.983623\n",
       " 0.877659  1.07678   0.89066   0.798225\n",
       " 0.841642  0.874526  0.733663  0.587236\n",
       " 0.795913  0.717249  0.54174   0.332106\n",
       " 0.911976  1.06338   0.677009  0.415811\n",
       " 0.923985  1.27331   0.981954  0.727106\n",
       " 0.931908  1.35358   1.29138   1.00612\n",
       " 0.937297  1.40461   1.43669   1.28592\n",
       " ⋮                             \n",
       " 0.845869  0.875211  0.734042  0.587236\n",
       " 0.79996   0.718169  0.542257  0.332106\n",
       " 0.916485  1.06483   0.677239  0.415811\n",
       " 0.928536  1.27549   0.980962  0.727106\n",
       " 0.936485  1.35611   1.28967   1.00612\n",
       " 0.941892  1.40742   1.43503   1.28592\n",
       " 0.943032  1.42024   1.47139   1.35012\n",
       " 0.916382  1.25592   1.15352   0.983623\n",
       " 0.886399  1.07931   0.890368  0.798225\n",
       " 0.850096  0.875896  0.734421  0.587236\n",
       " 0.804007  0.71909   0.542774  0.332106\n",
       " 0.933841  1.41446   1.47474   1.35012\n",
       "\n",
       "[:, :, 5] =\n",
       " 0.133777  0.0888009  0.0172667  0.009504\n",
       " 0.139992  0.119157   0.0335356  0.0166325\n",
       " 0.145193  0.137357   0.0836134  0.0457537\n",
       " 0.149589  0.154508   0.165566   0.0859396\n",
       " 0.153146  0.168134   0.254965   0.104088\n",
       " 0.151845  0.149922   0.202856   0.0386559\n",
       " 0.150193  0.127898   0.141239   0.0200803\n",
       " 0.147955  0.100246   0.0617934  0.0132532\n",
       " 0.144753  0.0926136  0.0125706  0.00650295\n",
       " 0.134068  0.0887225  0.0172444  0.009504\n",
       " 0.140296  0.118903   0.0334221  0.0166325\n",
       " 0.145511  0.137025   0.0833522  0.0457537\n",
       " 0.14992   0.154161   0.165135   0.0859396\n",
       " ⋮                               \n",
       " 0.148307  0.0995754  0.0616891  0.0132532\n",
       " 0.145096  0.0922177  0.0125688  0.00650295\n",
       " 0.13436   0.0886441  0.0172221  0.009504\n",
       " 0.1406    0.118648   0.0333086  0.0166325\n",
       " 0.145829  0.136693   0.0830909  0.0457537\n",
       " 0.150251  0.153814   0.164705   0.0859396\n",
       " 0.153832  0.167447   0.25375    0.104088\n",
       " 0.152542  0.149209   0.201949   0.0386559\n",
       " 0.150898  0.126994   0.140675   0.0200803\n",
       " 0.14866   0.0989048  0.0615847  0.0132532\n",
       " 0.145438  0.0918218  0.012567   0.00650295\n",
       " 0.153146  0.168134   0.254965   0.104088\n",
       "\n",
       "[:, :, 6] =\n",
       " 0.148152  0.0935445  0.0172822  0.009504\n",
       " 0.152879  0.124776   0.0336293  0.0166325\n",
       " 0.157052  0.144875   0.0818203  0.0458764\n",
       " 0.160761  0.162176   0.151929   0.110739\n",
       " 0.164079  0.177743   0.218212   0.193593\n",
       " 0.164867  0.181905   0.141607   0.146697\n",
       " 0.165922  0.188862   0.0959289  0.0845436\n",
       " 0.16743   0.20062    0.104134   0.0459755\n",
       " 0.169757  0.208782   0.157363   0.126154\n",
       " 0.148469  0.0934555  0.0172596  0.009504\n",
       " 0.153189  0.124543   0.0335139  0.0166325\n",
       " 0.157363  0.144591   0.0815557  0.0458764\n",
       " 0.161076  0.161868   0.151496   0.110739\n",
       " ⋮                               \n",
       " 0.167813  0.200955   0.103686   0.0459755\n",
       " 0.170176  0.209256   0.156969   0.126154\n",
       " 0.148786  0.0933665  0.0172371  0.009504\n",
       " 0.153499  0.124309   0.0333985  0.0166325\n",
       " 0.157674  0.144308   0.0812911  0.0458764\n",
       " 0.161391  0.16156    0.151062   0.110739\n",
       " 0.164725  0.177163   0.217008   0.193593\n",
       " 0.165544  0.181628   0.140691   0.146697\n",
       " 0.166637  0.188978   0.0951598  0.0845436\n",
       " 0.168196  0.20129    0.103239   0.0459755\n",
       " 0.170595  0.209731   0.156576   0.126154\n",
       " 0.164079  0.177743   0.218212   0.193593"
      ]
     },
     "execution_count": 8,
     "metadata": {},
     "output_type": "execute_result"
    }
   ],
   "source": [
    "act_vals[1,:,:,:]"
   ]
  },
  {
   "cell_type": "code",
   "execution_count": 9,
   "metadata": {},
   "outputs": [
    {
     "data": {
      "text/plain": [
       "\u001b[32m\u001b[1mTest Passed\u001b[22m\u001b[39m"
      ]
     },
     "execution_count": 9,
     "metadata": {},
     "output_type": "execute_result"
    }
   ],
   "source": [
    "@test size(wide_rgbs) == (1,193,480,3)\n",
    "@test size(narr_rgbs) == (1,160,384,3)\n",
    "@test size(act_vals) == (1, 28, 4, 6)"
   ]
  },
  {
   "cell_type": "code",
   "execution_count": 10,
   "metadata": {},
   "outputs": [],
   "source": [
    "wide_rgbs = KnetArray{Float32}(permutedims(Float32.(wide_rgbs), (1, 4, 2, 3)))\n",
    "narr_rgbs = KnetArray{Float32}(permutedims(Float32.(narr_rgbs), (1, 4, 2, 3)))\n",
    "wide_sems = KnetArray{Int64}(Int64.(wide_sems))\n",
    "narr_sems = KnetArray{Int64}(Int64.(narr_sems));"
   ]
  },
  {
   "cell_type": "markdown",
   "metadata": {},
   "source": [
    "## softmax test"
   ]
  },
  {
   "cell_type": "code",
   "execution_count": 11,
   "metadata": {},
   "outputs": [],
   "source": [
    "act_vals = KnetArray{Float32}(permutedims(act_vals, (1, 3, 2, 4)));"
   ]
  },
  {
   "cell_type": "code",
   "execution_count": 12,
   "metadata": {},
   "outputs": [],
   "source": [
    "act_probs = Knet.softmax(act_vals./0.01, dims = 3);"
   ]
  },
  {
   "cell_type": "code",
   "execution_count": 13,
   "metadata": {},
   "outputs": [
    {
     "data": {
      "text/plain": [
       "\u001b[32m\u001b[1mTest Passed\u001b[22m\u001b[39m"
      ]
     },
     "execution_count": 13,
     "metadata": {},
     "output_type": "execute_result"
    }
   ],
   "source": [
    "@test act_probs[1,1,1,1] ≈ 0.0031278"
   ]
  },
  {
   "cell_type": "markdown",
   "metadata": {},
   "source": [
    "## kl_div tests"
   ]
  },
  {
   "cell_type": "markdown",
   "metadata": {},
   "source": [
    "### act_output mock reading"
   ]
  },
  {
   "cell_type": "code",
   "execution_count": 14,
   "metadata": {},
   "outputs": [],
   "source": [
    "act_outputs = npzread(joinpath(\"test\", \"mock_output\", \"act_outputs.npy\"));"
   ]
  },
  {
   "cell_type": "code",
   "execution_count": 15,
   "metadata": {},
   "outputs": [],
   "source": [
    "act_outputs = permutedims(act_outputs, (1,3,4,2));"
   ]
  },
  {
   "cell_type": "markdown",
   "metadata": {},
   "source": [
    "### logsoftmax test"
   ]
  },
  {
   "cell_type": "code",
   "execution_count": 23,
   "metadata": {},
   "outputs": [],
   "source": [
    "prob_act_outputs = logsoftmax(act_outputs, dims=3);"
   ]
  },
  {
   "cell_type": "code",
   "execution_count": 24,
   "metadata": {},
   "outputs": [
    {
     "data": {
      "text/plain": [
       "\u001b[32m\u001b[1mTest Passed\u001b[22m\u001b[39m"
      ]
     },
     "execution_count": 24,
     "metadata": {},
     "output_type": "execute_result"
    }
   ],
   "source": [
    "@test prob_act_outputs[1,1,1,1] == -3.4147465f0"
   ]
  },
  {
   "cell_type": "code",
   "execution_count": 19,
   "metadata": {},
   "outputs": [],
   "source": [
    "using metrics: kl_div"
   ]
  },
  {
   "cell_type": "code",
   "execution_count": 50,
   "metadata": {},
   "outputs": [
    {
     "data": {
      "text/plain": [
       "KnetArray{Float32, 4}"
      ]
     },
     "execution_count": 50,
     "metadata": {},
     "output_type": "execute_result"
    }
   ],
   "source": []
  },
  {
   "cell_type": "code",
   "execution_count": 70,
   "metadata": {},
   "outputs": [],
   "source": [
    "kl = kl_div(KnetArray(prob_act_outputs), KnetArray(act_probs));"
   ]
  },
  {
   "cell_type": "code",
   "execution_count": 73,
   "metadata": {},
   "outputs": [
    {
     "data": {
      "text/plain": [
       "1×1×1×6 KnetArray{Float32, 4}:\n",
       "[:, :, 1, 1] =\n",
       " 0.05640474\n",
       "\n",
       "[:, :, 1, 2] =\n",
       " 0.05589357\n",
       "\n",
       "[:, :, 1, 3] =\n",
       " 0.055642966\n",
       "\n",
       "[:, :, 1, 4] =\n",
       " 0.05554856\n",
       "\n",
       "[:, :, 1, 5] =\n",
       " 0.04199929\n",
       "\n",
       "[:, :, 1, 6] =\n",
       " 0.04567174"
      ]
     },
     "execution_count": 73,
     "metadata": {},
     "output_type": "execute_result"
    }
   ],
   "source": [
    "mean(mean(kl, dims=2), dims=3)"
   ]
  },
  {
   "cell_type": "markdown",
   "metadata": {},
   "source": []
  },
  {
   "cell_type": "code",
   "execution_count": 63,
   "metadata": {},
   "outputs": [
    {
     "data": {
      "text/plain": [
       "1.0000000000000022e-40"
      ]
     },
     "execution_count": 63,
     "metadata": {},
     "output_type": "execute_result"
    }
   ],
   "source": [
    "x = "
   ]
  },
  {
   "cell_type": "code",
   "execution_count": null,
   "metadata": {},
   "outputs": [],
   "source": []
  }
 ],
 "metadata": {
  "kernelspec": {
   "display_name": "Julia 1.6.3",
   "language": "julia",
   "name": "julia-1.6"
  },
  "language_info": {
   "file_extension": ".jl",
   "mimetype": "application/julia",
   "name": "julia",
   "version": "1.6.3"
  },
  "orig_nbformat": 4
 },
 "nbformat": 4,
 "nbformat_minor": 2
}
