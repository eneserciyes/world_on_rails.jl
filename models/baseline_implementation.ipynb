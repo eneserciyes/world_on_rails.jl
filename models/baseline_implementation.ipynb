{
 "cells": [
  {
   "cell_type": "markdown",
   "id": "1a3bbb02-040a-40ce-a548-7a7da7b70a3f",
   "metadata": {},
   "source": [
    "# Baseline Implementation\n"
   ]
  },
  {
   "cell_type": "code",
   "execution_count": 1,
   "id": "373fff04-8607-439d-b620-ebff9627285b",
   "metadata": {},
   "outputs": [],
   "source": [
    "using Knet, Statistics, Random"
   ]
  },
  {
   "cell_type": "code",
   "execution_count": 2,
   "id": "7838001a-26ab-43ea-9dfd-6f3d3e1c530a",
   "metadata": {},
   "outputs": [
    {
     "data": {
      "text/plain": [
       "Conv"
      ]
     },
     "execution_count": 2,
     "metadata": {},
     "output_type": "execute_result"
    }
   ],
   "source": [
    "# Defining the convolutional layer:\n",
    "struct Conv; w; b; f; p; end\n",
    "(c::Conv)(x) = c.f.(pool(conv4(c.w, dropout(x,c.p)) .+ c.b))\n",
    "Conv(w1::Int,w2::Int,cx::Int,cy::Int,f=relu;pdrop=0) = Conv(param(w1,w2,cx,cy), param0(1,1,cy,1), f, pdrop)"
   ]
  },
  {
   "cell_type": "code",
   "execution_count": 3,
   "id": "ef7a8e48-d7a4-438d-97dd-76d2497e1193",
   "metadata": {},
   "outputs": [
    {
     "data": {
      "text/plain": [
       "Dense"
      ]
     },
     "execution_count": 3,
     "metadata": {},
     "output_type": "execute_result"
    }
   ],
   "source": [
    "# Defining dense layer\n",
    "struct Dense; w; b; f; p; end\n",
    "(d::Dense)(x) = d.f.(d.w * mat(dropout(x,d.p)) .+ d.b) # mat reshapes 4-D tensor to 2-D matrix so we can use matmul\n",
    "Dense(i::Int,o::Int,f=relu;pdrop=0) = Dense(param(o,i), param0(o), f, pdrop)"
   ]
  },
  {
   "cell_type": "code",
   "execution_count": 4,
   "id": "5d147606-56e4-42a5-b917-106f95a1ba0b",
   "metadata": {},
   "outputs": [],
   "source": [
    "struct Chain\n",
    "    layers\n",
    "    Chain(layers...) = new(layers)\n",
    "end\n",
    "(c::Chain)(x) = (for l in c.layers; x = l(x); end; x)\n",
    "(c::Chain)(x,y) = nll(c(x),y)"
   ]
  },
  {
   "cell_type": "code",
   "execution_count": 5,
   "id": "5dda180d-79ef-468a-a108-4a15dab5c2f9",
   "metadata": {},
   "outputs": [
    {
     "data": {
      "text/plain": [
       "Chain((Conv(P(KnetArray{Float32, 4}(5,5,1,20)), P(KnetArray{Float32, 4}(1,1,20,1)), Knet.Ops20.relu, 0),))"
      ]
     },
     "execution_count": 5,
     "metadata": {},
     "output_type": "execute_result"
    }
   ],
   "source": [
    "baseline = Chain(Conv(5,5,1,20))"
   ]
  },
  {
   "cell_type": "code",
   "execution_count": null,
   "id": "119fb353-5ef3-4c93-865f-11903211e57c",
   "metadata": {},
   "outputs": [],
   "source": []
  }
 ],
 "metadata": {
  "kernelspec": {
   "display_name": "Julia 1.6.3",
   "language": "julia",
   "name": "julia-1.6"
  },
  "language_info": {
   "file_extension": ".jl",
   "mimetype": "application/julia",
   "name": "julia",
   "version": "1.6.3"
  }
 },
 "nbformat": 4,
 "nbformat_minor": 5
}
