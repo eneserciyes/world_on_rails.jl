{
 "cells": [
  {
   "cell_type": "markdown",
   "metadata": {},
   "source": [
    "# World On Rails Baseline Model "
   ]
  },
  {
   "cell_type": "markdown",
   "metadata": {},
   "source": [
    "This baseline model is a random agent that applies constant throttle and random steering. It reads data and applies a policy."
   ]
  },
  {
   "cell_type": "markdown",
   "metadata": {},
   "source": [
    "### Data Reading"
   ]
  },
  {
   "cell_type": "code",
   "execution_count": 1,
   "metadata": {},
   "outputs": [],
   "source": [
    "include(\"../data/data.jl\")\n",
    "using .Data"
   ]
  },
  {
   "cell_type": "code",
   "execution_count": 2,
   "metadata": {},
   "outputs": [
    {
     "data": {
      "text/plain": [
       "\"/home/enes/avg/WoR/WorldOnRails/config.yaml\""
      ]
     },
     "execution_count": 2,
     "metadata": {},
     "output_type": "execute_result"
    }
   ],
   "source": [
    "DATA_ROOT = \"/home/enes/avg/WoR/dataset\"\n",
    "CONFIG_PATH = \"/home/enes/avg/WoR/WorldOnRails/config.yaml\""
   ]
  },
  {
   "cell_type": "code",
   "execution_count": 3,
   "metadata": {},
   "outputs": [
    {
     "name": "stdout",
     "output_type": "stream",
     "text": [
      "/home/enes/avg/WoR/dataset: 1877 frames x 3"
     ]
    },
    {
     "data": {
      "text/plain": [
       "Main.Data.MainDataset(Dict{Any, Any}(\"ego_model_dir\" => \"/kuacc/users/merciyes18/WorldOnRails/ego_model.th\", \"num_plan\" => 5, \"camera_yaws\" => [0, -30, 30], \"multi_cam\" => true, \"num_orient\" => 5, \"num_throts\" => 3, \"all_speeds\" => true, \"temperature\" => 0.01, \"ego_data_dir\" => [\"PATH TO PHASE 0 DATA\"], \"min_speeds\" => 0.0…), 1877, Dict{Any, Any}(4986 => LMDB.Transaction(Ptr{Nothing} @0x00000000016fdf50), 4700 => LMDB.Transaction(Ptr{Nothing} @0x00000000037c2e10), 4576 => LMDB.Transaction(Ptr{Nothing} @0x00000000037c2e10), 2288 => LMDB.Transaction(Ptr{Nothing} @0x000000000387c1d0), 1703 => LMDB.Transaction(Ptr{Nothing} @0x0000000003899aa0), 1956 => LMDB.Transaction(Ptr{Nothing} @0x0000000003f74530), 2350 => LMDB.Transaction(Ptr{Nothing} @0x000000000387c1d0), 3406 => LMDB.Transaction(Ptr{Nothing} @0x000000000303d450), 2841 => LMDB.Transaction(Ptr{Nothing} @0x000000000363fcc0), 2876 => LMDB.Transaction(Ptr{Nothing} @0x000000000363fcc0)…), Dict{Any, Any}(4986 => LMDB.DBI(0x00000001, \"\"), 4700 => LMDB.DBI(0x00000001, \"\"), 4576 => LMDB.DBI(0x00000001, \"\"), 2288 => LMDB.DBI(0x00000001, \"\"), 1703 => LMDB.DBI(0x00000001, \"\"), 1956 => LMDB.DBI(0x00000001, \"\"), 2350 => LMDB.DBI(0x00000001, \"\"), 3406 => LMDB.DBI(0x00000001, \"\"), 2841 => LMDB.DBI(0x00000001, \"\"), 2876 => LMDB.DBI(0x00000001, \"\")…), Dict{Any, Any}(4986 => 93, 4700 => 95, 4576 => 54, 2288 => 13, 1703 => 186, 1956 => 81, 2350 => 34, 3406 => 5, 2841 => 8, 2876 => 19…), Dict{Any, Any}(4986 => 0, 4700 => 2, 4576 => 1, 2288 => 2, 1703 => 2, 1956 => 0, 2350 => 1, 3406 => 1, 2841 => 0, 2876 => 2…), Dict{Any, Any}(4986 => \"/home/enes/avg/WoR/dataset/hxxcgxsxav\", 4700 => \"/home/enes/avg/WoR/dataset/hxvfpckyaz\", 4576 => \"/home/enes/avg/WoR/dataset/hxvfpckyaz\", 2288 => \"/home/enes/avg/WoR/dataset/hxinttptds\", 1703 => \"/home/enes/avg/WoR/dataset/hxhouaackv\", 1956 => \"/home/enes/avg/WoR/dataset/hxhovvplvm\", 2350 => \"/home/enes/avg/WoR/dataset/hxinttptds\", 3406 => \"/home/enes/avg/WoR/dataset/hxmujmspcb\", 2841 => \"/home/enes/avg/WoR/dataset/hxksxmwrat\", 2876 => \"/home/enes/avg/WoR/dataset/hxksxmwrat\"…))"
      ]
     },
     "execution_count": 3,
     "metadata": {},
     "output_type": "execute_result"
    }
   ],
   "source": [
    "ds = Data.MainDataset(DATA_ROOT, CONFIG_PATH)\n"
   ]
  },
  {
   "cell_type": "code",
   "execution_count": 5,
   "metadata": {},
   "outputs": [
    {
     "name": "stdout",
     "output_type": "stream",
     "text": [
      "  0.009906 seconds (3.99 k allocations: 5.175 MiB)\n"
     ]
    },
    {
     "data": {
      "text/plain": [
       "(FixedPointNumbers.N0f8[0.0N0f8 0.0N0f8 … 0.0N0f8 0.0N0f8; 0.0N0f8 0.0N0f8 … 0.0N0f8 0.0N0f8; 0.0N0f8 0.0N0f8 … 0.0N0f8 0.0N0f8]\n",
       "\n",
       "FixedPointNumbers.N0f8[0.0N0f8 0.0N0f8 … 0.0N0f8 0.0N0f8; 0.0N0f8 0.0N0f8 … 0.0N0f8 0.0N0f8; 0.0N0f8 0.0N0f8 … 0.0N0f8 0.0N0f8]\n",
       "\n",
       "FixedPointNumbers.N0f8[0.0N0f8 0.0N0f8 … 0.0N0f8 0.0N0f8; 0.0N0f8 0.0N0f8 … 0.0N0f8 0.0N0f8; 0.0N0f8 0.0N0f8 … 0.0N0f8 0.0N0f8]\n",
       "\n",
       "...\n",
       "\n",
       "FixedPointNumbers.N0f8[0.0N0f8 0.0N0f8 … 0.063N0f8 0.075N0f8; 0.0N0f8 0.0N0f8 … 0.059N0f8 0.071N0f8; 0.0N0f8 0.0N0f8 … 0.039N0f8 0.051N0f8]\n",
       "\n",
       "FixedPointNumbers.N0f8[0.0N0f8 0.0N0f8 … 0.059N0f8 0.055N0f8; 0.0N0f8 0.0N0f8 … 0.055N0f8 0.051N0f8; 0.0N0f8 0.0N0f8 … 0.035N0f8 0.031N0f8]\n",
       "\n",
       "FixedPointNumbers.N0f8[0.0N0f8 0.0N0f8 … 0.071N0f8 0.055N0f8; 0.0N0f8 0.0N0f8 … 0.067N0f8 0.051N0f8; 0.0N0f8 0.0N0f8 … 0.047N0f8 0.031N0f8], FixedPointNumbers.N0f8[0.42N0f8 0.275N0f8 … 0.0N0f8 0.0N0f8; 0.557N0f8 0.51N0f8 … 0.0N0f8 0.0N0f8; 0.137N0f8 0.706N0f8 … 0.557N0f8 0.557N0f8]\n",
       "\n",
       "FixedPointNumbers.N0f8[0.42N0f8 0.42N0f8 … 0.0N0f8 0.0N0f8; 0.557N0f8 0.557N0f8 … 0.0N0f8 0.0N0f8; 0.137N0f8 0.137N0f8 … 0.557N0f8 0.557N0f8]\n",
       "\n",
       "FixedPointNumbers.N0f8[0.275N0f8 0.42N0f8 … 0.0N0f8 0.0N0f8; 0.51N0f8 0.557N0f8 … 0.0N0f8 0.0N0f8; 0.706N0f8 0.137N0f8 … 0.557N0f8 0.557N0f8]\n",
       "\n",
       "...\n",
       "\n",
       "FixedPointNumbers.N0f8[0.275N0f8 0.275N0f8 … 0.957N0f8 0.957N0f8; 0.51N0f8 0.51N0f8 … 0.137N0f8 0.137N0f8; 0.706N0f8 0.706N0f8 … 0.91N0f8 0.91N0f8]\n",
       "\n",
       "FixedPointNumbers.N0f8[0.275N0f8 0.275N0f8 … 0.957N0f8 0.957N0f8; 0.51N0f8 0.51N0f8 … 0.137N0f8 0.137N0f8; 0.706N0f8 0.706N0f8 … 0.91N0f8 0.91N0f8]\n",
       "\n",
       "FixedPointNumbers.N0f8[0.275N0f8 0.275N0f8 … 0.957N0f8 0.957N0f8; 0.51N0f8 0.51N0f8 … 0.137N0f8 0.137N0f8; 0.706N0f8 0.706N0f8 … 0.91N0f8 0.91N0f8], FixedPointNumbers.N0f8[0.0N0f8 0.0N0f8 … 0.278N0f8 0.278N0f8; 0.0N0f8 0.0N0f8 … 0.251N0f8 0.251N0f8; 0.0N0f8 0.0N0f8 … 0.188N0f8 0.188N0f8]\n",
       "\n",
       "FixedPointNumbers.N0f8[0.0N0f8 0.0N0f8 … 0.278N0f8 0.278N0f8; 0.0N0f8 0.0N0f8 … 0.251N0f8 0.251N0f8; 0.0N0f8 0.0N0f8 … 0.188N0f8 0.188N0f8]\n",
       "\n",
       "FixedPointNumbers.N0f8[0.0N0f8 0.0N0f8 … 0.278N0f8 0.278N0f8; 0.0N0f8 0.0N0f8 … 0.251N0f8 0.251N0f8; 0.0N0f8 0.0N0f8 … 0.188N0f8 0.188N0f8]\n",
       "\n",
       "...\n",
       "\n",
       "FixedPointNumbers.N0f8[0.0N0f8 0.0N0f8 … 0.208N0f8 0.208N0f8; 0.0N0f8 0.0N0f8 … 0.176N0f8 0.176N0f8; 0.0N0f8 0.0N0f8 … 0.125N0f8 0.125N0f8]\n",
       "\n",
       "FixedPointNumbers.N0f8[0.0N0f8 0.0N0f8 … 0.208N0f8 0.208N0f8; 0.0N0f8 0.0N0f8 … 0.176N0f8 0.176N0f8; 0.0N0f8 0.0N0f8 … 0.125N0f8 0.125N0f8]\n",
       "\n",
       "FixedPointNumbers.N0f8[0.0N0f8 0.0N0f8 … 0.208N0f8 0.208N0f8; 0.0N0f8 0.0N0f8 … 0.176N0f8 0.176N0f8; 0.0N0f8 0.0N0f8 … 0.125N0f8 0.125N0f8], Base.ReinterpretArray{FixedPointNumbers.N0f8, 2, ColorTypes.Gray{FixedPointNumbers.N0f8}, Matrix{ColorTypes.Gray{FixedPointNumbers.N0f8}}, true}[[0.0N0f8 0.0N0f8 … 0.0N0f8 0.0N0f8; 0.0N0f8 0.0N0f8 … 0.0N0f8 0.0N0f8; … ; 0.0N0f8 0.0N0f8 … 0.0N0f8 0.0N0f8; 0.0N0f8 0.0N0f8 … 0.0N0f8 0.0N0f8], [0.0N0f8 0.0N0f8 … 0.0N0f8 0.0N0f8; 0.0N0f8 0.0N0f8 … 0.0N0f8 0.0N0f8; … ; 0.0N0f8 0.0N0f8 … 0.0N0f8 0.0N0f8; 0.0N0f8 0.0N0f8 … 0.0N0f8 0.0N0f8], [0.0N0f8 0.0N0f8 … 0.0N0f8 0.0N0f8; 0.0N0f8 0.0N0f8 … 0.0N0f8 0.0N0f8; … ; 0.0N0f8 0.0N0f8 … 0.0N0f8 0.0N0f8; 0.0N0f8 0.0N0f8 … 0.0N0f8 0.0N0f8], [0.0N0f8 0.0N0f8 … 0.0N0f8 0.0N0f8; 0.0N0f8 0.0N0f8 … 0.0N0f8 0.0N0f8; … ; 0.0N0f8 0.0N0f8 … 0.0N0f8 0.0N0f8; 0.0N0f8 0.0N0f8 … 0.0N0f8 0.0N0f8], [0.0N0f8 0.0N0f8 … 0.0N0f8 0.0N0f8; 0.0N0f8 0.0N0f8 … 0.0N0f8 0.0N0f8; … ; 0.0N0f8 0.0N0f8 … 0.0N0f8 0.0N0f8; 0.0N0f8 0.0N0f8 … 0.0N0f8 0.0N0f8], [0.0N0f8 0.0N0f8 … 0.0N0f8 0.0N0f8; 0.0N0f8 0.0N0f8 … 0.0N0f8 0.0N0f8; … ; 0.0N0f8 0.0N0f8 … 0.0N0f8 0.0N0f8; 0.0N0f8 0.0N0f8 … 0.0N0f8 0.0N0f8], [0.0N0f8 0.0N0f8 … 0.0N0f8 0.0N0f8; 0.0N0f8 0.0N0f8 … 0.0N0f8 0.0N0f8; … ; 0.0N0f8 0.0N0f8 … 0.0N0f8 0.0N0f8; 0.0N0f8 0.0N0f8 … 0.0N0f8 0.0N0f8], [0.0N0f8 0.0N0f8 … 0.0N0f8 0.0N0f8; 0.0N0f8 0.0N0f8 … 0.0N0f8 0.0N0f8; … ; 0.0N0f8 0.0N0f8 … 0.0N0f8 0.0N0f8; 0.0N0f8 0.0N0f8 … 0.0N0f8 0.0N0f8], [0.0N0f8 0.0N0f8 … 0.0N0f8 0.0N0f8; 0.0N0f8 0.0N0f8 … 0.0N0f8 0.0N0f8; … ; 0.0N0f8 0.0N0f8 … 0.0N0f8 0.0N0f8; 0.0N0f8 0.0N0f8 … 0.0N0f8 0.0N0f8], [0.0N0f8 0.0N0f8 … 0.0N0f8 0.0N0f8; 0.0N0f8 0.0N0f8 … 0.0N0f8 0.0N0f8; … ; 0.0N0f8 0.0N0f8 … 0.0N0f8 0.0N0f8; 0.0N0f8 0.0N0f8 … 0.0N0f8 0.0N0f8], [0.0N0f8 0.0N0f8 … 0.0N0f8 0.0N0f8; 0.0N0f8 0.0N0f8 … 0.0N0f8 0.0N0f8; … ; 0.0N0f8 0.0N0f8 … 0.0N0f8 0.0N0f8; 0.0N0f8 0.0N0f8 … 0.0N0f8 0.0N0f8], [0.0N0f8 0.0N0f8 … 0.0N0f8 0.0N0f8; 0.0N0f8 0.0N0f8 … 0.0N0f8 0.0N0f8; … ; 0.0N0f8 0.0N0f8 … 0.0N0f8 0.0N0f8; 0.0N0f8 0.0N0f8 … 0.0N0f8 0.0N0f8]], Float32[134.76291 133.8109 … 131.30232 130.39267; 55.767403 55.772114 … 55.784515 55.78902; 0.03328617 0.033447836 … 0.03337288 0.03298916], Float32[179.71652 179.71652 … 179.71663 179.71658], Float32[3.8195188 3.710703 … 3.1878202 3.3246696], 3)"
      ]
     },
     "execution_count": 5,
     "metadata": {},
     "output_type": "execute_result"
    }
   ],
   "source": [
    "@time data = Data.get_item(ds, 1870)"
   ]
  },
  {
   "cell_type": "code",
   "execution_count": 6,
   "metadata": {},
   "outputs": [
    {
     "data": {
      "text/plain": [
       "3×240×480 reinterpret(reshape, FixedPointNumbers.N0f8, ::Array{RGB{N0f8},2}) with eltype FixedPointNumbers.N0f8:\n",
       "[:, :, 1] =\n",
       " 0.42   0.275  0.275  0.275  0.275  …  0.0    0.0    0.0    0.0    0.0\n",
       " 0.557  0.51   0.51   0.51   0.51      0.0    0.0    0.0    0.0    0.0\n",
       " 0.137  0.706  0.706  0.706  0.706     0.557  0.557  0.557  0.557  0.557\n",
       "\n",
       "[:, :, 2] =\n",
       " 0.42   0.42   0.42   0.275  0.275  …  0.0    0.0    0.0    0.0    0.0\n",
       " 0.557  0.557  0.557  0.51   0.51      0.0    0.0    0.0    0.0    0.0\n",
       " 0.137  0.137  0.137  0.706  0.706     0.557  0.557  0.557  0.557  0.557\n",
       "\n",
       "[:, :, 3] =\n",
       " 0.275  0.42   0.42   0.42   0.275  …  0.0    0.0    0.0    0.0    0.0\n",
       " 0.51   0.557  0.557  0.557  0.51      0.0    0.0    0.0    0.0    0.0\n",
       " 0.706  0.137  0.137  0.137  0.706     0.557  0.557  0.557  0.557  0.557\n",
       "\n",
       "...\n",
       "\n",
       "[:, :, 478] =\n",
       " 0.275  0.275  0.275  0.275  0.275  …  0.957  0.957  0.957  0.957  0.957\n",
       " 0.51   0.51   0.51   0.51   0.51      0.137  0.137  0.137  0.137  0.137\n",
       " 0.706  0.706  0.706  0.706  0.706     0.91   0.91   0.91   0.91   0.91\n",
       "\n",
       "[:, :, 479] =\n",
       " 0.275  0.275  0.275  0.275  0.275  …  0.957  0.957  0.957  0.957  0.957\n",
       " 0.51   0.51   0.51   0.51   0.51      0.137  0.137  0.137  0.137  0.137\n",
       " 0.706  0.706  0.706  0.706  0.706     0.91   0.91   0.91   0.91   0.91\n",
       "\n",
       "[:, :, 480] =\n",
       " 0.275  0.275  0.275  0.275  0.275  …  0.957  0.957  0.957  0.957  0.957\n",
       " 0.51   0.51   0.51   0.51   0.51      0.137  0.137  0.137  0.137  0.137\n",
       " 0.706  0.706  0.706  0.706  0.706     0.91   0.91   0.91   0.91   0.91"
      ]
     },
     "execution_count": 6,
     "metadata": {},
     "output_type": "execute_result"
    }
   ],
   "source": [
    "# visualize wide rgb semantic segmentation\n",
    "data[2]"
   ]
  },
  {
   "cell_type": "code",
   "execution_count": 7,
   "metadata": {},
   "outputs": [
    {
     "data": {
      "text/plain": [
       "#1 (generic function with 1 method)"
      ]
     },
     "execution_count": 7,
     "metadata": {},
     "output_type": "execute_result"
    }
   ],
   "source": [
    "# iterating over the dataset\n",
    "x = () -> for data in ds end"
   ]
  },
  {
   "cell_type": "code",
   "execution_count": 8,
   "metadata": {},
   "outputs": [
    {
     "name": "stdout",
     "output_type": "stream",
     "text": [
      " 38.307651 seconds (22.51 M allocations: 28.460 GiB, 1.86% gc time, 0.07% compilation time)\n"
     ]
    }
   ],
   "source": [
    "@time x()"
   ]
  },
  {
   "cell_type": "markdown",
   "metadata": {},
   "source": [
    "## Baseline Implementation"
   ]
  },
  {
   "cell_type": "code",
   "execution_count": 9,
   "metadata": {},
   "outputs": [],
   "source": [
    "using Knet, Statistics, Random"
   ]
  },
  {
   "cell_type": "code",
   "execution_count": 10,
   "metadata": {},
   "outputs": [
    {
     "data": {
      "text/plain": [
       "Conv"
      ]
     },
     "execution_count": 10,
     "metadata": {},
     "output_type": "execute_result"
    }
   ],
   "source": [
    "# Defining the convolutional layer:\n",
    "struct Conv; w; b; f; p; end\n",
    "(c::Conv)(x) = c.f.(pool(conv4(c.w, dropout(x,c.p)) .+ c.b))\n",
    "Conv(w1::Int,w2::Int,cx::Int,cy::Int,f=relu;pdrop=0) = Conv(param(w1,w2,cx,cy), param0(1,1,cy,1), f, pdrop)"
   ]
  },
  {
   "cell_type": "code",
   "execution_count": 11,
   "metadata": {},
   "outputs": [
    {
     "data": {
      "text/plain": [
       "Dense"
      ]
     },
     "execution_count": 11,
     "metadata": {},
     "output_type": "execute_result"
    }
   ],
   "source": [
    "# Defining dense layer\n",
    "struct Dense; w; b; f; p; end\n",
    "(d::Dense)(x) = d.f.(d.w * mat(dropout(x,d.p)) .+ d.b) # mat reshapes 4-D tensor to 2-D matrix so we can use matmul\n",
    "Dense(i::Int,o::Int,f=relu;pdrop=0) = Dense(param(o,i), param0(o), f, pdrop)"
   ]
  },
  {
   "cell_type": "code",
   "execution_count": 12,
   "metadata": {},
   "outputs": [],
   "source": [
    "struct Chain\n",
    "    layers\n",
    "    Chain(layers...) = new(layers)\n",
    "end\n",
    "(c::Chain)(x) = (for l in c.layers; x = l(x); end; x)\n",
    "(c::Chain)(x,y) = nll(c(x),y)"
   ]
  },
  {
   "cell_type": "code",
   "execution_count": 69,
   "metadata": {},
   "outputs": [
    {
     "data": {
      "text/plain": [
       "Chain((Conv(P(KnetArray{Float32, 4}(5,5,3,20)), P(KnetArray{Float32, 4}(1,1,20,1)), Knet.Ops20.relu, 0), Conv(P(KnetArray{Float32, 4}(5,5,20,50)), P(KnetArray{Float32, 4}(1,1,50,1)), Knet.Ops20.relu, 0)))"
      ]
     },
     "execution_count": 69,
     "metadata": {},
     "output_type": "execute_result"
    }
   ],
   "source": [
    "baseline = Chain(Conv(5,5,3,20), Conv(5,5,20,50))"
   ]
  },
  {
   "cell_type": "code",
   "execution_count": 81,
   "metadata": {},
   "outputs": [
    {
     "data": {
      "text/plain": [
       "3×240×480×1 KnetArray{N0f8, 4}:\n",
       "[:, :, 1, 1] =\n",
       " 0.0  0.0  0.0  0.0  0.0  0.0  0.0  0.0  …  0.0  0.0  0.0  0.0  0.0  0.0  0.0\n",
       " 0.0  0.0  0.0  0.0  0.0  0.0  0.0  0.0     0.0  0.0  0.0  0.0  0.0  0.0  0.0\n",
       " 0.0  0.0  0.0  0.0  0.0  0.0  0.0  0.0     0.0  0.0  0.0  0.0  0.0  0.0  0.0\n",
       "\n",
       "[:, :, 2, 1] =\n",
       " 0.0  0.0  0.0  0.0  0.0  0.0  0.0  0.0  …  0.0  0.0  0.0  0.0  0.0  0.0  0.0\n",
       " 0.0  0.0  0.0  0.0  0.0  0.0  0.0  0.0     0.0  0.0  0.0  0.0  0.0  0.0  0.0\n",
       " 0.0  0.0  0.0  0.0  0.0  0.0  0.0  0.0     0.0  0.0  0.0  0.0  0.0  0.0  0.0\n",
       "\n",
       "[:, :, 3, 1] =\n",
       " 0.0  0.0  0.0  0.0  0.0  0.0  0.0  0.0  …  0.0  0.0  0.0  0.0  0.0  0.0  0.0\n",
       " 0.0  0.0  0.0  0.0  0.0  0.0  0.0  0.0     0.0  0.0  0.0  0.0  0.0  0.0  0.0\n",
       " 0.0  0.0  0.0  0.0  0.0  0.0  0.0  0.0     0.0  0.0  0.0  0.0  0.0  0.0  0.0\n",
       "\n",
       "...\n",
       "\n",
       "[:, :, 478, 1] =\n",
       " 0.0  0.0  0.0  0.0  0.0  0.0  0.0  0.0  …  0.078  0.059  0.051  0.063  0.075\n",
       " 0.0  0.0  0.0  0.0  0.0  0.0  0.0  0.0     0.075  0.055  0.047  0.059  0.071\n",
       " 0.0  0.0  0.0  0.0  0.0  0.0  0.0  0.0     0.055  0.035  0.027  0.039  0.051\n",
       "\n",
       "[:, :, 479, 1] =\n",
       " 0.0  0.0  0.0  0.0  0.0  0.0  0.0  0.0  …  0.086  0.078  0.071  0.059  0.055\n",
       " 0.0  0.0  0.0  0.0  0.0  0.0  0.0  0.0     0.082  0.075  0.067  0.055  0.051\n",
       " 0.0  0.0  0.0  0.0  0.0  0.0  0.0  0.0     0.063  0.055  0.047  0.035  0.031\n",
       "\n",
       "[:, :, 480, 1] =\n",
       " 0.0  0.0  0.0  0.0  0.0  0.0  0.0  0.0  …  0.063  0.078  0.082  0.071  0.055\n",
       " 0.0  0.0  0.0  0.0  0.0  0.0  0.0  0.0     0.059  0.075  0.078  0.067  0.051\n",
       " 0.0  0.0  0.0  0.0  0.0  0.0  0.0  0.0     0.039  0.055  0.059  0.047  0.031"
      ]
     },
     "execution_count": 81,
     "metadata": {},
     "output_type": "execute_result"
    }
   ],
   "source": [
    "x = KnetArray(reshape(data[1], size(data[1])..., 1))"
   ]
  },
  {
   "cell_type": "code",
   "execution_count": 76,
   "metadata": {},
   "outputs": [
    {
     "ename": "LoadError",
     "evalue": "MethodError: no method matching colorview(::Type{RGB}, ::KnetArray{Float32, 3})\n\u001b[0mClosest candidates are:\n\u001b[0m  colorview(::Type{C}, ::Any, \u001b[91m::Any\u001b[39m, \u001b[91m::Any...\u001b[39m) where C<:Colorant at /home/enes/.julia/packages/ImageCore/iXG0W/src/colorchannels.jl:186\n\u001b[0m  colorview(::Type{C}) where C<:Colorant at /home/enes/.julia/packages/ImageCore/iXG0W/src/colorchannels.jl:215\n\u001b[0m  colorview(::Type{C}, \u001b[91m::ImageMeta{T, N, A, P} where {A<:AbstractArray, P<:AbstractDict{Symbol, Any}}\u001b[39m) where {C<:Colorant, T, N} at /home/enes/.julia/packages/ImageMetadata/3vPdr/src/ImageMetadata.jl:253\n\u001b[0m  ...",
     "output_type": "error",
     "traceback": [
      "MethodError: no method matching colorview(::Type{RGB}, ::KnetArray{Float32, 3})\n\u001b[0mClosest candidates are:\n\u001b[0m  colorview(::Type{C}, ::Any, \u001b[91m::Any\u001b[39m, \u001b[91m::Any...\u001b[39m) where C<:Colorant at /home/enes/.julia/packages/ImageCore/iXG0W/src/colorchannels.jl:186\n\u001b[0m  colorview(::Type{C}) where C<:Colorant at /home/enes/.julia/packages/ImageCore/iXG0W/src/colorchannels.jl:215\n\u001b[0m  colorview(::Type{C}, \u001b[91m::ImageMeta{T, N, A, P} where {A<:AbstractArray, P<:AbstractDict{Symbol, Any}}\u001b[39m) where {C<:Colorant, T, N} at /home/enes/.julia/packages/ImageMetadata/3vPdr/src/ImageMetadata.jl:253\n\u001b[0m  ...",
      "",
      "Stacktrace:",
      " [1] top-level scope",
      "   @ In[76]:1",
      " [2] eval",
      "   @ ./boot.jl:360 [inlined]",
      " [3] include_string(mapexpr::typeof(REPL.softscope), mod::Module, code::String, filename::String)",
      "   @ Base ./loading.jl:1116"
     ]
    }
   ],
   "source": [
    "colorview(RGB, x)"
   ]
  },
  {
   "cell_type": "code",
   "execution_count": 80,
   "metadata": {},
   "outputs": [
    {
     "ename": "LoadError",
     "evalue": "InexactError: check_top_bit(UInt64, -18880)",
     "output_type": "error",
     "traceback": [
      "InexactError: check_top_bit(UInt64, -18880)",
      "",
      "Stacktrace:",
      "  [1] throw_inexacterror(f::Symbol, #unused#::Type{UInt64}, val::Int64)",
      "    @ Core ./boot.jl:602",
      "  [2] check_top_bit",
      "    @ ./boot.jl:616 [inlined]",
      "  [3] toUInt64",
      "    @ ./boot.jl:727 [inlined]",
      "  [4] UInt64",
      "    @ ./boot.jl:757 [inlined]",
      "  [5] convert",
      "    @ ./number.jl:7 [inlined]",
      "  [6] cconvert",
      "    @ ./essentials.jl:396 [inlined]",
      "  [7] macro expansion",
      "    @ ~/.julia/packages/CUDA/YpW0k/lib/cudadrv/libcuda.jl:2267 [inlined]",
      "  [8] macro expansion",
      "    @ ~/.julia/packages/CUDA/YpW0k/lib/cudadrv/error.jl:97 [inlined]",
      "  [9] cuMemAllocAsync(dptr::Base.RefValue{CUDA.CuPtr{Nothing}}, bytesize::Int64, hStream::CUDA.CuStream)",
      "    @ CUDA ~/.julia/packages/CUDA/YpW0k/lib/utils/call.jl:26",
      " [10] #alloc#1",
      "    @ ~/.julia/packages/CUDA/YpW0k/lib/cudadrv/memory.jl:82 [inlined]",
      " [11] macro expansion",
      "    @ ~/.julia/packages/CUDA/YpW0k/src/pool.jl:41 [inlined]",
      " [12] macro expansion",
      "    @ ./timing.jl:287 [inlined]",
      " [13] actual_alloc(bytes::Int64; async::Bool, stream::CUDA.CuStream)",
      "    @ CUDA ~/.julia/packages/CUDA/YpW0k/src/pool.jl:39",
      " [14] macro expansion",
      "    @ ~/.julia/packages/CUDA/YpW0k/src/pool.jl:210 [inlined]",
      " [15] macro expansion",
      "    @ ./timing.jl:287 [inlined]",
      " [16] #_alloc#172",
      "    @ ~/.julia/packages/CUDA/YpW0k/src/pool.jl:187 [inlined]",
      " [17] #alloc#171",
      "    @ ~/.julia/packages/CUDA/YpW0k/src/pool.jl:173 [inlined]",
      " [18] alloc",
      "    @ ~/.julia/packages/CUDA/YpW0k/src/pool.jl:169 [inlined]",
      " [19] CuArray",
      "    @ ~/.julia/packages/CUDA/YpW0k/src/array.jl:44 [inlined]",
      " [20] CuArray",
      "    @ ~/.julia/packages/CUDA/YpW0k/src/array.jl:125 [inlined]",
      " [21] CuArray",
      "    @ ~/.julia/packages/CUDA/YpW0k/src/array.jl:136 [inlined]",
      " [22] CuArray",
      "    @ ~/.julia/packages/CUDA/YpW0k/src/array.jl:138 [inlined]",
      " [23] KnetPtrCu(len::Int64)",
      "    @ Knet.KnetArrays ~/.julia/packages/Knet/RCkV0/src/knetarrays/kptr.jl:229",
      " [24] Knet.KnetArrays.KnetPtr(arraybytes::Int64)",
      "    @ Knet.KnetArrays ~/.julia/packages/Knet/RCkV0/src/knetarrays/kptr.jl:107",
      " [25] KnetArray",
      "    @ ~/.julia/packages/Knet/RCkV0/src/knetarrays/karray.jl:74 [inlined]",
      " [26] similar",
      "    @ ~/.julia/packages/Knet/RCkV0/src/knetarrays/abstractarray.jl:28 [inlined]",
      " [27] similar",
      "    @ ~/.julia/packages/Knet/RCkV0/src/knetarrays/abstractarray.jl:25 [inlined]",
      " [28] conv4(w::KnetArray{Float32, 4}, x::KnetArray{Float32, 4}; handle::Ptr{Nothing}, alpha::Int64, o::Base.Iterators.Pairs{Union{}, Union{}, Tuple{}, NamedTuple{(), Tuple{}}})",
      "    @ Knet.Ops20_gpu ~/.julia/packages/Knet/RCkV0/src/ops20_gpu/conv.jl:8",
      " [29] conv4(w::KnetArray{Float32, 4}, x::KnetArray{Float32, 4})",
      "    @ Knet.Ops20_gpu ~/.julia/packages/Knet/RCkV0/src/ops20_gpu/conv.jl:7",
      " [30] forw(::Function, ::Param{KnetArray{Float32, 4}}, ::Vararg{Any, N} where N; kwargs::Base.Iterators.Pairs{Union{}, Union{}, Tuple{}, NamedTuple{(), Tuple{}}})",
      "    @ AutoGrad ~/.julia/packages/AutoGrad/TTpeo/src/core.jl:66",
      " [31] forw",
      "    @ ~/.julia/packages/AutoGrad/TTpeo/src/core.jl:65 [inlined]",
      " [32] #conv4#28",
      "    @ ./none:0 [inlined]",
      " [33] conv4(w::Param{KnetArray{Float32, 4}}, x::KnetArray{Float32, 4})",
      "    @ Knet.Ops20 ./none:0",
      " [34] (::Conv)(x::KnetArray{Float32, 4})",
      "    @ Main ./In[10]:3",
      " [35] (::Chain)(x::KnetArray{Float32, 4})",
      "    @ Main ./In[12]:5",
      " [36] top-level scope",
      "    @ In[80]:1",
      " [37] eval",
      "    @ ./boot.jl:360 [inlined]",
      " [38] include_string(mapexpr::typeof(REPL.softscope), mod::Module, code::String, filename::String)",
      "    @ Base ./loading.jl:1116"
     ]
    }
   ],
   "source": [
    "baseline(x)"
   ]
  },
  {
   "cell_type": "code",
   "execution_count": null,
   "metadata": {},
   "outputs": [],
   "source": []
  }
 ],
 "metadata": {
  "kernelspec": {
   "display_name": "Julia 1.6.3",
   "language": "julia",
   "name": "julia-1.6"
  },
  "language_info": {
   "file_extension": ".jl",
   "mimetype": "application/julia",
   "name": "julia",
   "version": "1.6.3"
  }
 },
 "nbformat": 4,
 "nbformat_minor": 4
}
