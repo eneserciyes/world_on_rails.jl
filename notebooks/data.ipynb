{
 "cells": [
  {
   "cell_type": "markdown",
   "id": "d50ff681",
   "metadata": {},
   "source": [
    "## Data reading and manipulation"
   ]
  },
  {
   "cell_type": "code",
   "execution_count": 82,
   "id": "11504ede",
   "metadata": {},
   "outputs": [
    {
     "name": "stderr",
     "output_type": "stream",
     "text": [
      "\u001b[32m\u001b[1m  Activating\u001b[22m\u001b[39m environment at `~/avg/WoR/world_on_rails.jl/Project.toml`\n"
     ]
    }
   ],
   "source": [
    "# activate the environment\n",
    "using Pkg\n",
    "Pkg.activate(\"/home/enes/avg/WoR/world_on_rails.jl\")"
   ]
  },
  {
   "cell_type": "code",
   "execution_count": 85,
   "id": "ab5a783c",
   "metadata": {},
   "outputs": [],
   "source": [
    "using YAML: load_file\n",
    "using Images\n",
    "using Images.FileIO\n",
    "using Images.Colors\n",
    "using StrLiterals\n",
    "using LMDB\n",
    "using LMDB: create, open, close, put!, start"
   ]
  },
  {
   "cell_type": "code",
   "execution_count": 86,
   "id": "592cf080",
   "metadata": {},
   "outputs": [
    {
     "data": {
      "text/plain": [
       "\"/home/enes/avg/WoR/world_on_rails.jl/configs/config.yaml\""
      ]
     },
     "execution_count": 86,
     "metadata": {},
     "output_type": "execute_result"
    }
   ],
   "source": [
    "DATA_ROOT = \"/home/enes/avg/WoR/dataset\"\n",
    "CONFIG_PATH = \"/home/enes/avg/WoR/world_on_rails.jl/configs/config.yaml\""
   ]
  },
  {
   "cell_type": "code",
   "execution_count": 87,
   "id": "c19b9d65",
   "metadata": {},
   "outputs": [],
   "source": [
    "struct MainDataset\n",
    "    config::Dict\n",
    "    num_frames::Int\n",
    "    txn_map::Dict\n",
    "    dbi_map::Dict\n",
    "    idx_map::Dict\n",
    "    yaw_map::Dict\n",
    "    file_map::Dict\n",
    "\n",
    "    function MainDataset(data_dir::AbstractString, config_path::AbstractString)\n",
    "        # read the config file\n",
    "        num_frames = 0\n",
    "        config = load_file(config_path)\n",
    "        txn_map = Dict()\n",
    "        dbi_map = Dict()\n",
    "        idx_map = Dict()\n",
    "        yaw_map = Dict()\n",
    "        file_map = Dict()\n",
    "        \n",
    "        for full_path in readdir(data_dir, join=true)\n",
    "            if !isdir(full_path)\n",
    "                continue\n",
    "            end\n",
    "            env = create()\n",
    "            open(env, full_path)\n",
    "            txn = start(env)\n",
    "\n",
    "            dbi = open(txn)\n",
    "            \n",
    "            n = parse(Int64, LMDB.get(txn, dbi, \"len\", String))\n",
    "            if n < config[\"num_plan\"]+1\n",
    "                print(full_path, \" is too small. consider deleting\")\n",
    "                close(env, dbi)\n",
    "            else\n",
    "                offset = num_frames\n",
    "                for i in 0:n-config[\"num_plan\"]-1\n",
    "                    num_frames+=1\n",
    "                    for j in 0:length(config[\"camera_yaws\"])-1\n",
    "                        txn_map[(offset+i)*length(config[\"camera_yaws\"])+j] = txn\n",
    "                        dbi_map[(offset+i)*length(config[\"camera_yaws\"])+j] = dbi\n",
    "                        idx_map[(offset+i)*length(config[\"camera_yaws\"])+j] = i\n",
    "                        yaw_map[(offset+i)*length(config[\"camera_yaws\"])+j] = j\n",
    "                        file_map[(offset+i)*length(config[\"camera_yaws\"])+j] = full_path\n",
    "                    end\n",
    "                end\n",
    "            end\n",
    "        end\n",
    "        print(data_dir,\": \", num_frames, \" frames \", \"x \", length(config[\"camera_yaws\"]))\n",
    "        new(config, num_frames, txn_map, dbi_map, idx_map, yaw_map, file_map)\n",
    "    end\n",
    "end"
   ]
  },
  {
   "cell_type": "code",
   "execution_count": 88,
   "id": "2036d03b",
   "metadata": {},
   "outputs": [
    {
     "data": {
      "text/plain": [
       "access (generic function with 1 method)"
      ]
     },
     "execution_count": 88,
     "metadata": {},
     "output_type": "execute_result"
    }
   ],
   "source": [
    "function access(d::MainDataset, tag::AbstractString, txn::Transaction, dbi::DBI, index::Int, T::Int, dtype::Type; preprocess = x->x)\n",
    "    try\n",
    "        data = preprocess.([LMDB.get(txn, dbi, \"$(tag)_$(lpad(t, 5, '0'))\", dtype) for t in index:index+(T-1)])\n",
    "        reduce(hcat, data)\n",
    "    catch\n",
    "        @show tag\n",
    "    end\n",
    "end"
   ]
  },
  {
   "cell_type": "code",
   "execution_count": 90,
   "id": "bf66cd33",
   "metadata": {},
   "outputs": [
    {
     "name": "stdout",
     "output_type": "stream",
     "text": [
      "/home/enes/avg/WoR/dataset: 1932 frames x 3"
     ]
    },
    {
     "data": {
      "text/plain": [
       "MainDataset(Dict{Any, Any}(\"ego_model_dir\" => \"/kuacc/users/merciyes18/WorldOnRails/ego_model.th\", \"num_plan\" => 5, \"camera_yaws\" => [0, -30, 30], \"multi_cam\" => true, \"num_orient\" => 5, \"num_throts\" => 3, \"all_speeds\" => true, \"temperature\" => 0.01, \"ego_data_dir\" => [\"PATH TO PHASE 0 DATA\"], \"min_speeds\" => 0.0…), 1932, Dict{Any, Any}(4986 => Transaction(Ptr{Nothing} @0x0000000008954d00), 4700 => Transaction(Ptr{Nothing} @0x000000000886fa50), 4576 => Transaction(Ptr{Nothing} @0x000000000886fa50), 2288 => Transaction(Ptr{Nothing} @0x0000000008d4eef0), 1703 => Transaction(Ptr{Nothing} @0x0000000008b6e780), 1956 => Transaction(Ptr{Nothing} @0x0000000008d4eef0), 2350 => Transaction(Ptr{Nothing} @0x0000000008ba8080), 3406 => Transaction(Ptr{Nothing} @0x00000000090e4f80), 2841 => Transaction(Ptr{Nothing} @0x0000000008ba8080), 2876 => Transaction(Ptr{Nothing} @0x0000000008ba8080)…), Dict{Any, Any}(4986 => DBI(0x00000001, \"\"), 4700 => DBI(0x00000001, \"\"), 4576 => DBI(0x00000001, \"\"), 2288 => DBI(0x00000001, \"\"), 1703 => DBI(0x00000001, \"\"), 1956 => DBI(0x00000001, \"\"), 2350 => DBI(0x00000001, \"\"), 3406 => DBI(0x00000001, \"\"), 2841 => DBI(0x00000001, \"\"), 2876 => DBI(0x00000001, \"\")…), Dict{Any, Any}(4986 => 48, 4700 => 55, 4576 => 14, 2288 => 176, 1703 => 176, 1956 => 66, 2350 => 14, 3406 => 171, 2841 => 178, 2876 => 189…), Dict{Any, Any}(4986 => 0, 4700 => 2, 4576 => 1, 2288 => 2, 1703 => 2, 1956 => 0, 2350 => 1, 3406 => 1, 2841 => 0, 2876 => 2…), Dict{Any, Any}(4986 => \"/home/enes/avg/WoR/dataset/hxxcgxsxav\", 4700 => \"/home/enes/avg/WoR/dataset/hxvfpckyaz\", 4576 => \"/home/enes/avg/WoR/dataset/hxvfpckyaz\", 2288 => \"/home/enes/avg/WoR/dataset/hxhovvplvm\", 1703 => \"/home/enes/avg/WoR/dataset/hxhouaackv\", 1956 => \"/home/enes/avg/WoR/dataset/hxhovvplvm\", 2350 => \"/home/enes/avg/WoR/dataset/hxinttptds\", 3406 => \"/home/enes/avg/WoR/dataset/hxksxmwrat\", 2841 => \"/home/enes/avg/WoR/dataset/hxinttptds\", 2876 => \"/home/enes/avg/WoR/dataset/hxinttptds\"…))"
      ]
     },
     "execution_count": 90,
     "metadata": {},
     "output_type": "execute_result"
    }
   ],
   "source": [
    "main_dataset = MainDataset(DATA_ROOT, CONFIG_PATH)"
   ]
  },
  {
   "cell_type": "code",
   "execution_count": 91,
   "id": "bb3a68ca-db3f-4def-9857-9a7a994d7cb6",
   "metadata": {},
   "outputs": [],
   "source": [
    "Base.length(d::MainDataset) = (if (d.config[\"multi_cam\"]) d.num_frames*length(d.config[\"camera_yaws\"]) else d.num_frames end)"
   ]
  },
  {
   "cell_type": "code",
   "execution_count": 92,
   "id": "aaffc353-ef06-4151-89de-81a4e7c779a6",
   "metadata": {},
   "outputs": [
    {
     "data": {
      "text/plain": [
       "5796"
      ]
     },
     "execution_count": 92,
     "metadata": {},
     "output_type": "execute_result"
    }
   ],
   "source": [
    "length(main_dataset)"
   ]
  },
  {
   "cell_type": "code",
   "execution_count": 136,
   "id": "0ec9a710-a52e-44a6-b4c9-8cc5a2c4bdef",
   "metadata": {},
   "outputs": [
    {
     "data": {
      "text/plain": [
       "get_item (generic function with 1 method)"
      ]
     },
     "execution_count": 136,
     "metadata": {},
     "output_type": "execute_result"
    }
   ],
   "source": [
    "function get_item(d::MainDataset, state::Int)\n",
    "    T = d.config[\"num_plan\"]\n",
    "    idx = state -1\n",
    "    if !d.config[\"multi_cam\"]\n",
    "        idx *= length(d.config[\"camera_yaws\"])\n",
    "    end\n",
    "    \n",
    "    lmdb_txn = d.txn_map[idx]\n",
    "    lmdb_dbi = d.dbi_map[idx]\n",
    "    index = d.idx_map[idx]\n",
    "    cam_index = d.yaw_map[idx]\n",
    "\n",
    "    locs = access(d, \"loc\", lmdb_txn, lmdb_dbi, index, T+1, Vector{Float32})\n",
    "    rots = access(d, \"rot\", lmdb_txn, lmdb_dbi, index, T, Vector{Float32})\n",
    "    spds = access(d, \"spd\", lmdb_txn, lmdb_dbi, index, T, Vector{Float32})\n",
    "    \n",
    "    decode = (x -> FileIO.load(IOBuffer(x)))\n",
    "    lbls = [access(d, \"lbl_$(lpad(l, 2, '0'))\", lmdb_txn, lmdb_dbi, index+1, T, Vector{UInt8}; preprocess=decode) |> channelview for l in 0:11]\n",
    "    wide_rgb = access(d, \"wide_$(cam_index)\", lmdb_txn, lmdb_dbi, index, 1, Vector{UInt8}; preprocess=decode) |> channelview\n",
    "    wide_sem = access(d, \"wide_sem_$(cam_index)\", lmdb_txn, lmdb_dbi, index, 1, Vector{UInt8}; preprocess=decode) |> channelview\n",
    "    narr_rgb = access(d, \"narr_$(cam_index)\", lmdb_txn, lmdb_dbi, index, 1, Vector{UInt8}; preprocess=decode) |> channelview\n",
    "    \n",
    "    cmd = access(d, \"cmd\", lmdb_txn, lmdb_dbi, index, 1, Vector{Float32})\n",
    "    wide_rgb, wide_sem, narr_rgb, lbls, locs, rots, spds, cmd\n",
    "end"
   ]
  },
  {
   "cell_type": "code",
   "execution_count": 137,
   "id": "95910621-b994-4261-90f0-31178ebc7908",
   "metadata": {},
   "outputs": [],
   "source": [
    "Base.iterate(d::MainDataset, state=1) = state > length(d) ? nothing : get_item(d, state), state+1 "
   ]
  },
  {
   "cell_type": "code",
   "execution_count": 155,
   "id": "f496b78b-dbfd-4e6b-babb-cf457b84054e",
   "metadata": {},
   "outputs": [
    {
     "name": "stdout",
     "output_type": "stream",
     "text": [
      "  0.010502 seconds (3.66 k allocations: 5.157 MiB)\n"
     ]
    },
    {
     "data": {
      "image/png": "[encoded data removed]",
      "text/plain": [
       "96×480 Array{Gray{N0f8},2} with eltype Gray{N0f8}:\n",
       " Gray{N0f8}(0.0)  Gray{N0f8}(0.0)  …  Gray{N0f8}(0.0)  Gray{N0f8}(0.0)\n",
       " Gray{N0f8}(0.0)  Gray{N0f8}(0.0)     Gray{N0f8}(0.0)  Gray{N0f8}(0.0)\n",
       " Gray{N0f8}(0.0)  Gray{N0f8}(0.0)     Gray{N0f8}(0.0)  Gray{N0f8}(0.0)\n",
       " Gray{N0f8}(0.0)  Gray{N0f8}(0.0)     Gray{N0f8}(0.0)  Gray{N0f8}(0.0)\n",
       " Gray{N0f8}(0.0)  Gray{N0f8}(0.0)     Gray{N0f8}(0.0)  Gray{N0f8}(0.0)\n",
       " Gray{N0f8}(0.0)  Gray{N0f8}(0.0)  …  Gray{N0f8}(0.0)  Gray{N0f8}(0.0)\n",
       " Gray{N0f8}(0.0)  Gray{N0f8}(0.0)     Gray{N0f8}(0.0)  Gray{N0f8}(0.0)\n",
       " Gray{N0f8}(0.0)  Gray{N0f8}(0.0)     Gray{N0f8}(0.0)  Gray{N0f8}(0.0)\n",
       " Gray{N0f8}(0.0)  Gray{N0f8}(0.0)     Gray{N0f8}(0.0)  Gray{N0f8}(0.0)\n",
       " Gray{N0f8}(0.0)  Gray{N0f8}(0.0)     Gray{N0f8}(0.0)  Gray{N0f8}(0.0)\n",
       " Gray{N0f8}(0.0)  Gray{N0f8}(0.0)  …  Gray{N0f8}(0.0)  Gray{N0f8}(0.0)\n",
       " Gray{N0f8}(0.0)  Gray{N0f8}(0.0)     Gray{N0f8}(0.0)  Gray{N0f8}(0.0)\n",
       " Gray{N0f8}(0.0)  Gray{N0f8}(0.0)     Gray{N0f8}(0.0)  Gray{N0f8}(0.0)\n",
       " ⋮                                 ⋱                   \n",
       " Gray{N0f8}(0.0)  Gray{N0f8}(0.0)     Gray{N0f8}(0.0)  Gray{N0f8}(0.0)\n",
       " Gray{N0f8}(0.0)  Gray{N0f8}(0.0)  …  Gray{N0f8}(0.0)  Gray{N0f8}(0.0)\n",
       " Gray{N0f8}(0.0)  Gray{N0f8}(0.0)     Gray{N0f8}(0.0)  Gray{N0f8}(0.0)\n",
       " Gray{N0f8}(0.0)  Gray{N0f8}(0.0)     Gray{N0f8}(0.0)  Gray{N0f8}(0.0)\n",
       " Gray{N0f8}(0.0)  Gray{N0f8}(0.0)     Gray{N0f8}(0.0)  Gray{N0f8}(0.0)\n",
       " Gray{N0f8}(0.0)  Gray{N0f8}(0.0)     Gray{N0f8}(0.0)  Gray{N0f8}(0.0)\n",
       " Gray{N0f8}(0.0)  Gray{N0f8}(0.0)  …  Gray{N0f8}(0.0)  Gray{N0f8}(0.0)\n",
       " Gray{N0f8}(0.0)  Gray{N0f8}(0.0)     Gray{N0f8}(0.0)  Gray{N0f8}(0.0)\n",
       " Gray{N0f8}(0.0)  Gray{N0f8}(0.0)     Gray{N0f8}(0.0)  Gray{N0f8}(0.0)\n",
       " Gray{N0f8}(0.0)  Gray{N0f8}(0.0)     Gray{N0f8}(0.0)  Gray{N0f8}(0.0)\n",
       " Gray{N0f8}(0.0)  Gray{N0f8}(0.0)     Gray{N0f8}(0.0)  Gray{N0f8}(0.0)\n",
       " Gray{N0f8}(0.0)  Gray{N0f8}(0.0)  …  Gray{N0f8}(0.0)  Gray{N0f8}(0.0)"
      ]
     },
     "execution_count": 155,
     "metadata": {},
     "output_type": "execute_result"
    }
   ],
   "source": [
    "@time A = colorview(Gray, get_item(main_dataset, 1)[4][2] |> channelview)"
   ]
  },
  {
   "cell_type": "markdown",
   "id": "e1d41929-714b-482a-951c-b4705e408cdd",
   "metadata": {},
   "source": [
    "### Convert Image to ChannelView"
   ]
  },
  {
   "cell_type": "code",
   "execution_count": 139,
   "id": "df1fcc47-e25c-45a5-b82c-89fffd3b540e",
   "metadata": {},
   "outputs": [
    {
     "name": "stdout",
     "output_type": "stream",
     "text": [
      "  0.010849 seconds (3.66 k allocations: 5.157 MiB)\n"
     ]
    },
    {
     "data": {
      "text/plain": [
       "3×240×480 reinterpret(reshape, N0f8, ::Array{RGB{N0f8},2}) with eltype N0f8:\n",
       "[:, :, 1] =\n",
       " 0.537  0.537  0.537  0.537  0.537  …  0.573  0.573  0.576  0.576  0.576\n",
       " 0.486  0.486  0.486  0.486  0.486     0.569  0.569  0.573  0.573  0.573\n",
       " 0.451  0.451  0.451  0.451  0.451     0.588  0.588  0.592  0.592  0.592\n",
       "\n",
       "[:, :, 2] =\n",
       " 0.537  0.537  0.537  0.537  0.537  …  0.573  0.573  0.576  0.576  0.576\n",
       " 0.486  0.486  0.486  0.486  0.486     0.569  0.569  0.573  0.573  0.573\n",
       " 0.451  0.451  0.451  0.451  0.451     0.588  0.588  0.592  0.592  0.592\n",
       "\n",
       "[:, :, 3] =\n",
       " 0.541  0.541  0.541  0.541  0.541  …  0.573  0.576  0.576  0.576  0.576\n",
       " 0.486  0.486  0.486  0.486  0.486     0.569  0.573  0.573  0.573  0.573\n",
       " 0.443  0.443  0.443  0.443  0.443     0.588  0.592  0.592  0.592  0.592\n",
       "\n",
       "...\n",
       "\n",
       "[:, :, 478] =\n",
       " 0.812  0.812  0.812  0.812  0.816  …  0.451  0.455  0.459  0.467  0.471\n",
       " 0.675  0.675  0.675  0.675  0.678     0.455  0.459  0.463  0.471  0.475\n",
       " 0.525  0.525  0.525  0.525  0.529     0.475  0.478  0.482  0.49   0.494\n",
       "\n",
       "[:, :, 479] =\n",
       " 0.812  0.812  0.812  0.816  0.816  …  0.447  0.451  0.455  0.463  0.467\n",
       " 0.675  0.675  0.675  0.678  0.678     0.451  0.455  0.459  0.467  0.471\n",
       " 0.525  0.525  0.525  0.529  0.529     0.471  0.475  0.478  0.486  0.49\n",
       "\n",
       "[:, :, 480] =\n",
       " 0.812  0.812  0.812  0.816  0.816  …  0.447  0.447  0.451  0.459  0.463\n",
       " 0.675  0.675  0.675  0.678  0.678     0.451  0.451  0.455  0.463  0.467\n",
       " 0.525  0.525  0.525  0.529  0.529     0.471  0.471  0.475  0.482  0.486"
      ]
     },
     "execution_count": 139,
     "metadata": {},
     "output_type": "execute_result"
    }
   ],
   "source": [
    "@time image = get_item(main_dataset, 1)[1]"
   ]
  },
  {
   "cell_type": "code",
   "execution_count": 111,
   "id": "ea983fc7-c3b1-4017-a129-59621fbe17c8",
   "metadata": {},
   "outputs": [
    {
     "data": {
      "text/plain": [
       "3×240×480 reinterpret(reshape, N0f8, ::Array{RGB{N0f8},2}) with eltype N0f8:\n",
       "[:, :, 1] =\n",
       " 0.537  0.537  0.537  0.537  0.537  …  0.573  0.573  0.576  0.576  0.576\n",
       " 0.486  0.486  0.486  0.486  0.486     0.569  0.569  0.573  0.573  0.573\n",
       " 0.451  0.451  0.451  0.451  0.451     0.588  0.588  0.592  0.592  0.592\n",
       "\n",
       "[:, :, 2] =\n",
       " 0.537  0.537  0.537  0.537  0.537  …  0.573  0.573  0.576  0.576  0.576\n",
       " 0.486  0.486  0.486  0.486  0.486     0.569  0.569  0.573  0.573  0.573\n",
       " 0.451  0.451  0.451  0.451  0.451     0.588  0.588  0.592  0.592  0.592\n",
       "\n",
       "[:, :, 3] =\n",
       " 0.541  0.541  0.541  0.541  0.541  …  0.573  0.576  0.576  0.576  0.576\n",
       " 0.486  0.486  0.486  0.486  0.486     0.569  0.573  0.573  0.573  0.573\n",
       " 0.443  0.443  0.443  0.443  0.443     0.588  0.592  0.592  0.592  0.592\n",
       "\n",
       "...\n",
       "\n",
       "[:, :, 478] =\n",
       " 0.812  0.812  0.812  0.812  0.816  …  0.451  0.455  0.459  0.467  0.471\n",
       " 0.675  0.675  0.675  0.675  0.678     0.455  0.459  0.463  0.471  0.475\n",
       " 0.525  0.525  0.525  0.525  0.529     0.475  0.478  0.482  0.49   0.494\n",
       "\n",
       "[:, :, 479] =\n",
       " 0.812  0.812  0.812  0.816  0.816  …  0.447  0.451  0.455  0.463  0.467\n",
       " 0.675  0.675  0.675  0.678  0.678     0.451  0.455  0.459  0.467  0.471\n",
       " 0.525  0.525  0.525  0.529  0.529     0.471  0.475  0.478  0.486  0.49\n",
       "\n",
       "[:, :, 480] =\n",
       " 0.812  0.812  0.812  0.816  0.816  …  0.447  0.447  0.451  0.459  0.463\n",
       " 0.675  0.675  0.675  0.678  0.678     0.451  0.451  0.455  0.463  0.467\n",
       " 0.525  0.525  0.525  0.529  0.529     0.471  0.471  0.475  0.482  0.486"
      ]
     },
     "execution_count": 111,
     "metadata": {},
     "output_type": "execute_result"
    }
   ],
   "source": [
    "image |> channelview"
   ]
  },
  {
   "cell_type": "code",
   "execution_count": null,
   "id": "8d7bb87d-b66e-4892-9314-caa32865fcfb",
   "metadata": {},
   "outputs": [],
   "source": []
  }
 ],
 "metadata": {
  "interpreter": {
   "hash": "31f2aee4e71d21fbe5cf8b01ff0e069b9275f58929596ceb00d14d90e3e16cd6"
  },
  "kernelspec": {
   "display_name": "Julia 1.6.3",
   "language": "julia",
   "name": "julia-1.6"
  },
  "language_info": {
   "file_extension": ".jl",
   "mimetype": "application/julia",
   "name": "julia",
   "version": "1.6.3"
  }
 },
 "nbformat": 4,
 "nbformat_minor": 5
}
