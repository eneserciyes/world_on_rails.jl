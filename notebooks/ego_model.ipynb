{
 "cells": [
  {
   "cell_type": "code",
   "execution_count": 1,
   "metadata": {},
   "outputs": [],
   "source": [
    "using Knet: nll, Param, KnetArray, progress\n",
    "\n",
    "#import Pkg\n",
    "#Pkg.add(\"Knet\")"
   ]
  },
  {
   "cell_type": "code",
   "execution_count": 2,
   "metadata": {},
   "outputs": [],
   "source": [
    "using ArgParse\n",
    "#using ProgressMeter"
   ]
  },
  {
   "cell_type": "markdown",
   "metadata": {},
   "source": [
    "## Defining the Ego model here\n"
   ]
  },
  {
   "cell_type": "code",
   "execution_count": 6,
   "metadata": {},
   "outputs": [],
   "source": [
    "struct Ego\n",
    "    dt::Float64\n",
    "    front_wb::KnetArray\n",
    "    rear_wb::KnetArray\n",
    "    steer_gain::KnetArray\n",
    "    brake_accel::KnetArray\n",
    "    throt_accel\n",
    "end\n",
    "\n",
    "# forward function\n",
    "function (e::Ego)(locs, yaws, spds, acts) \n",
    "    steer = selectdim(acts, ndims(acts), 1:1)\n",
    "    throt = selectdim(acts, ndims(acts), 2:2)\n",
    "    brake = floor.(selectdim(acts, ndims(acts), 3:3))\n",
    "    \n",
    "end"
   ]
  }
 ],
 "metadata": {
  "kernelspec": {
   "display_name": "Julia 1.6.3",
   "language": "julia",
   "name": "julia-1.6"
  },
  "language_info": {
   "file_extension": ".jl",
   "mimetype": "application/julia",
   "name": "julia",
   "version": "1.6.3"
  }
 },
 "nbformat": 4,
 "nbformat_minor": 4
}
