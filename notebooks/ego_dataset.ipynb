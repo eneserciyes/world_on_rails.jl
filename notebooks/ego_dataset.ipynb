{
 "cells": [
  {
   "cell_type": "code",
   "execution_count": 2,
   "metadata": {},
   "outputs": [
    {
     "name": "stderr",
     "output_type": "stream",
     "text": [
      "\u001b[32m\u001b[1m  Activating\u001b[22m\u001b[39m environment at `~/avg/WoR/world_on_rails.jl/Project.toml`\n"
     ]
    }
   ],
   "source": [
    "using Pkg\n",
    "Pkg.activate(\"..\")"
   ]
  },
  {
   "cell_type": "code",
   "execution_count": 5,
   "metadata": {},
   "outputs": [],
   "source": [
    "using Revise\n",
    "using NPZ"
   ]
  },
  {
   "cell_type": "code",
   "execution_count": 6,
   "metadata": {},
   "outputs": [
    {
     "data": {
      "text/plain": [
       "\"/home/fguney/projects/e2e-drive/WoR/world_on_rails.jl/data/ego\""
      ]
     },
     "execution_count": 6,
     "metadata": {},
     "output_type": "execute_result"
    }
   ],
   "source": [
    "datadir = \"/home/fguney/projects/e2e-drive/WoR/world_on_rails.jl/data/ego\""
   ]
  },
  {
   "cell_type": "code",
   "execution_count": 4,
   "metadata": {},
   "outputs": [
    {
     "data": {
      "text/plain": [
       "\"/home/fguney/projects/e2e-drive/WoR/world_on_rails.jl/data/ego/abwuhllbdz/spd_00000.npy\""
      ]
     },
     "execution_count": 4,
     "metadata": {},
     "output_type": "execute_result"
    }
   ],
   "source": [
    "act_file = string(datadir, \"/\", \"abwuhllbdz\", \"/\", \"act_00000.npy\")\n",
    "loc_file = string(datadir, \"/\", \"abwuhllbdz\", \"/\", \"loc_00000.npy\")\n",
    "rot_file = string(datadir, \"/\", \"abwuhllbdz\", \"/\", \"rot_00000.npy\")\n",
    "spd_file = string(datadir, \"/\", \"abwuhllbdz\", \"/\", \"spd_00000.npy\")"
   ]
  },
  {
   "cell_type": "code",
   "execution_count": 5,
   "metadata": {},
   "outputs": [
    {
     "data": {
      "text/plain": [
       "3-element Vector{Float64}:\n",
       " -470.2023620605469\n",
       "  351.3232727050781\n",
       "    0.03357311338186264"
      ]
     },
     "execution_count": 5,
     "metadata": {},
     "output_type": "execute_result"
    }
   ],
   "source": [
    "y = npzread(loc_file)\n",
    "# 3-element Vector : x-y-z"
   ]
  },
  {
   "cell_type": "code",
   "execution_count": 6,
   "metadata": {},
   "outputs": [
    {
     "data": {
      "text/plain": [
       "3-element Vector{Float64}:\n",
       " -0.1794128268957138\n",
       " -0.01779264211654663\n",
       " 40.72077560424805"
      ]
     },
     "execution_count": 6,
     "metadata": {},
     "output_type": "execute_result"
    }
   ],
   "source": [
    "y = npzread(rot_file)\n",
    "# 3-element Vector : pitch-roll-yaw (degrees) (probably)"
   ]
  },
  {
   "cell_type": "code",
   "execution_count": 7,
   "metadata": {},
   "outputs": [
    {
     "data": {
      "text/plain": [
       "2.7323720824051927"
      ]
     },
     "execution_count": 7,
     "metadata": {},
     "output_type": "execute_result"
    }
   ],
   "source": [
    "y = npzread(spd_file)\n",
    "# 1-element: speed"
   ]
  },
  {
   "cell_type": "code",
   "execution_count": 8,
   "metadata": {},
   "outputs": [
    {
     "data": {
      "text/plain": [
       "3-element Vector{Float64}:\n",
       " -0.23145039569178105\n",
       "  0.13057274527775564\n",
       "  0.0"
      ]
     },
     "execution_count": 8,
     "metadata": {},
     "output_type": "execute_result"
    }
   ],
   "source": [
    "y = npzread(act_file)\n",
    "# 3-element: steer - throttle - break"
   ]
  },
  {
   "cell_type": "markdown",
   "metadata": {},
   "source": [
    "# DataLoader for Ego Model"
   ]
  },
  {
   "cell_type": "code",
   "execution_count": 7,
   "metadata": {},
   "outputs": [
    {
     "data": {
      "text/plain": [
       "4-element Vector{String}:\n",
       " \"@\"\n",
       " \"@v#.#\"\n",
       " \"@stdlib\"\n",
       " \"/home/enes/avg/WoR/world_on_rails.jl/src/data\""
      ]
     },
     "execution_count": 7,
     "metadata": {},
     "output_type": "execute_result"
    }
   ],
   "source": [
    "push!(LOAD_PATH, joinpath(dirname(pwd()), \"src\", \"data\"))"
   ]
  },
  {
   "cell_type": "code",
   "execution_count": 31,
   "metadata": {},
   "outputs": [],
   "source": [
    "import ego_dataset: EgoDataset, EgoDatasetLoader"
   ]
  },
  {
   "cell_type": "code",
   "execution_count": 97,
   "metadata": {},
   "outputs": [
    {
     "name": "stdout",
     "output_type": "stream",
     "text": [
      "len = 10\n",
      "len = 10\n",
      "len = 32\n",
      "len = 28\n",
      "len = 4\n",
      "len = 1\n",
      "len = 2\n",
      "len = 10\n",
      "len = 15\n"
     ]
    }
   ],
   "source": [
    "ego_dataset = EgoDataset(\"/home/enes/avg/WoR/world_on_rails.jl/data/ego_custom\", 10);"
   ]
  },
  {
   "cell_type": "markdown",
   "metadata": {},
   "source": [
    "Two methods for ego dataset:\n",
    "- length\n",
    "- get"
   ]
  },
  {
   "cell_type": "code",
   "execution_count": 98,
   "metadata": {},
   "outputs": [
    {
     "data": {
      "text/plain": [
       "51"
      ]
     },
     "execution_count": 98,
     "metadata": {},
     "output_type": "execute_result"
    }
   ],
   "source": [
    "length(ego_dataset)"
   ]
  },
  {
   "cell_type": "code",
   "execution_count": 108,
   "metadata": {},
   "outputs": [
    {
     "data": {
      "text/plain": [
       "10×3 Matrix{Float64}:\n",
       " -0.284432   0.314426  0.0\n",
       " -0.782174   0.970617  0.0\n",
       "  0.837265   0.60984   0.0\n",
       " -0.679338   0.271714  0.0\n",
       "  0.882033   0.147015  0.0\n",
       "  0.0        0.0       1.0\n",
       " -0.225541   0.504523  0.0\n",
       "  0.0        0.0       1.0\n",
       "  0.0320373  0.948369  0.0\n",
       "  0.0702325  0.972495  0.0"
      ]
     },
     "execution_count": 108,
     "metadata": {},
     "output_type": "execute_result"
    }
   ],
   "source": [
    "ego_dataset[9][4]"
   ]
  },
  {
   "cell_type": "code",
   "execution_count": 109,
   "metadata": {},
   "outputs": [],
   "source": [
    "loader = EgoDatasetLoader(ego_dataset, 16);"
   ]
  },
  {
   "cell_type": "code",
   "execution_count": 110,
   "metadata": {},
   "outputs": [
    {
     "name": "stdout",
     "output_type": "stream",
     "text": [
      "ids = 1:16\n"
     ]
    },
    {
     "ename": "LoadError",
     "evalue": "BoundsError: attempt to access 16-element Vector{NTuple{4, Matrix{Float64}}} at index [1]",
     "output_type": "error",
     "traceback": [
      "BoundsError: attempt to access 16-element Vector{NTuple{4, Matrix{Float64}}} at index [1]",
      "",
      "Stacktrace:",
      " [1] top-level scope",
      "   @ ./In[110]:1",
      " [2] eval",
      "   @ ./boot.jl:360 [inlined]",
      " [3] include_string(mapexpr::typeof(REPL.softscope), mod::Module, code::String, filename::String)",
      "   @ Base ./loading.jl:1116"
     ]
    }
   ],
   "source": [
    "for datum = loader\n",
    "    print(\"Test\")\n",
    "    data = datum\n",
    "    break\n",
    "end"
   ]
  },
  {
   "cell_type": "code",
   "execution_count": 34,
   "metadata": {},
   "outputs": [
    {
     "ename": "LoadError",
     "evalue": "UndefVarError: data not defined",
     "output_type": "error",
     "traceback": [
      "UndefVarError: data not defined",
      "",
      "Stacktrace:",
      " [1] top-level scope",
      "   @ :0",
      " [2] eval",
      "   @ ./boot.jl:360 [inlined]",
      " [3] include_string(mapexpr::typeof(REPL.softscope), mod::Module, code::String, filename::String)",
      "   @ Base ./loading.jl:1116"
     ]
    }
   ],
   "source": [
    "data"
   ]
  }
 ],
 "metadata": {
  "interpreter": {
   "hash": "0f9793792f9d89657e17c92452a5ddfd1a4a740813bfc1f79841e47813b71451"
  },
  "kernelspec": {
   "display_name": "Julia 1.6.3",
   "language": "julia",
   "name": "julia-1.6"
  },
  "language_info": {
   "file_extension": ".jl",
   "mimetype": "application/julia",
   "name": "julia",
   "version": "1.6.3"
  },
  "orig_nbformat": 4
 },
 "nbformat": 4,
 "nbformat_minor": 2
}
