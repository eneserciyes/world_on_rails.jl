{
 "cells": [
  {
   "cell_type": "markdown",
   "id": "d50ff681",
   "metadata": {},
   "source": [
    "## Data reading and manipulation"
   ]
  },
  {
   "cell_type": "code",
   "execution_count": 82,
   "id": "11504ede",
   "metadata": {},
   "outputs": [
    {
     "name": "stderr",
     "output_type": "stream",
     "text": [
      "\u001b[32m\u001b[1m  Activating\u001b[22m\u001b[39m environment at `~/avg/WoR/world_on_rails.jl/Project.toml`\n"
     ]
    }
   ],
   "source": [
    "# activate the environment\n",
    "using Pkg\n",
    "Pkg.activate(\"/home/enes/avg/WoR/world_on_rails.jl\")"
   ]
  },
  {
   "cell_type": "code",
   "execution_count": 83,
   "id": "ab5a783c",
   "metadata": {},
   "outputs": [],
   "source": [
    "using YAML: load_file\n",
    "using Images\n",
    "using Images.FileIO\n",
    "using StrLiterals\n",
    "using LMDB\n",
    "using LMDB: create, open, close, put!, start"
   ]
  },
  {
   "cell_type": "code",
   "execution_count": 11,
   "id": "592cf080",
   "metadata": {},
   "outputs": [
    {
     "data": {
      "text/plain": [
       "\"/home/enes/avg/WoR/world_on_rails.jl/configs/config.yaml\""
      ]
     },
     "execution_count": 11,
     "metadata": {},
     "output_type": "execute_result"
    }
   ],
   "source": [
    "DATA_ROOT = \"/home/enes/avg/WoR/dataset\"\n",
    "CONFIG_PATH = \"/home/enes/avg/WoR/world_on_rails.jl/configs/config.yaml\""
   ]
  },
  {
   "cell_type": "code",
   "execution_count": 15,
   "id": "c19b9d65",
   "metadata": {},
   "outputs": [],
   "source": [
    "struct MainDataset\n",
    "    config::Dict\n",
    "    num_frames::Int\n",
    "    txn_map::Dict\n",
    "    dbi_map::Dict\n",
    "    idx_map::Dict\n",
    "    yaw_map::Dict\n",
    "    file_map::Dict\n",
    "\n",
    "    function MainDataset(data_dir::AbstractString, config_path::AbstractString)\n",
    "        # read the config file\n",
    "        num_frames = 0\n",
    "        config = load_file(config_path)\n",
    "        txn_map = Dict()\n",
    "        dbi_map = Dict()\n",
    "        idx_map = Dict()\n",
    "        yaw_map = Dict()\n",
    "        file_map = Dict()\n",
    "        \n",
    "        for full_path in readdir(data_dir, join=true)\n",
    "            if !isdir(full_path)\n",
    "                continue\n",
    "            end\n",
    "            env = create()\n",
    "            open(env, full_path)\n",
    "            txn = start(env)\n",
    "\n",
    "            dbi = open(txn)\n",
    "            \n",
    "            n = parse(Int64, LMDB.get(txn, dbi, \"len\", String))\n",
    "            if n < config[\"num_plan\"]+1\n",
    "                print(full_path, \" is too small. consider deleting\")\n",
    "                close(env, dbi)\n",
    "            else\n",
    "                offset = num_frames\n",
    "                for i in 0:n-config[\"num_plan\"]-1\n",
    "                    num_frames+=1\n",
    "                    for j in 0:length(config[\"camera_yaws\"])-1\n",
    "                        txn_map[(offset+i)*length(config[\"camera_yaws\"])+j] = txn\n",
    "                        dbi_map[(offset+i)*length(config[\"camera_yaws\"])+j] = dbi\n",
    "                        idx_map[(offset+i)*length(config[\"camera_yaws\"])+j] = i\n",
    "                        yaw_map[(offset+i)*length(config[\"camera_yaws\"])+j] = j\n",
    "                        file_map[(offset+i)*length(config[\"camera_yaws\"])+j] = full_path\n",
    "                    end\n",
    "                end\n",
    "            end\n",
    "        end\n",
    "        print(data_dir,\": \", num_frames, \" frames \", \"x \", length(config[\"camera_yaws\"]))\n",
    "        new(config, num_frames, txn_map, dbi_map, idx_map, yaw_map, file_map)\n",
    "    end\n",
    "end"
   ]
  },
  {
   "cell_type": "code",
   "execution_count": 81,
   "id": "2036d03b",
   "metadata": {},
   "outputs": [
    {
     "data": {
      "text/plain": [
       "access (generic function with 1 method)"
      ]
     },
     "execution_count": 81,
     "metadata": {},
     "output_type": "execute_result"
    }
   ],
   "source": [
    "function access(d::MainDataset, tag::AbstractString, txn::Transaction, dbi::DBI, index::Int, T::Int, dtype::Type; preprocess = x->x)\n",
    "    try\n",
    "        data = preprocess.([LMDB.get(txn, dbi, \"$(tag)_$(lpad(t, 5, '0'))\", dtype) for t in index:index+(T-1)])\n",
    "        reduce(hcat, data)\n",
    "    catch\n",
    "        @show tag\n",
    "    end\n",
    "end"
   ]
  },
  {
   "cell_type": "code",
   "execution_count": 17,
   "id": "bf66cd33",
   "metadata": {},
   "outputs": [
    {
     "name": "stdout",
     "output_type": "stream",
     "text": [
      "/home/enes/avg/WoR/dataset: 195 frames x 3"
     ]
    },
    {
     "data": {
      "text/plain": [
       "MainDataset(Dict{Any, Any}(\"ego_model_dir\" => \"/kuacc/users/merciyes18/WorldOnRails/ego_model.th\", \"num_plan\" => 5, \"camera_yaws\" => [0, -30, 30], \"multi_cam\" => true, \"num_orient\" => 5, \"num_throts\" => 3, \"all_speeds\" => true, \"temperature\" => 0.01, \"ego_data_dir\" => [\"PATH TO PHASE 0 DATA\"], \"min_speeds\" => 0.0…), 195, Dict{Any, Any}(319 => Transaction(Ptr{Nothing} @0x00000000067b9a50), 185 => Transaction(Ptr{Nothing} @0x00000000067b9a50), 420 => Transaction(Ptr{Nothing} @0x00000000067b9a50), 525 => Transaction(Ptr{Nothing} @0x00000000067b9a50), 365 => Transaction(Ptr{Nothing} @0x00000000067b9a50), 263 => Transaction(Ptr{Nothing} @0x00000000067b9a50), 422 => Transaction(Ptr{Nothing} @0x00000000067b9a50), 242 => Transaction(Ptr{Nothing} @0x00000000067b9a50), 183 => Transaction(Ptr{Nothing} @0x00000000067b9a50), 551 => Transaction(Ptr{Nothing} @0x00000000067b9a50)…), Dict{Any, Any}(319 => DBI(0x00000001, \"\"), 185 => DBI(0x00000001, \"\"), 420 => DBI(0x00000001, \"\"), 525 => DBI(0x00000001, \"\"), 365 => DBI(0x00000001, \"\"), 263 => DBI(0x00000001, \"\"), 422 => DBI(0x00000001, \"\"), 242 => DBI(0x00000001, \"\"), 183 => DBI(0x00000001, \"\"), 551 => DBI(0x00000001, \"\")…), Dict{Any, Any}(319 => 106, 185 => 61, 420 => 140, 525 => 175, 365 => 121, 263 => 87, 422 => 140, 242 => 80, 183 => 61, 551 => 183…), Dict{Any, Any}(319 => 1, 185 => 2, 420 => 0, 525 => 0, 365 => 2, 263 => 2, 422 => 2, 242 => 2, 183 => 0, 551 => 2…), Dict{Any, Any}(319 => \"/home/enes/avg/WoR/dataset/adyhsylssx\", 185 => \"/home/enes/avg/WoR/dataset/adyhsylssx\", 420 => \"/home/enes/avg/WoR/dataset/adyhsylssx\", 525 => \"/home/enes/avg/WoR/dataset/adyhsylssx\", 365 => \"/home/enes/avg/WoR/dataset/adyhsylssx\", 263 => \"/home/enes/avg/WoR/dataset/adyhsylssx\", 422 => \"/home/enes/avg/WoR/dataset/adyhsylssx\", 242 => \"/home/enes/avg/WoR/dataset/adyhsylssx\", 183 => \"/home/enes/avg/WoR/dataset/adyhsylssx\", 551 => \"/home/enes/avg/WoR/dataset/adyhsylssx\"…))"
      ]
     },
     "execution_count": 17,
     "metadata": {},
     "output_type": "execute_result"
    }
   ],
   "source": [
    "main_dataset = MainDataset(DATA_ROOT, CONFIG_PATH)"
   ]
  },
  {
   "cell_type": "code",
   "execution_count": 18,
   "id": "bb3a68ca-db3f-4def-9857-9a7a994d7cb6",
   "metadata": {},
   "outputs": [],
   "source": [
    "Base.length(d::MainDataset) = (if (d.config[\"multi_cam\"]) d.num_frames*length(d.config[\"camera_yaws\"]) else d.num_frames end)"
   ]
  },
  {
   "cell_type": "code",
   "execution_count": 19,
   "id": "aaffc353-ef06-4151-89de-81a4e7c779a6",
   "metadata": {},
   "outputs": [
    {
     "data": {
      "text/plain": [
       "585"
      ]
     },
     "execution_count": 19,
     "metadata": {},
     "output_type": "execute_result"
    }
   ],
   "source": [
    "length(main_dataset)"
   ]
  },
  {
   "cell_type": "code",
   "execution_count": 58,
   "id": "0ec9a710-a52e-44a6-b4c9-8cc5a2c4bdef",
   "metadata": {},
   "outputs": [
    {
     "data": {
      "text/plain": [
       "get_item (generic function with 1 method)"
      ]
     },
     "execution_count": 58,
     "metadata": {},
     "output_type": "execute_result"
    }
   ],
   "source": [
    "function get_item(d::MainDataset, state::Int)\n",
    "    T = d.config[\"num_plan\"]\n",
    "    idx = state\n",
    "    if !d.config[\"multi_cam\"]\n",
    "        idx *= length(d.config[\"camera_yaws\"])\n",
    "    end\n",
    "    \n",
    "    lmdb_txn = d.txn_map[idx]\n",
    "    lmdb_dbi = d.dbi_map[idx]\n",
    "    index = d.idx_map[idx]\n",
    "    cam_index = d.yaw_map[idx]\n",
    "\n",
    "    locs = access(d, \"loc\", lmdb_txn, lmdb_dbi, index, T+1, Vector{Float32})\n",
    "    rots = access(d, \"rot\", lmdb_txn, lmdb_dbi, index, T, Vector{Float32})\n",
    "    spds = access(d, \"spd\", lmdb_txn, lmdb_dbi, index, T, Vector{Float32})\n",
    "    \n",
    "    decode = (x -> FileIO.load(IOBuffer(x)))\n",
    "    lbls = [access(d, \"lbl_$(lpad(l, 2, '0'))\", lmdb_txn, lmdb_dbi, index+1, T, Vector{UInt8}; preprocess=decode) for l in 0:11]\n",
    "    wide_rgb = access(d, \"wide_$(cam_index)\", lmdb_txn, lmdb_dbi, index, 1, Vector{UInt8}; preprocess=decode)\n",
    "    wide_sem = access(d, \"wide_sem_$(cam_index)\", lmdb_txn, lmdb_dbi, index, 1, Vector{UInt8}; preprocess=decode)\n",
    "    narr_rgb = access(d, \"narr_$(cam_index)\", lmdb_txn, lmdb_dbi, index, 1, Vector{UInt8}; preprocess=decode)\n",
    "    \n",
    "    cmd = access(d, \"cmd\", lmdb_txn, lmdb_dbi, index, 1, Vector{Float32})\n",
    "    wide_rgb, wide_sem, narr_rgb, lbls, locs, rots, spds, cmd\n",
    "end"
   ]
  },
  {
   "cell_type": "code",
   "execution_count": 59,
   "id": "95910621-b994-4261-90f0-31178ebc7908",
   "metadata": {},
   "outputs": [],
   "source": [
    "Base.iterate(d::MainDataset, state=1) = state > length(d) ? nothing : get_item(d, state), state+1 "
   ]
  },
  {
   "cell_type": "code",
   "execution_count": 80,
   "id": "f496b78b-dbfd-4e6b-babb-cf457b84054e",
   "metadata": {},
   "outputs": [
    {
     "data": {
      "image/png": "[encoded data removed]",
      "text/plain": [
       "96×480 Array{Gray{N0f8},2} with eltype Gray{N0f8}:\n",
       " Gray{N0f8}(0.0)  Gray{N0f8}(0.0)  …  Gray{N0f8}(0.0)  Gray{N0f8}(0.0)\n",
       " Gray{N0f8}(0.0)  Gray{N0f8}(0.0)     Gray{N0f8}(0.0)  Gray{N0f8}(0.0)\n",
       " Gray{N0f8}(0.0)  Gray{N0f8}(0.0)     Gray{N0f8}(0.0)  Gray{N0f8}(0.0)\n",
       " Gray{N0f8}(0.0)  Gray{N0f8}(0.0)     Gray{N0f8}(0.0)  Gray{N0f8}(0.0)\n",
       " Gray{N0f8}(0.0)  Gray{N0f8}(0.0)     Gray{N0f8}(0.0)  Gray{N0f8}(0.0)\n",
       " Gray{N0f8}(0.0)  Gray{N0f8}(0.0)  …  Gray{N0f8}(0.0)  Gray{N0f8}(0.0)\n",
       " Gray{N0f8}(0.0)  Gray{N0f8}(0.0)     Gray{N0f8}(0.0)  Gray{N0f8}(0.0)\n",
       " Gray{N0f8}(0.0)  Gray{N0f8}(0.0)     Gray{N0f8}(0.0)  Gray{N0f8}(0.0)\n",
       " Gray{N0f8}(0.0)  Gray{N0f8}(0.0)     Gray{N0f8}(0.0)  Gray{N0f8}(0.0)\n",
       " Gray{N0f8}(0.0)  Gray{N0f8}(0.0)     Gray{N0f8}(0.0)  Gray{N0f8}(0.0)\n",
       " Gray{N0f8}(0.0)  Gray{N0f8}(0.0)  …  Gray{N0f8}(0.0)  Gray{N0f8}(0.0)\n",
       " Gray{N0f8}(0.0)  Gray{N0f8}(0.0)     Gray{N0f8}(0.0)  Gray{N0f8}(0.0)\n",
       " Gray{N0f8}(0.0)  Gray{N0f8}(0.0)     Gray{N0f8}(0.0)  Gray{N0f8}(0.0)\n",
       " ⋮                                 ⋱                   \n",
       " Gray{N0f8}(0.0)  Gray{N0f8}(0.0)     Gray{N0f8}(0.0)  Gray{N0f8}(0.0)\n",
       " Gray{N0f8}(0.0)  Gray{N0f8}(0.0)  …  Gray{N0f8}(0.0)  Gray{N0f8}(0.0)\n",
       " Gray{N0f8}(0.0)  Gray{N0f8}(0.0)     Gray{N0f8}(0.0)  Gray{N0f8}(0.0)\n",
       " Gray{N0f8}(0.0)  Gray{N0f8}(0.0)     Gray{N0f8}(0.0)  Gray{N0f8}(0.0)\n",
       " Gray{N0f8}(0.0)  Gray{N0f8}(0.0)     Gray{N0f8}(0.0)  Gray{N0f8}(0.0)\n",
       " Gray{N0f8}(0.0)  Gray{N0f8}(0.0)     Gray{N0f8}(0.0)  Gray{N0f8}(0.0)\n",
       " Gray{N0f8}(0.0)  Gray{N0f8}(0.0)  …  Gray{N0f8}(0.0)  Gray{N0f8}(0.0)\n",
       " Gray{N0f8}(0.0)  Gray{N0f8}(0.0)     Gray{N0f8}(0.0)  Gray{N0f8}(0.0)\n",
       " Gray{N0f8}(0.0)  Gray{N0f8}(0.0)     Gray{N0f8}(0.0)  Gray{N0f8}(0.0)\n",
       " Gray{N0f8}(0.0)  Gray{N0f8}(0.0)     Gray{N0f8}(0.0)  Gray{N0f8}(0.0)\n",
       " Gray{N0f8}(0.0)  Gray{N0f8}(0.0)     Gray{N0f8}(0.0)  Gray{N0f8}(0.0)\n",
       " Gray{N0f8}(0.0)  Gray{N0f8}(0.0)  …  Gray{N0f8}(0.0)  Gray{N0f8}(0.0)"
      ]
     },
     "execution_count": 80,
     "metadata": {},
     "output_type": "execute_result"
    }
   ],
   "source": [
    "A = get_item(main_dataset, 1)[4][2]"
   ]
  },
  {
   "cell_type": "code",
   "execution_count": 45,
   "id": "d5cf09c0-5abd-47b7-9619-2455f8788154",
   "metadata": {},
   "outputs": [
    {
     "data": {
      "text/html": [
       "<table><tbody><tr><td style='text-align:center;vertical-align:middle; margin: 0.5em;border:1px #90999f solid;border-collapse:collapse'><img style='max-width: 100px; max-height:100px;display:inline' src=\"data:image/png;base64,iVBORw0KGgoAAAANSUhEUgAAAMAAAADACAAAAAB3tzPbAAAABGdBTUEAALGPC/xhBQAAAAFzUkdCAK7OHOkAAAAgY0hSTQAAeiYAAICEAAD6AAAAgOgAAHUwAADqYAAAOpgAABdwnLpRPAAAAWZJREFUeAHVwUGKAzEQwEAZ9P8vd9jrXpI4hrGq5AfDrsUpEidxEidxEidxEidxEidxEidxEidxEidxEidxEifbhhtInDxgcY7ESZzESZzESZzESZzESZzEyVWGb0mcPGD4szhB4uQxwwkSJ3ESJ3ESJ3ESJ3ESJ3ESJ5uGO0icxEmcbBluIXEO7yz+G+4hcfKh4U4SJ28NN5M4iZM4iZM4iZM4iZM4iZM4iZM4iZM4iZM4iZM4iZM4iZM4iZM4iZM4iZM4iZM4iZM4iZM4iZM4iZM4iZM4iZM4iZM4iZM4iZM4iZM4ucziOxLnYtewa3GOxEmcxEmcxEmcxEmcxEmcxEmcxEmcxEmcxEmcxEmcxEmcxEmcxEmcxEmcxEmcxEmcxEmcxEmcxEmcxEmcxEmcxEmcxEmcxEmcxEmcxEmcxEmcxEmcxEmcxEmcxEmcxEmcxEmcxEmcxEmcxEmcxEmcxEmcxL0AT+EO/J4z384AAAAASUVORK5C\"></td><td style='text-align:center;vertical-align:middle; margin: 0.5em;border:1px #90999f solid;border-collapse:collapse'><img style='max-width: 100px; max-height:100px;display:inline' src=\"data:image/png;base64,iVBORw0KGgoAAAANSUhEUgAAAMAAAADACAAAAAB3tzPbAAAABGdBTUEAALGPC/xhBQAAAAFzUkdCAK7OHOkAAAAgY0hSTQAAeiYAAICEAAD6AAAAgOgAAHUwAADqYAAAOpgAABdwnLpRPAAAAXhJREFUeAHVwUFqA0EQwEA16P9f7tztYDKsCaMqeWwZ3i3Dq2X4NomTOImTOImTOImTOImTx4bfDO+G75M4iZM4iZM4iZM4iZM4iZM4iZM4iZM4iZM4iZM4iZM4iZM4iZM4iZM4iZM4ucpySuLkMsMZiZOrDKckTuIkTuIkTuIkTuIkTuIkTuIkTuIkTuIkTi6znJE4ucxwRuIkTuIkTuIkTuIkTuIkTuIkTuIkTuIkTuLkMssZiZOrLMMZiZOrDKckTuIkTuIkTuIkTuIkTuIkTuIkTuIkTuIkTq6ynJI4+WiB4f8MpyROPhpuJ3ESJ3ESJ3ESJ3ESJ3ESJ3ESJ3ESJ3ESJ3ESJ3ESJ3ESJ3ESJ3ESJ3ESJ3Hy2DK8WoZ3y/BtEicPLcPfLMP3SZzESZzESZzESZzESZzESZzESZzESZzESZzESZzESZzESZzESZzESZzESZzESZzESZzESZzESZzESZzESZzESZzESZzESZzESZzESdwPpQURBvCDqMEAAAAASUVORK5C\"></td><td style='text-align:center;vertical-align:middle; margin: 0.5em;border:1px #90999f solid;border-collapse:collapse'><img style='max-width: 100px; max-height:100px;display:inline' src=\"data:image/png;base64,iVBORw0KGgoAAAANSUhEUgAAAMAAAADACAAAAAB3tzPbAAAABGdBTUEAALGPC/xhBQAAAAFzUkdCAK7OHOkAAAAgY0hSTQAAeiYAAICEAAD6AAAAgOgAAHUwAADqYAAAOpgAABdwnLpRPAAAATVJREFUeAHVwTEBAAAAQDCH/pnlsMmczMmczMmczMmczMmczMmczMmczMmczMmczMmczMmczMmczMmczMmczMmczMmczMmczMmczMmczMmczMmczMmczMmczMmczMmczMmczMmczMmczMmczMmczMmczMmczMmczMmczMmczMmczMmczMmczMmczMmczMmczMmczMmczMmczMmczMmczMmczMmczMmczMmczMmczMmczMmczMmczMmczMmczMmczMmczMmczMmczMmczMmczMmczMmczMmczMmczMmczMmczMmczMmczMmczMmczMmczMmczMmczMmczMmczMmczMmczMmczMmczMmczMmczMmczMmczMmczMmczMmczMmczMmczMmczMmczMmczMmczMmczMmczAXfBgMBjd/SYAAAAABJRU5ErkJg\"></td><td style='text-align:center;vertical-align:middle; margin: 0.5em;border:1px #90999f solid;border-collapse:collapse'><img style='max-width: 100px; max-height:100px;display:inline' src=\"data:image/png;base64,iVBORw0KGgoAAAANSUhEUgAAAMAAAADACAAAAAB3tzPbAAAABGdBTUEAALGPC/xhBQAAAAFzUkdCAK7OHOkAAAAgY0hSTQAAeiYAAICEAAD6AAAAgOgAAHUwAADqYAAAOpgAABdwnLpRPAAAAU1JREFUeAHVwTkSQAAAwMCMycd4OD8zahqFM7sSJ3Fy2crRwHskTuIkTuIkTuIkTuIkTuIkTuIkTi4b+JLESZzESZzESZzESZzESZzESZzESZzESZzESZzESZzEya9NnJE4iZM4iZM4iZM4iZM4iZM4iZM4iZM4iZM4iZM4iZM4iZM4iZM4iZM4iZM4iZM4iZM4iZM4iZM4iZM4iZM4iZM4+bWZMxIncRIncRIncRIncRIncRIncRIncRIncRIncRIncRIncRIncRIncRIncRIncRIncRIncRIncRIncRIncRIncRIncRIncRIncRIncRIncRIncRIncRIncRIncRIncRIncRIncRIncRIncRInD1rYG7mfxEmcxEmcxEmcxEmcxEmcxEmcxEmcxEmcxEmcxEmcxEmcxEmcxEmcxEmcxEmcxEmcxEmcxEmcxG0TfAYDJlBe8AAAAABJRU5ErkJg\"></td><td style='text-align:center;vertical-align:middle; margin: 0.5em;border:1px #90999f solid;border-collapse:collapse'><img style='max-width: 100px; max-height:100px;display:inline' src=\"data:image/png;base64,iVBORw0KGgoAAAANSUhEUgAAAMAAAADACAAAAAB3tzPbAAAABGdBTUEAALGPC/xhBQAAAAFzUkdCAK7OHOkAAAAgY0hSTQAAeiYAAICEAAD6AAAAgOgAAHUwAADqYAAAOpgAABdwnLpRPAAAAT5JREFUeAHVwbENADAIwLAI5f+TER90bmyJkziJkziJkziJkziJkziJkziJkziJkziJkziJkziJkziJkziJkziJkziJkziJkziJkziJkziJkziJkziJkziJkziJkziJkziJkziJkziJkziJkziJkziJkziJkziJkziJkziJkziJkziJkziJkziJkziJkziX4W0Z/iVxwlImcRIncRIncRIncRIncRIncRIncRIncRIncRIncRIncRIncRIncRIncRIncRIncQ5tEidxEidxEidxEidxEidxEidxEidxEidxEidxEidxEidxEidxEidxEidxEidxEidxEidxEidxEidxEidxEidxEidxEidxEidxEidxEidxEidxEidxEidxEidxEidxEidxEidxEidxEidxEidxEidxEidxEidxEnfqwgYBYLOLIAAAAABJRU5ErkJg\"></td><td style='text-align:center;vertical-align:middle; margin: 0.5em;border:1px #90999f solid;border-collapse:collapse'><img style='max-width: 100px; max-height:100px;display:inline' src=\"data:image/png;base64,iVBORw0KGgoAAAANSUhEUgAAAMAAAADACAAAAAB3tzPbAAAABGdBTUEAALGPC/xhBQAAAAFzUkdCAK7OHOkAAAAgY0hSTQAAeiYAAICEAAD6AAAAgOgAAHUwAADqYAAAOpgAABdwnLpRPAAAATVJREFUeAHVwTEBAAAAQDCH/pnlsMmczMmczMmczMmczMmczMmczMmczMmczMmczMmczMmczMmczMmczMmczMmczMmczMmczMmczMmczMmczMmczMmczMmczMmczMmczMmczMmczMmczMmczMmczMmczMmczMmczMmczMmczMmczMmczMmczMmczMmczMmczMmczMmczMmczMmczMmczMmczMmczMmczMmczMmczMmczMmczMmczMmczMmczMmczMmczMmczMmczMmczMmczMmczMmczMmczMmczMmczMmczMmczMmczMmczMmczMmczMmczMmczMmczMmczMmczMmczMmczMmczMmczMmczMmczMmczMmczMmczMmczMmczMmczMmczMmczMmczMmczMmczMmczAXfBgMBjd/SYAAAAABJRU5ErkJg\"></td><td style='text-align:center;vertical-align:middle; margin: 0.5em;border:1px #90999f solid;border-collapse:collapse'><img style='max-width: 100px; max-height:100px;display:inline' src=\"data:image/png;base64,iVBORw0KGgoAAAANSUhEUgAAAMAAAADACAAAAAB3tzPbAAAABGdBTUEAALGPC/xhBQAAAAFzUkdCAK7OHOkAAAAgY0hSTQAAeiYAAICEAAD6AAAAgOgAAHUwAADqYAAAOpgAABdwnLpRPAAAAuNJREFUeAHVwbFq1XcABtDT9AMpbSx9AMkDiIu4uBQzpUsd8gBC9mYPXcRF3OMu5AFSaCcnQ5cswUXyAJIHaOmdRAglXEITozWJ/9+F75yY0AN7Lnpl1ThRLspFuRhu1UhRLspFuSgX5aJclItyUS7KRbmY0J7Fi3JRLsrFhH70p4teWTVOlItyUS7KRbkoF+WiXJSLclEuJvTex3xlpCgX5aJclItyUS7KxYT23bfvvD0PjBTlolyUi3JRLib13oduGCvKRbkoF0Ptu2+sKBeTOnDPget57DqiXAy0777Le+I6olxM7MA9BxYnysXk3jl1w3hRLspFuRjmtbvGi3IxuTfueGNRolwM8tpdixDlolyUiwHeuOOuxYhyMcTfLuNXc0/NPXZ1US6u4LGzvsGWjzn0k0/5xYmbTjx13hNXF+XiCp740DNsOe/Qbdxy5LxfnHhuWlEuvsgWnmHLqUO3nThyy5G5R7jpuRGiXHyxLTzzrU0cuu3UkVuO8MiOcaJcTGIL2x5acdaRW1btGCnKxWQe+t22TWet+s2ymXGiXEzkrRUntm069ciOE8uYGSPKxSTeWjG3adt3NrBux9wMy2ZGiHIxgbdW/GcTL2w4b2YZM1OLcnFtf5n7x4qL1u06b4Zjp5ZMI8rFZxw76xgzcz/4tD/8bNdFS04dm1vycccuJ8rFZyy5ng0vbPi0Jf9vyeVEuRhg3a5FiXIxuTW7Tmx4YcNoUS4G+t54US4mtualRYpyMdC6XevGinIxqTUvLVaUi3JRLia05qXz1u1aN1KUiwm9s3hRLga7aawoF+WiXJSLclEuykW5KBeDfW2sKBflolxMaM/iRbkoF+WiXJSLclEuykW5KBflolyUi3JRLspFuSgX5WJCD+xZtCgX5aJclItyUS7KRbkoF+WiXJSLclEuykW5KBflolyUi3JRLspFuSgX5aJclItyUS7KRbkoF+WiXJSLclEuykW5KPcvwItcgpwPJxAAAAAASUVORK5C\"></td><td style='text-align:center;vertical-align:middle; margin: 0.5em;border:1px #90999f solid;border-collapse:collapse'><img style='max-width: 100px; max-height:100px;display:inline' src=\"data:image/png;base64,iVBORw0KGgoAAAANSUhEUgAAAMAAAADACAAAAAB3tzPbAAAABGdBTUEAALGPC/xhBQAAAAFzUkdCAK7OHOkAAAAgY0hSTQAAeiYAAICEAAD6AAAAgOgAAHUwAADqYAAAOpgAABdwnLpRPAAAAm5JREFUeAHVwbFK3HcAwPEv8i0OpcQ3yJIHcO+SA/eAQ+cD54B7KSJ5AaGz4JwhkL2gS/Z7ABefoKadK+UooYVqPL3f/y7fz0cGes0V/3fJjOlInMRJnExuxpQkTuIkTuIkTuIkTuIkTuIkTga6YvMkTiZ3yYzpSJwMNOOSTZM4iZM4iZM4iZM4iZM4mdxfTEniZKBdNk/iZHIH/MYBU5E4iZM4iZM42YADPnDINCROBtrlIYd84JApSJzESZwM84aPPOyQC+aMJ3GyMXMumDOaxMkgb/jIY+Zc8CfwlnEkTgbZZRVzln5l6Q+++JmlE55D4mQL3nKfU55D4mSIn3jPdkicxEmcDHDEOdsicbK2I87ZHomTNR1xzjZJnKzhGDhjuyROnu2YM7ZP4uSZjjnjWyBx8mS/sPSO8U54OomTFZzwrzveMZVTnk7iZAWnfLskTuIkTuIkTuIkTuIkTuIkTuIkTuIkTuIkTh5xx3/t8MUeS7c8zWd+4B87fN0dq5E4ecQO97tlaQ+4ZTWfgResaofVSJys5RZ4xTWPuWGPF0xB4mRt17zimq+54SVTkTgZ4Jp9FjzkhpdMR+JkiAX7LLjf70xJ4mSQBfss2DyJk2G+5z4L9pmSxEmcxMkwn/iRT2yaxMnE9pmWxEmcxMlA37F5EidxEidxEidxEicTu2TGlCROBrpi8yRO4iRO4iRO4iRO4iRO4iRO4iRO4iRO4iRO4iRO4iROBnrNFZsmcRIncRIncRIncRIncRIncRIncRIncRIncRIncRIncRIncRIncRIncRIncRIncRIncRIncRIncRIncRIncX8DrzQ9PMx6eikAAAAASUVORK5C\"></td><td style='text-align:center;vertical-align:middle; margin: 0.5em;border:1px #90999f solid;border-collapse:collapse'><img style='max-width: 100px; max-height:100px;display:inline' src=\"data:image/png;base64,iVBORw0KGgoAAAANSUhEUgAAAMAAAADACAAAAAB3tzPbAAAABGdBTUEAALGPC/xhBQAAAAFzUkdCAK7OHOkAAAAgY0hSTQAAeiYAAICEAAD6AAAAgOgAAHUwAADqYAAAOpgAABdwnLpRPAAAAWtJREFUeAHVwcENgkAAAMGN2b6EygiVQWXEh/GjTzjJzsiFJnZ+bcyMI3ESJ3ESJ3ESJ3ESJ3ESJ3ESJ3ESJ3ESJ3ESJ3ESJ3ESJ3ESJ3ESJ3ESJ3ESJ3ESJ3ESJ3ESJ3ESJ3ESJ3ESJ3ESJ3ESJ3ESJ3ESJ3Fyu4UzJE5ut3KGxEmcxEmcxEmcxEmcxEmcxEmcxEmcxEmcxMkgCx87C+NInAtXevKx8rYxM5LEuXKdiZ1/kziJkziJkziJkziJkziJkziJkziJkziJkzgPRjsYSeJ8cJ2JnW8bMyNJnMRJnMRJnMRJnMRJnMRJnMRJnMRJnMRJnMRJnMRJnMRJnMRJnMRJnMRJnMRJnMRJnMRJnMRJnMRJnMRJnMRJnMRJnMRJnMRJnMRJnMRJnMRJnMRJnMRJnMRJnMRJnMRJnMRJnMRJnMRJnMRJnMRJnMRJnMRJnMRJnMRJnMRJnMRJnMRJnMRJnMRJnMRJ3Atrag99OtWzBAAAAABJRU5ErkJg\"></td><td style='text-align:center;vertical-align:middle; margin: 0.5em;border:1px #90999f solid;border-collapse:collapse'><img style='max-width: 100px; max-height:100px;display:inline' src=\"data:image/png;base64,iVBORw0KGgoAAAANSUhEUgAAAMAAAADACAAAAAB3tzPbAAAABGdBTUEAALGPC/xhBQAAAAFzUkdCAK7OHOkAAAAgY0hSTQAAeiYAAICEAAD6AAAAgOgAAHUwAADqYAAAOpgAABdwnLpRPAAAA0lJREFUeAHVwb+L1gUAB+CH+oBD+eMfkFvaJBBpceoEwa3gDRrtDlcPHG8JiSAcBV1FcQw6aBQCbwkXCUHcXI77AzLfpR90xcvxkq+eQfd+vxef54kBrdr2pocuGE+Ui3JRLspFuSgX5aJclItyUS7KRbkoF+WiXJSLclEuykW5KBflolyUi3JRLspFuRjdn8YU5aJclIvRvesHF40lykW5KBflolwM6rxHFm37y0VbJsYR5eJITGyZGEOUi3JRLgbzqV/84XXH/Gpm4p41w4tycWTW3LNmaFEuBvKp76163SPnPTS35p4pNgwnysVAjpl57COPvd2amVtmXpr73eFFuRjRI+cdZMNwolwM4nPf2vfYRx47OlEuBvebuWPGF+ViAFfc8X+JcrG0K+44yE/OGV+UiyVdcceipz701FGJcrGEa7jpYD855yhEuTi0a276/0W5OKRrbnqbpz50ztGIcvGffWnma//mhevmtl03niiX6w7nuoN8bO4r+x664FVXzZww843lRbl8ZRk3sGlu1TaeOYPTdi26aua2YUW5WMombmDT3DNnzOw6bde+yzjhtjFEuVjaJm54zwaeOWNu12m7uOy+8US5GMQmbvnOGa/adRr3jSnKxWA+wWc2vOoCjpsaT5SLgexYsWrbLRvmLrtv3dRxTI0jysUgdqzYt+GW961j4r59Uxw3NYYoFwPYseIfG7hr3aKp45gaWpSLQ/vZvpdWvGliy6Ip9sy9YxhRLnuWddKeN31hbs9B9gwjyuUdyziFF+ZWbds3seWudTx0wb5fcNLQolws5QU+8NyiiS2Ldpxy0hiiXCztuQ88949Ltsysu2vdzI4VY4lyMYDnznriTSfN7FgxnigXg3jirCdmLnlg0c/GFOViIE+c9bqJLWOLcjGY93DJA687a0xRLspFuRjMj1Y9sGhiy7iiXJSLcjGyE8YV5aJclItyUS7KRbkoF+ViZO8aV5SLclEuykW5KBflolyUi3JRLspFuSgX5aJclItyUS7KRbkoF+WiXJSLclEuykW5KBflolyUi3JRLspFuSgX5aJclItyUS7KRbkoF+WiXJSLclEuykW5KBflolyUi3JRLspFuSgX5aJclPsbyld/QXpvvLgAAAAASUVORK5C\"></td><td style='text-align:center;vertical-align:middle; margin: 0.5em;border:1px #90999f solid;border-collapse:collapse'><img style='max-width: 100px; max-height:100px;display:inline' src=\"data:image/png;base64,iVBORw0KGgoAAAANSUhEUgAAAMAAAADACAAAAAB3tzPbAAAABGdBTUEAALGPC/xhBQAAAAFzUkdCAK7OHOkAAAAgY0hSTQAAeiYAAICEAAD6AAAAgOgAAHUwAADqYAAAOpgAABdwnLpRPAAAAYhJREFUeAHVwTGKA0AMwEAV+rfxz48QTNorVzMSJ3ESJ3ESJ3ESJ3ESJ3ESJ3ESJ3ESJ3ESJ3ESJ3ESJ3ESJ3ESJ3ESJ3ESJ3ESJ3ESJ3ESJ3ESJ3ESJ3ESJ3ESJ3ESJ3ESJ3ESJ3ESJ3HypGE5w3KG5QwLSJzESZw8aFjOsJxhOcPyIXESJ3HynGE5w3KG5QzLl8TJw4blDMsZliNx8phh+b9B4uRZw3KG5QzLj8TJU4bla1jOsJxhOcMicRIncfKQYfkaljMsZ1jOsIDEyUOWs/wsP8vP8iFxEidxEidxEidxEidxEidxEidxEidxEidxEidxEidxEidxEidxEidxEidxEidxEidxEidxEidxEidxEidxEidxEidxEidxEidxEidxEidxEidxEidxEidxEidxEidxEidxEidxEidxEidxEidxEidxEidxEidxEidxEidxEidxEidxEidxEidxEidxEidxEidxEidxEidxEidxEidxEidxEidxEidxEidxEidxEidxf2ICIwVEKToFAAAAAElFTkSuQmCC\"></td><td style='text-align:center;vertical-align:middle; margin: 0.5em;border:1px #90999f solid;border-collapse:collapse'><img style='max-width: 100px; max-height:100px;display:inline' src=\"data:image/png;base64,iVBORw0KGgoAAAANSUhEUgAAAMAAAADACAAAAAB3tzPbAAAABGdBTUEAALGPC/xhBQAAAAFzUkdCAK7OHOkAAAAgY0hSTQAAeiYAAICEAAD6AAAAgOgAAHUwAADqYAAAOpgAABdwnLpRPAAAAZlJREFUeAHVwcGpXFEQxUAtlHdzMjfmMvwUnqokTuIkTuIkTuIkTuIkTuIkTuIkTuIkTuIkTuIkTuIkTuIkTuIkTuIkTuIkTuIkTuIkTuIkTuIkTuIkTuIkTuIkTuIkTuIkTuIkTuIkTuLkM47xc4yfY/wc4+cYIHHyGeMYzzjGM47xjGM84xgSJ3ESJx8yjvGMYzzjGM84xjMOiZNPGcd4xjGecYxnHOMZEidxEicfM47xjGM84xjPOMYjcfI54xjPOMYzjvGMY/wncRIncfJB4xjPOMYzjvGMY4DESZzEySeNP+PP+DP+kziJkziJkziJkziJkziJkziJkziJkziJkziJkziJkziJkziJkziJkziJkziJkziJkziJkziJkziJkziJkziJkziJkziJkziJkziJkziJkziJkziJkziJkziJkziJkziJkziJkziJkziJkziJkziJkziJkziJkziJkziJkziJkziJkziJkziJkziJkziJkziJkziJkziJkziJkziJkziJkziJkziJkziJkziJkziJk7h/LCgxH/pPQuYAAAAASUVORK5C\"></td></tr><tr><td style='text-align:center;vertical-align:middle; margin: 0.5em;border:1px #90999f solid;border-collapse:collapse'><img style='max-width: 100px; max-height:100px;display:inline' src=\"data:image/png;base64,iVBORw0KGgoAAAANSUhEUgAAAMAAAADACAAAAAB3tzPbAAAABGdBTUEAALGPC/xhBQAAAAFzUkdCAK7OHOkAAAAgY0hSTQAAeiYAAICEAAD6AAAAgOgAAHUwAADqYAAAOpgAABdwnLpRPAAAAWZJREFUeAHVwUGKAzEQwEAZ9P8vd9jrXpI4hrGq5AfDrsUpEidxEidxEidxEidxEidxEidxEidxEidxEidxEidxEidxEidxEifbhhtInDxgcY7ESZzESZzESZzESZzESZzEyVWGb0mcPGD4szhB4uQxwwkSJ3ESJ3ESJ3ESJ3ESJ3ESJ5uGO0icxEmcbBluIXEO7yz+G+4hcfKh4U4SJ28NN5M4iZM4iZM4iZM4iZM4iZM4iZM4iZM4iZM4iZM4iZM4iZM4iZM4iZM4iZM4iZM4iZM4iZM4iZM4iZM4iZM4iZM4iZM4iZM4iZM4iZM4ucziOxLnYtewa3GOxEmcxEmcxEmcxEmcxEmcxEmcxEmcxEmcxEmcxEmcxEmcxEmcxEmcxEmcxEmcxEmcxEmcxEmcxEmcxEmcxEmcxEmcxEmcxEmcxEmcxEmcxEmcxEmcxEmcxEmcxEmcxEmcxEmcxEmcxEmcxL0AoZEO/NPcFQcAAAAASUVORK5C\"></td><td style='text-align:center;vertical-align:middle; margin: 0.5em;border:1px #90999f solid;border-collapse:collapse'><img style='max-width: 100px; max-height:100px;display:inline' src=\"data:image/png;base64,iVBORw0KGgoAAAANSUhEUgAAAMAAAADACAAAAAB3tzPbAAAABGdBTUEAALGPC/xhBQAAAAFzUkdCAK7OHOkAAAAgY0hSTQAAeiYAAICEAAD6AAAAgOgAAHUwAADqYAAAOpgAABdwnLpRPAAAAXhJREFUeAHVwUFqA0EQwEA16P9f7tztYDKsCaMqeWwZ3i3Dq2X4NomTOImTOImTOImTOImTOImTOImTOImTx4bfDO+G75M4iZM4iZM4iZM4iZM4iZM4iZM4iZM4iZM4iZM4iZM4iZM4iZM4iZM4iZM4ucpySuLkMsMZiZOrDKckTuIkTuIkTuIkTuIkTuIkTuIkTuIkTuIkTi6znJE4ucxwRuIkTuIkTuIkTuIkTuIkTuIkTuIkTuIkTuLkMssZiZOrLMMZiZOrDKckTuIkTuIkTuIkTuIkTuIkTuIkTuIkTuIkTq6ynJI4+WiB4f8MpyROPhpuJ3ESJ3ESJ3ESJ3ESJ3ESJ3ESJ3ESJ3ESJ3ESJ3ESJ3ESJ3ESJ3ESJ3ESJ3Hy2DK8WoZ3y/BtEicPLcPfLMP3SZzESZzESZzESZzESZzESZzESZzESZzESZzESZzESZzESZzESZzESZzESZzESZzESZzESZzESZzESZzESZzESZzESdwPyXkRBuS/wdwAAAAASUVORK5C\"></td><td style='text-align:center;vertical-align:middle; margin: 0.5em;border:1px #90999f solid;border-collapse:collapse'><img style='max-width: 100px; max-height:100px;display:inline' src=\"data:image/png;base64,iVBORw0KGgoAAAANSUhEUgAAAMAAAADACAAAAAB3tzPbAAAABGdBTUEAALGPC/xhBQAAAAFzUkdCAK7OHOkAAAAgY0hSTQAAeiYAAICEAAD6AAAAgOgAAHUwAADqYAAAOpgAABdwnLpRPAAAATVJREFUeAHVwTEBAAAAQDCH/pnlsMmczMmczMmczMmczMmczMmczMmczMmczMmczMmczMmczMmczMmczMmczMmczMmczMmczMmczMmczMmczMmczMmczMmczMmczMmczMmczMmczMmczMmczMmczMmczMmczMmczMmczMmczMmczMmczMmczMmczMmczMmczMmczMmczMmczMmczMmczMmczMmczMmczMmczMmczMmczMmczMmczMmczMmczMmczMmczMmczMmczMmczMmczMmczMmczMmczMmczMmczMmczMmczMmczMmczMmczMmczMmczMmczMmczMmczMmczMmczMmczMmczMmczMmczMmczMmczMmczMmczMmczMmczMmczMmczMmczMmczMmczMmczMmczAXfBgMBjd/SYAAAAABJRU5ErkJg\"></td><td style='text-align:center;vertical-align:middle; margin: 0.5em;border:1px #90999f solid;border-collapse:collapse'><img style='max-width: 100px; max-height:100px;display:inline' src=\"data:image/png;base64,iVBORw0KGgoAAAANSUhEUgAAAMAAAADACAAAAAB3tzPbAAAABGdBTUEAALGPC/xhBQAAAAFzUkdCAK7OHOkAAAAgY0hSTQAAeiYAAICEAAD6AAAAgOgAAHUwAADqYAAAOpgAABdwnLpRPAAAAU1JREFUeAHVwTkSQAAAwMCMycd4OD8zahqFM7ty2crRwHskTuIkTuIkTuIkTuIkTuIkTuIkTuIkTuIkTuIkTuIkTi4b+JLESZzESZzESZzESZzESZzESZzESZzESZzESZzESZzEya9NnJE4iZM4iZM4iZM4iZM4iZM4iZM4iZM4iZM4iZM4iZM4iZM4iZM4iZM4iZM4iZM4iZM4iZM4iZM4iZM4iZM4iZM4+bWZMxIncRIncRIncRIncRIncRIncRIncRIncRIncRIncRIncRIncRIncRIncRIncRIncRIncRIncRIncRIncRIncRIncRIncRIncRIncRIncRIncRIncRIncRIncRIncRIncRIncRIncRIncRInD1rYG7mfxEmcxEmcxEmcxEmcxEmcxEmcxEmcxEmcxEmcxEmcxEmcxEmcxEmcxEmcxEmcxG1/+AYDPToyNAAAAABJRU5ErkJg\"></td><td style='text-align:center;vertical-align:middle; margin: 0.5em;border:1px #90999f solid;border-collapse:collapse'><img style='max-width: 100px; max-height:100px;display:inline' src=\"data:image/png;base64,iVBORw0KGgoAAAANSUhEUgAAAMAAAADACAAAAAB3tzPbAAAABGdBTUEAALGPC/xhBQAAAAFzUkdCAK7OHOkAAAAgY0hSTQAAeiYAAICEAAD6AAAAgOgAAHUwAADqYAAAOpgAABdwnLpRPAAAAT5JREFUeAHVwbENADAIwLAI5f+TESd0bWyJkziJkziJkziJkziJkziJkziJkziJkziJkziJkziJkziJkziJkziJkziJkziJkziJkziJkziJkziJkziJkziJkziJkziJkziJkziJkziJkziJkziJkziJkziJkziJkziJkziJkziJkziJkziJkziJkziJkziJkziJkziJkziX4WUZfiVxwlImcRIncRIncRIncRIncRIncRIncRIncRIncRIncRIncRIncRIncRIncRIncRIncQ5tEidxEidxEidxEidxEidxEidxEidxEidxEidxEidxEidxEidxEidxEidxEidxEidxEidxEidxEidxEidxEidxEidxEidxEidxEidxEidxEidxEidxEidxEidxEidxEidxEidxEidxEidxEidxEndV/wYB3vfSEwAAAABJRU5ErkJg\"></td><td style='text-align:center;vertical-align:middle; margin: 0.5em;border:1px #90999f solid;border-collapse:collapse'><img style='max-width: 100px; max-height:100px;display:inline' src=\"data:image/png;base64,iVBORw0KGgoAAAANSUhEUgAAAMAAAADACAAAAAB3tzPbAAAABGdBTUEAALGPC/xhBQAAAAFzUkdCAK7OHOkAAAAgY0hSTQAAeiYAAICEAAD6AAAAgOgAAHUwAADqYAAAOpgAABdwnLpRPAAAATVJREFUeAHVwTEBAAAAQDCH/pnlsMmczMmczMmczMmczMmczMmczMmczMmczMmczMmczMmczMmczMmczMmczMmczMmczMmczMmczMmczMmczMmczMmczMmczMmczMmczMmczMmczMmczMmczMmczMmczMmczMmczMmczMmczMmczMmczMmczMmczMmczMmczMmczMmczMmczMmczMmczMmczMmczMmczMmczMmczMmczMmczMmczMmczMmczMmczMmczMmczMmczMmczMmczMmczMmczMmczMmczMmczMmczMmczMmczMmczMmczMmczMmczMmczMmczMmczMmczMmczMmczMmczMmczMmczMmczMmczMmczMmczMmczMmczMmczMmczMmczMmczMmczMmczMmczAXfBgMBjd/SYAAAAABJRU5ErkJg\"></td><td style='text-align:center;vertical-align:middle; margin: 0.5em;border:1px #90999f solid;border-collapse:collapse'><img style='max-width: 100px; max-height:100px;display:inline' src=\"data:image/png;base64,iVBORw0KGgoAAAANSUhEUgAAAMAAAADACAAAAAB3tzPbAAAABGdBTUEAALGPC/xhBQAAAAFzUkdCAK7OHOkAAAAgY0hSTQAAeiYAAICEAAD6AAAAgOgAAHUwAADqYAAAOpgAABdwnLpRPAAAAuNJREFUeAHVwbFq1XcABtDT9AMpbSx9AMkDiIu4uBQzpUsd8gBC9mYPXcRF3OMu5AFSaCcnQ5cswUXyAJIHaOmdRAglXEITozWJ/9+F75yY0AN7Lnpl1ThRLspFuSgX5aJclItyUS6GWzVSlItyUS7KRbkoF+WiXJSLclEuJrRn8aJclItyMaEf/emiV1aNE+WiXJSLclEuykW5KBflolyUiwm99zFfGSnKRbkoF+WiXJSLcjGhffftO2/PAyNFuSgX5aJclItJvfehG8aKclEuysVQ++4bK8rFpA7cc+B6HruOKBcD7bvv8p64jigXEztwz4HFiXIxuXdO3TBelItyUS6Gee2u8aJcTO6NO95YlCgXg7x21yJEuSgX5WKAN+64azGiXAzxt8v41dxTc49dXZSLK3jsrG+w5WMO/eRTfnHiphNPnffE1UW5uIInPvQMW847dBu3HDnvFyeem1aUiy+yhWfYcurQbSeO3HJk7hFuem6EKBdfbAvPfGsTh247deSWIzyyY5woF5PYwraHVpx15JZVO0aKcjGZh363bdNZq36zbGacKBcTeWvFiW2bTj2y48QyZsaIcjGJt1bMbdr2nQ2s2zE3w7KZEaJcTOCtFf/ZxAsbzptZxszUolxc21/m/rHionW7zpvh2Kkl04hy8RnHzjrGzNwPPu0PP9t10ZJTx+aWfNyxy4ly8RlLrmfDCxs+bcn/W3I5US4GWLdrUaJcTG7NrhMbXtgwWpSLgb43XpSLia15aZGiXAy0bte6saJcTGrNS4sV5aJclIsJrXnpvHW71o0U5WJC7yxelIvBbhorykW5KBflolyUi3JRLsrFYF8bK8pFuSgXE9qzeFEuykW5KBflolyUi3JRLspFuSgX5aJclItyUS7KRbmY0AN7Fi3KRbkoF+WiXJSLclEuykW5KBflolyUi3JRLspFuSgX5aJclItyUS7KRbkoF+WiXJSLclEuykW5KPcv19FcgmIn+GgAAAAASUVORK5C\"></td><td style='text-align:center;vertical-align:middle; margin: 0.5em;border:1px #90999f solid;border-collapse:collapse'><img style='max-width: 100px; max-height:100px;display:inline' src=\"data:image/png;base64,iVBORw0KGgoAAAANSUhEUgAAAMAAAADACAAAAAB3tzPbAAAABGdBTUEAALGPC/xhBQAAAAFzUkdCAK7OHOkAAAAgY0hSTQAAeiYAAICEAAD6AAAAgOgAAHUwAADqYAAAOpgAABdwnLpRPAAAAm5JREFUeAHVwbFK3HcAwPEv8i0OpcQ3yJIHcO+SA/eAQ+cD54B7KSJ5AaGz4JwhkL2gS/Z7ABefoKadK+UooYVqPL3f/y7fz0cGes0V/3fJjOlInMRJnMRJnMRJnMRJnExuxpQkTuIkTuIkTuIkTuIkTuIkTga6YvMkTiZ3yYzpSJwMNOOSTZM4iZM4iZM4iZM4iZM4mdxfTEniZKBdNk/iZHIH/MYBU5E4iZM4iZM42YADPnDINCROBtrlIYd84JApSJzESZwM84aPPOyQC+aMJ3GyMXMumDOaxMkgb/jIY+Zc8CfwlnEkTgbZZRVzln5l6Q+++JmlE55D4mQL3nKfU55D4mSIn3jPdkicxEmcDHDEOdsicbK2I87ZHomTNR1xzjZJnKzhGDhjuyROnu2YM7ZP4uSZjjnjWyBx8mS/sPSO8U54OomTFZzwrzveMZVTnk7iZAWnfLskTuIkTuIkTuIkTuIkTuIkTuIkTuIkTuIkTh5xx3/t8MUeS7c8zWd+4B87fN0dq5E4ecQO97tlaQ+4ZTWfgResaofVSJys5RZ4xTWPuWGPF0xB4mRt17zimq+54SVTkTgZ4Jp9FjzkhpdMR+JkiAX7LLjf70xJ4mSQBfss2DyJk2G+5z4L9pmSxEmcxMkwn/iRT2yaxMnE9pmWxEmcxMlA37F5EidxEidxEidxEicTu2TGlCROBrpi8yRO4iRO4iRO4iRO4iRO4iRO4iRO4iRO4iRO4iRO4iROBnrNFZsmcRIncRIncRIncRIncRIncRIncRIncRIncRIncRIncRIncRIncRIncRIncRIncRIncRIncX8DRXA9PLEP15wAAAAASUVORK5C\"></td><td style='text-align:center;vertical-align:middle; margin: 0.5em;border:1px #90999f solid;border-collapse:collapse'><img style='max-width: 100px; max-height:100px;display:inline' src=\"data:image/png;base64,iVBORw0KGgoAAAANSUhEUgAAAMAAAADACAAAAAB3tzPbAAAABGdBTUEAALGPC/xhBQAAAAFzUkdCAK7OHOkAAAAgY0hSTQAAeiYAAICEAAD6AAAAgOgAAHUwAADqYAAAOpgAABdwnLpRPAAAAWtJREFUeAHVwcENgkAAAMGN2b6EygiVQWXEh/GjTzjJzsiFJnZ+bcyMI3ESJ3ESJ3ESJ3ESJ3ESJ3ESJ3ESJ3ESJ3ESJ3ESJ3ESJ3ESJ3ESJ3ESJ3ESJ3ESJ3ESJ3ESJ3ESJ3ESJ3ESJ3ESJ3ESJ3ESJ3ESJ3ESJ3ESJ3ESJ3Fyu4UzJE5ut3KGxEmcxEmcxEmcxEmcxEmcxEmcxEmcxEmcxMkgCx87C+NInAtXevKx8rYxM5LEuXKdiZ1/kziJkziJkziJkziJkziJkziJkziJkziJkzgPRjsYSeJ8cJ2JnW8bMyNJnMRJnMRJnMRJnMRJnMRJnMRJnMRJnMRJnMRJnMRJnMRJnMRJnMRJnMRJnMRJnMRJnMRJnMRJnMRJnMRJnMRJnMRJnMRJnMRJnMRJnMRJnMRJnMRJnMRJnMRJnMRJnMRJnMRJnMRJnMRJnMRJnMRJnMRJnMRJnMRJnMRJnMRJnMRJnMRJ3Av7sg99crBZ3wAAAABJRU5ErkJg\"></td><td style='text-align:center;vertical-align:middle; margin: 0.5em;border:1px #90999f solid;border-collapse:collapse'><img style='max-width: 100px; max-height:100px;display:inline' src=\"data:image/png;base64,iVBORw0KGgoAAAANSUhEUgAAAMAAAADACAAAAAB3tzPbAAAABGdBTUEAALGPC/xhBQAAAAFzUkdCAK7OHOkAAAAgY0hSTQAAeiYAAICEAAD6AAAAgOgAAHUwAADqYAAAOpgAABdwnLpRPAAAA0lJREFUeAHVwb+L1gUAB+CH+oBD+eMfkFvaJBBpceoEwa3gDRrtDlcPHG8JiSAcBV1FcQw6aBQCbwkXCUHcXI77AzLfpR90xcvxkq+eQfd+vxef54kBrdr2pocuGE+Ui3JRLspFuSgX5aJclItyUS7KRbkoF+WiXJSLclEuykW5KBflolyUi3JRLspFuSgX5aJclItyUS5G96cxRbkoF+VidO/6wUVjiXJRLspFuSgXgzrvkUXb/nLRlolxRLk4EhNbJsYQ5aJclIvBfOoXf3jdMb+ambhnzfCiXByZNfesGVqUi4F86nurXvfIeQ/Nrblnig3DiXIxkGNmHvvIY2+3ZuaWmZfmfnd4US5G9Mh5B9kwnCgXg/jct/Y99pHHjk6Ui8H9Zu6Y8UW5GMAVd/xfolws7Yo7DvKTc8YX5WJJV9yx6KkPPXVUolws4RpuOthPzjkKUS4O7Zqb/n9RLg7pmpve5qkPnXM0olz8Z1+a+dq/eeG6uW3XjSfK5brDue4gH5v7yr6HLnjVVTMnzHxjeVEuX1nGDWyaW7WNZ87gtF2Lrpq5bVhRLpayiRvYNPfMGTO7Ttu17zJOuG0MUS6Wtokb3rOBZ86Y23XaLi67bzxRLgaxiVu+c8ardp3GfWOKcjGYT/CZDa+6gOOmxhPlYiA7VqzadsuGucvuWzd1HFPjiHIxiB0r9m245X3rmLhv3xTHTY0hysUAdqz4xwbuWrdo6jimhhbl4tB+tu+lFW+a2LJoij1z7xhGlMueZZ20501fmNtzkD3DiHJ5xzJO4YW5Vdv2TWy5ax0PXbDvF5w0tCgXS3mBDzy3aGLLoh2nnDSGKBdLe+4Dz/3jki0z6+5aN7NjxViiXAzgubOeeNNJMztWjCfKxSCeOOuJmUseWPSzMUW5GMgTZ71uYsvYolwM5j1c8sDrzhpTlItyUS4G86NVDyya2DKuKBflolyM7IRxRbkoF+WiXJSLclEuykW5GNm7xhXlolyUi3JRLspFuSgX5aJclItyUS7KRbkoF+WiXJSLclEuykW5KBflolyUi3JRLspFuSgX5aJclItyUS7KRbkoF+WiXJSLclEuykW5KBflolyUi3JRLspFuSgX5aJclPsbrHB/QaQ8zf0AAAAASUVORK5C\"></td><td style='text-align:center;vertical-align:middle; margin: 0.5em;border:1px #90999f solid;border-collapse:collapse'><img style='max-width: 100px; max-height:100px;display:inline' src=\"data:image/png;base64,iVBORw0KGgoAAAANSUhEUgAAAMAAAADACAAAAAB3tzPbAAAABGdBTUEAALGPC/xhBQAAAAFzUkdCAK7OHOkAAAAgY0hSTQAAeiYAAICEAAD6AAAAgOgAAHUwAADqYAAAOpgAABdwnLpRPAAAAYhJREFUeAHVwTGKA0AMwEAV+rfxz48QTNorVzMSJ3ESJ3ESJ3ESJ3ESJ3ESJ3ESJ3ESJ3ESJ3ESJ3ESJ3ESJ3ESJ3ESJ3ESJ3ESJ3ESJ3ESJ3ESJ3ESJ3ESJ3ESJ3ESJ3ESJ3ESJ3ESJ3ESJ3ESJ3ESJ3HypGE5w3KG5QwLSJzESZw8aFjOsJxhOcPyIXESJ3HynGE5w3KG5QzLl8TJw4blDMsZliNx8phh+b9B4uRZw3KG5QzLj8TJU4bla1jOsJxhOcMicRIncfKQYfkaljMsZ1jOsIDEyUOWs/wsP8vP8iFxEidxEidxEidxEidxEidxEidxEidxEidxEidxEidxEidxEidxEidxEidxEidxEidxEidxEidxEidxEidxEidxEidxEidxEidxEidxEidxEidxEidxEidxEidxEidxEidxEidxEidxEidxEidxEidxEidxEidxEidxEidxEidxEidxEidxEidxEidxEidxEidxEidxEidxEidxEidxEidxEidxEidxf4drIwVPHFi4AAAAAElFTkSuQmCC\"></td><td style='text-align:center;vertical-align:middle; margin: 0.5em;border:1px #90999f solid;border-collapse:collapse'><img style='max-width: 100px; max-height:100px;display:inline' src=\"data:image/png;base64,iVBORw0KGgoAAAANSUhEUgAAAMAAAADACAAAAAB3tzPbAAAABGdBTUEAALGPC/xhBQAAAAFzUkdCAK7OHOkAAAAgY0hSTQAAeiYAAICEAAD6AAAAgOgAAHUwAADqYAAAOpgAABdwnLpRPAAAAZlJREFUeAHVwcGpXFEQxUAtlHdzMjfmMvwUnqokTuIkTuIkTuIkTuIkTuIkTuIkTuIkTuIkTuIkTuIkTuIkTuIkTuIkTuIkTuIkTuIkTuIkTuIkTuIkTuIkTuIkTuIkTuIkTuIkTuIkTuIkTuIkTuIkTuLkM47xc4yfY/wc4+cYIHHyGeMYzzjGM47xjGM84xgSJ3ESJx8yjvGMYzzjGM84xjMOiZNPGcd4xjGecYxnHOMZEidxEicfM47xjGM84xjPOMYjcfI54xjPOMYzjvGMY/wncRIncfJB4xjPOMYzjvGMY4DESZzEySeNP+PP+DP+kziJkziJkziJkziJkziJkziJkziJkziJkziJkziJkziJkziJkziJkziJkziJkziJkziJkziJkziJkziJkziJkziJkziJkziJkziJkziJkziJkziJkziJkziJkziJkziJkziJkziJkziJkziJkziJkziJkziJkziJkziJkziJkziJkziJkziJkziJkziJkziJkziJkziJkziJkziJkziJkziJkziJk7h/hDUxH8Uvdo8AAAAASUVORK5C\"></td></tr><tr><td style='text-align:center;vertical-align:middle; margin: 0.5em;border:1px #90999f solid;border-collapse:collapse'><img style='max-width: 100px; max-height:100px;display:inline' src=\"data:image/png;base64,iVBORw0KGgoAAAANSUhEUgAAAMAAAADACAAAAAB3tzPbAAAABGdBTUEAALGPC/xhBQAAAAFzUkdCAK7OHOkAAAAgY0hSTQAAeiYAAICEAAD6AAAAgOgAAHUwAADqYAAAOpgAABdwnLpRPAAAAWZJREFUeAHVwUGKAzEQwEAZ9P8vd9jrXpI4hrGq5AfDrsUpEidxEidxEidxEidxEidxEidxEidxEidxEidxEidxEidxEidxEidxEidxEidxEifbhhtInDxgcY7ESZzESZzESZzESZzESZzEyVWGb0mcPGD4szhB4uQxwwkSJ3ESJ3ESJ3ESJ3ESJ3ESJ5uGO0icxEmcbBluIXEO7yz+G+4hcfKh4U4SJ28NN5M4iZM4iZM4iZM4iZM4iZM4iZM4iZM4iZM4iZM4iZM4iZM4iZM4iZM4iZM4iZM4iZM4iZM4iZM4iZM4iZM4iZM4iZM4iZM4iZM4iZM4ucziOxLnYtewa3GOxEmcxEmcxEmcxEmcxEmcxEmcxEmcxEmcxEmcxEmcxEmcxEmcxEmcxEmcxEmcxEmcxEmcxEmcxEmcxEmcxEmcxEmcxEmcxEmcxEmcxEmcxEmcxEmcxEmcxEmcxEmcxEmcxL0A80EO/M0SXsEAAAAASUVORK5C\"></td><td style='text-align:center;vertical-align:middle; margin: 0.5em;border:1px #90999f solid;border-collapse:collapse'><img style='max-width: 100px; max-height:100px;display:inline' src=\"data:image/png;base64,iVBORw0KGgoAAAANSUhEUgAAAMAAAADACAAAAAB3tzPbAAAABGdBTUEAALGPC/xhBQAAAAFzUkdCAK7OHOkAAAAgY0hSTQAAeiYAAICEAAD6AAAAgOgAAHUwAADqYAAAOpgAABdwnLpRPAAAAXhJREFUeAHVwUFqA0EQwEA16P9f7tztYDKsCaMqeWwZ3i3Dq2X4NomTOImTOImTOImTOImTOImTOImTOImTOImTOImTOImTx4bfDO+G75M4iZM4iZM4iZM4iZM4iZM4iZM4iZM4iZM4iZM4iZM4iZM4iZM4iZM4iZM4ucpySuLkMsMZiZOrDKckTuIkTuIkTuIkTuIkTuIkTuIkTuIkTuIkTi6znJE4ucxwRuIkTuIkTuIkTuIkTuIkTuIkTuIkTuIkTuLkMssZiZOrLMMZiZOrDKckTuIkTuIkTuIkTuIkTuIkTuIkTuIkTuIkTq6ynJI4+WiB4f8MpyROPhpuJ3ESJ3ESJ3ESJ3ESJ3ESJ3ESJ3ESJ3ESJ3ESJ3ESJ3ESJ3ESJ3ESJ3ESJ3Hy2DK8WoZ3y/BtEicPLcPfLMP3SZzESZzESZzESZzESZzESZzESZzESZzESZzESZzESZzESZzESZzESZzESZzESZzESZzESZzESZzESdwP7e0RBoLT5QMAAAAASUVORK5C\"></td><td style='text-align:center;vertical-align:middle; margin: 0.5em;border:1px #90999f solid;border-collapse:collapse'><img style='max-width: 100px; max-height:100px;display:inline' src=\"data:image/png;base64,iVBORw0KGgoAAAANSUhEUgAAAMAAAADACAAAAAB3tzPbAAAABGdBTUEAALGPC/xhBQAAAAFzUkdCAK7OHOkAAAAgY0hSTQAAeiYAAICEAAD6AAAAgOgAAHUwAADqYAAAOpgAABdwnLpRPAAAATVJREFUeAHVwTEBAAAAQDCH/pnlsMmczMmczMmczMmczMmczMmczMmczMmczMmczMmczMmczMmczMmczMmczMmczMmczMmczMmczMmczMmczMmczMmczMmczMmczMmczMmczMmczMmczMmczMmczMmczMmczMmczMmczMmczMmczMmczMmczMmczMmczMmczMmczMmczMmczMmczMmczMmczMmczMmczMmczMmczMmczMmczMmczMmczMmczMmczMmczMmczMmczMmczMmczMmczMmczMmczMmczMmczMmczMmczMmczMmczMmczMmczMmczMmczMmczMmczMmczMmczMmczMmczMmczMmczMmczMmczMmczMmczMmczMmczMmczMmczMmczMmczMmczMmczMmczAXfBgMBjd/SYAAAAABJRU5ErkJg\"></td><td style='text-align:center;vertical-align:middle; margin: 0.5em;border:1px #90999f solid;border-collapse:collapse'><img style='max-width: 100px; max-height:100px;display:inline' src=\"data:image/png;base64,iVBORw0KGgoAAAANSUhEUgAAAMAAAADACAAAAAB3tzPbAAAABGdBTUEAALGPC/xhBQAAAAFzUkdCAK7OHOkAAAAgY0hSTQAAeiYAAICEAAD6AAAAgOgAAHUwAADqYAAAOpgAABdwnLpRPAAAAU1JREFUeAHVwTkSQAAAwMCMycd4OD8zahqFM7ty2crRwHskTuIkTuIkTuIkTuIkTuIkTuIkTuIkTuIkTuIkTuIkTuIkTuIkTuIkTi4b+JLESZzESZzESZzESZzESZzESZzESZzESZzESZzESZzEya9NnJE4iZM4iZM4iZM4iZM4iZM4iZM4iZM4iZM4iZM4iZM4iZM4iZM4iZM4iZM4iZM4iZM4iZM4iZM4iZM4iZM4iZM4+bWZMxIncRIncRIncRIncRIncRIncRIncRIncRIncRIncRIncRIncRIncRIncRIncRIncRIncRIncRIncRIncRIncRIncRIncRIncRIncRIncRIncRIncRIncRIncRIncRIncRIncRIncRIncRInD1rYG7mfxEmcxEmcxEmcxEmcxEmcxEmcxEmcxEmcxEmcxEmcxEmcxEmcxG1qZQYDjYIUvAAAAABJRU5ErkJg\"></td><td style='text-align:center;vertical-align:middle; margin: 0.5em;border:1px #90999f solid;border-collapse:collapse'><img style='max-width: 100px; max-height:100px;display:inline' src=\"data:image/png;base64,iVBORw0KGgoAAAANSUhEUgAAAMAAAADACAAAAAB3tzPbAAAABGdBTUEAALGPC/xhBQAAAAFzUkdCAK7OHOkAAAAgY0hSTQAAeiYAAICEAAD6AAAAgOgAAHUwAADqYAAAOpgAABdwnLpRPAAAAT5JREFUeAHVwbENADAIwLAI5f+TESd0bWyJkziJkziJkziJkziJkziJkziJkziJkziJkziJkziJkziJkziJkziJkziJkziJkziJkziJkziJkziJkziJkziJkziJkziJkziJkziJkziJkziJkziJkziJkziJkziJkziJkziJkziJkziJkziJkziJkziJkziJkziJkziJkziJkziJkziJkziX4W0Z/iRxwlImcRIncRIncRIncRIncRIncRIncRIncRIncRIncRIncRIncRIncRIncRIncRIncQ5tEidxEidxEidxEidxEidxEidxEidxEidxEidxEidxEidxEidxEidxEidxEidxEidxEidxEidxEidxEidxEidxEidxEidxEidxEidxEidxEidxEidxEidxEidxEidxEidxEidxEnfBLQYBM2B2dwAAAABJRU5ErkJg\"></td><td style='text-align:center;vertical-align:middle; margin: 0.5em;border:1px #90999f solid;border-collapse:collapse'><img style='max-width: 100px; max-height:100px;display:inline' src=\"data:image/png;base64,iVBORw0KGgoAAAANSUhEUgAAAMAAAADACAAAAAB3tzPbAAAABGdBTUEAALGPC/xhBQAAAAFzUkdCAK7OHOkAAAAgY0hSTQAAeiYAAICEAAD6AAAAgOgAAHUwAADqYAAAOpgAABdwnLpRPAAAATVJREFUeAHVwTEBAAAAQDCH/pnlsMmczMmczMmczMmczMmczMmczMmczMmczMmczMmczMmczMmczMmczMmczMmczMmczMmczMmczMmczMmczMmczMmczMmczMmczMmczMmczMmczMmczMmczMmczMmczMmczMmczMmczMmczMmczMmczMmczMmczMmczMmczMmczMmczMmczMmczMmczMmczMmczMmczMmczMmczMmczMmczMmczMmczMmczMmczMmczMmczMmczMmczMmczMmczMmczMmczMmczMmczMmczMmczMmczMmczMmczMmczMmczMmczMmczMmczMmczMmczMmczMmczMmczMmczMmczMmczMmczMmczMmczMmczMmczMmczMmczMmczMmczMmczMmczAXfBgMBjd/SYAAAAABJRU5ErkJg\"></td><td style='text-align:center;vertical-align:middle; margin: 0.5em;border:1px #90999f solid;border-collapse:collapse'><img style='max-width: 100px; max-height:100px;display:inline' src=\"data:image/png;base64,iVBORw0KGgoAAAANSUhEUgAAAMAAAADACAAAAAB3tzPbAAAABGdBTUEAALGPC/xhBQAAAAFzUkdCAK7OHOkAAAAgY0hSTQAAeiYAAICEAAD6AAAAgOgAAHUwAADqYAAAOpgAABdwnLpRPAAAAuNJREFUeAHVwbFq1XcABtDT9AMpbSx9AMkDiIu4uBQzpUsd8gBC9mYPXcRF3OMu5AFSaCcnQ5cswUXyAJIHaOmdRAglXEITozWJ/9+F75yY0AN7Lnpl1ThRLspFuSgX5aJclItyUS7KRbkoF+WiXJSL4VaNFOWiXJSLclEuykW5KBflolyUiwntWbwoF+WiXEzoR3+66JVV40S5KBflolyUi3JRLspFuSgX5WJC733MV0aKclEuykW5KBflolxMaN99+87b88BIUS7KRbkoF+ViUu996IaxolyUi3Ix1L77xopyMakD9xy4nseuI8rFQPvuu7wnriPKxcQO3HNgcaJcTO6dUzeMF+WiXJSLYV67a7woF5N74443FiXKxSCv3bUIUS7KRbkY4I077lqMKBdD/O0yfjX31NxjVxfl4goeO+sbbPmYQz/5lF+cuOnEU+c9cXVRLq7giQ89w5bzDt3GLUfO+8WJ56YV5eKLbOEZtpw6dNuJI7ccmXuEm54bIcrFF9vCM9/axKHbTh255QiP7BgnysUktrDtoRVnHbll1Y6RolxM5qHfbdt01qrfLJsZJ8rFRN5acWLbplOP7DixjJkxolxM4q0Vc5u2fWcD63bMzbBsZoQoFxN4a8V/NvHChvNmljEztSgX1/aXuX+suGjdrvNmOHZqyTSiXHzGsbOOMTP3g0/7w892XbTk1LG5JR937HKiXHzGkuvZ8MKGT1vy/5ZcTpSLAdbtWpQoF5Nbs+vEhhc2jBblYqDvjRflYmJrXlqkKBcDrdu1bqwoF5Na89JiRbkoF+ViQmteOm/drnUjRbmY0DuLF+VisJvGinJRLspFuSgX5aJclItyMdjXxopyUS7KxYT2LF6Ui3JRLspFuSgX5aJclItyUS7KRbkoF+WiXJSLclEuJvTAnkWLclEuykW5KBflolyUi3JRLspFuSgX5aJclItyUS7KRbkoF+WiXJSLclEuykW5KPcv7xdcggyvcUkAAAAASUVORK5C\"></td><td style='text-align:center;vertical-align:middle; margin: 0.5em;border:1px #90999f solid;border-collapse:collapse'><img style='max-width: 100px; max-height:100px;display:inline' src=\"data:image/png;base64,iVBORw0KGgoAAAANSUhEUgAAAMAAAADACAAAAAB3tzPbAAAABGdBTUEAALGPC/xhBQAAAAFzUkdCAK7OHOkAAAAgY0hSTQAAeiYAAICEAAD6AAAAgOgAAHUwAADqYAAAOpgAABdwnLpRPAAAAm5JREFUeAHVwbFK3HcAwPEv8i0OpcQ3yJIHcO+SA/eAQ+cD54B7KSJ5AaGz4JwhkL2gS/Z7ABefoKadK+UooYVqPL3f/y7fz0cGes0V/3fJjOlInMRJnMRJnMRJnMRJnMRJnMRJnMRJnExuxpQkTuIkTuIkTuIkTuIkTuIkTga6YvMkTiZ3yYzpSJwMNOOSTZM4iZM4iZM4iZM4iZM4mdxfTEniZKBdNk/iZHIH/MYBU5E4iZM4iZM42YADPnDINCROBtrlIYd84JApSJzESZwM84aPPOyQC+aMJ3GyMXMumDOaxMkgb/jIY+Zc8CfwlnEkTgbZZRVzln5l6Q+++JmlE55D4mQL3nKfU55D4mSIn3jPdkicxEmcDHDEOdsicbK2I87ZHomTNR1xzjZJnKzhGDhjuyROnu2YM7ZP4uSZjjnjWyBx8mS/sPSO8U54OomTFZzwrzveMZVTnk7iZAWnfLskTuIkTuIkTuIkTuIkTuIkTuIkTuIkTuIkTh5xx3/t8MUeS7c8zWd+4B87fN0dq5E4ecQO97tlaQ+4ZTWfgResaofVSJys5RZ4xTWPuWGPF0xB4mRt17zimq+54SVTkTgZ4Jp9FjzkhpdMR+JkiAX7LLjf70xJ4mSQBfss2DyJk2G+5z4L9pmSxEmcxMkwn/iRT2yaxMnE9pmWxEmcxMlA37F5EidxEidxEidxEicTu2TGlCROBrpi8yRO4iRO4iRO4iRO4iRO4iRO4iRO4iRO4iRO4iRO4iROBnrNFZsmcRIncRIncRIncRIncRIncRIncRIncRIncRIncRIncRIncRIncRIncRIncX8D2509PHUF20AAAAAASUVORK5C\"></td><td style='text-align:center;vertical-align:middle; margin: 0.5em;border:1px #90999f solid;border-collapse:collapse'><img style='max-width: 100px; max-height:100px;display:inline' src=\"data:image/png;base64,iVBORw0KGgoAAAANSUhEUgAAAMAAAADACAAAAAB3tzPbAAAABGdBTUEAALGPC/xhBQAAAAFzUkdCAK7OHOkAAAAgY0hSTQAAeiYAAICEAAD6AAAAgOgAAHUwAADqYAAAOpgAABdwnLpRPAAAAWtJREFUeAHVwcENgkAAAMGN2b6EygiVQWXEh/GjTzjJzsiFJnZ+bcyMI3ESJ3ESJ3ESJ3ESJ3ESJ3ESJ3ESJ3ESJ3ESJ3ESJ3ESJ3ESJ3ESJ3ESJ3ESJ3ESJ3ESJ3ESJ3ESJ3ESJ3ESJ3ESJ3ESJ3ESJ3ESJ3ESJ3ESJ3ESJ3ESJ3ESJ3ESJ3Fyu4UzJE5ut3KGxEmcxEmcxEmcxEmcxEmcxEmcxEmcxEmcxMkgCx87C+NInAtXevKx8rYxM5LEuXKdiZ1/kziJkziJkziJkziJkziJkziJkziJkziJkzgPRjsYSeJ8cJ2JnW8bMyNJnMRJnMRJnMRJnMRJnMRJnMRJnMRJnMRJnMRJnMRJnMRJnMRJnMRJnMRJnMRJnMRJnMRJnMRJnMRJnMRJnMRJnMRJnMRJnMRJnMRJnMRJnMRJnMRJnMRJnMRJnMRJnMRJnMRJnMRJnMRJnMRJnMRJnMRJnMRJnMRJnMRJ3AuMCQ99ce801gAAAABJRU5ErkJg\"></td><td style='text-align:center;vertical-align:middle; margin: 0.5em;border:1px #90999f solid;border-collapse:collapse'><img style='max-width: 100px; max-height:100px;display:inline' src=\"data:image/png;base64,iVBORw0KGgoAAAANSUhEUgAAAMAAAADACAAAAAB3tzPbAAAABGdBTUEAALGPC/xhBQAAAAFzUkdCAK7OHOkAAAAgY0hSTQAAeiYAAICEAAD6AAAAgOgAAHUwAADqYAAAOpgAABdwnLpRPAAAA0lJREFUeAHVwb+L1gUAB+CH+oBD+eMfkFvaJBBpceoEwa3gDRrtDlcPHG8JiSAcBV1FcQw6aBQCbwkXCUHcXI77AzLfpR90xcvxkq+eQfd+vxef54kBrdr2pocuGE+Ui3JRLspFuSgX5aJclItyUS7KRbkoF+WiXJSLclEuykW5KBflolyUi3JRLspFuSgX5aJclItyUS7KRbkoF+WiXJSL0f1pTFEuykW5GN27fnDRWKJclItyUS7KxaDOe2TRtr9ctGViHFEujsTElokxRLkoF+ViMJ/6xR9ed8yvZibuWTO8KBdHZs09a4YW5WIgn/reqtc9ct5Dc2vumWLDcKJcDOSYmcc+8tjbrZm5Zealud8dXpSLET1y3kE2DCfKxSA+9619j33ksaMT5WJwv5k7ZnxRLgZwxR3/lygXS7vijoP85JzxRblY0hV3LHrqQ08dlSgXS7iGmw72k3OOQpSLQ7vmpv9flItDuuamt3nqQ+ccjSgX/9mXZr72b164bm7bdeOJcrnucK47yMfmvrLvoQteddXMCTPfWF6Uy1eWcQOb5lZt45kzOG3XoqtmbhtWlIulbOIGNs09c8bMrtN27buME24bQ5SLpW3ihvds4Jkz5nadtovL7htPlItBbOKW75zxql2ncd+YolwM5hN8ZsOrLuC4qfFEuRjIjhWrtt2yYe6y+9ZNHcfUOKJcDGLHin0bbnnfOibu2zfFcVNjiHIxgB0r/rGBu9YtmjqOqaFFuTi0n+17acWbJrYsmmLP3DuGEeWyZ1kn7XnTF+b2HGTPMKJc3rGMU3hhbtW2fRNb7lrHQxfs+wUnDS3KxVJe4APPLZrYsmjHKSeNIcrF0p77wHP/uGTLzLq71s3sWDGWKBcDeO6sJ9500syOFeOJcjGIJ856YuaSBxb9bExRLgbyxFmvm9gytigXg3kPlzzwurPGFOWiXJSLwfxo1QOLJraMK8pFuSgXIzthXFEuykW5KBflolyUi3JRLkb2rnFFuSgX5aJclItyUS7KRbkoF+WiXJSLclEuykW5KBflolyUi3JRLspFuSgX5aJclItyUS7KRbkoF+WiXJSLclEuykW5KBflolyUi3JRLspFuSgX5aJclPsbjol/QYWczeIAAAAASUVORK5C\"></td><td style='text-align:center;vertical-align:middle; margin: 0.5em;border:1px #90999f solid;border-collapse:collapse'><img style='max-width: 100px; max-height:100px;display:inline' src=\"data:image/png;base64,iVBORw0KGgoAAAANSUhEUgAAAMAAAADACAAAAAB3tzPbAAAABGdBTUEAALGPC/xhBQAAAAFzUkdCAK7OHOkAAAAgY0hSTQAAeiYAAICEAAD6AAAAgOgAAHUwAADqYAAAOpgAABdwnLpRPAAAAYhJREFUeAHVwTGKA0AMwEAV+rfxz48QTNorVzMSJ3ESJ3ESJ3ESJ3ESJ3ESJ3ESJ3ESJ3ESJ3ESJ3ESJ3ESJ3ESJ3ESJ3ESJ3ESJ3ESJ3ESJ3ESJ3ESJ3ESJ3ESJ3ESJ3ESJ3ESJ3ESJ3ESJ3ESJ3ESJ3ESJ3ESJ3ESJ3HypGE5w3KG5QwLSJzESZw8aFjOsJxhOcPyIXESJ3HynGE5w3KG5QzLl8TJw4blDMsZliNx8phh+b9B4uRZw3KG5QzLj8TJU4bla1jOsJxhOcMicRIncfKQYfkaljMsZ1jOsIDEyUOWs/wsP8vP8iFxEidxEidxEidxEidxEidxEidxEidxEidxEidxEidxEidxEidxEidxEidxEidxEidxEidxEidxEidxEidxEidxEidxEidxEidxEidxEidxEidxEidxEidxEidxEidxEidxEidxEidxEidxEidxEidxEidxEidxEidxEidxEidxEidxEidxEidxEidxEidxEidxEidxEidxEidxEidxf6zUIwX53D1cAAAAAElFTkSuQmCC\"></td><td style='text-align:center;vertical-align:middle; margin: 0.5em;border:1px #90999f solid;border-collapse:collapse'><img style='max-width: 100px; max-height:100px;display:inline' src=\"data:image/png;base64,iVBORw0KGgoAAAANSUhEUgAAAMAAAADACAAAAAB3tzPbAAAABGdBTUEAALGPC/xhBQAAAAFzUkdCAK7OHOkAAAAgY0hSTQAAeiYAAICEAAD6AAAAgOgAAHUwAADqYAAAOpgAABdwnLpRPAAAAZlJREFUeAHVwcGpXFEQxUAtlHdzMjfmMvwUnqokTuIkTuIkTuIkTuIkTuIkTuIkTuIkTuIkTuIkTuIkTuIkTuIkTuIkTuIkTuIkTuIkTuIkTuIkTuIkTuIkTuIkTuIkTuIkTuIkTuIkTuIkTuIkTuIkTuIkTuIkTuIkTuLkM47xc4yfY/wc4+cYIHHyGeMYzzjGM47xjGM84xgSJ3ESJx8yjvGMYzzjGM84xjMOiZNPGcd4xjGecYxnHOMZEidxEicfM47xjGM84xjPOMYjcfI54xjPOMYzjvGMY/wncRIncfJB4xjPOMYzjvGMY4DESZzEySeNP+PP+DP+kziJkziJkziJkziJkziJkziJkziJkziJkziJkziJkziJkziJkziJkziJkziJkziJkziJkziJkziJkziJkziJkziJkziJkziJkziJkziJkziJkziJkziJkziJkziJkziJkziJkziJkziJkziJkziJkziJkziJkziJkziJkziJkziJkziJkziJkziJkziJkziJkziJkziJkziJkziJk7h/3EIxH1KgHiwAAAAASUVORK5C\"></td></tr><tr><td style='text-align:center;vertical-align:middle; margin: 0.5em;border:1px #90999f solid;border-collapse:collapse'><img style='max-width: 100px; max-height:100px;display:inline' src=\"data:image/png;base64,iVBORw0KGgoAAAANSUhEUgAAAMAAAADACAAAAAB3tzPbAAAABGdBTUEAALGPC/xhBQAAAAFzUkdCAK7OHOkAAAAgY0hSTQAAeiYAAICEAAD6AAAAgOgAAHUwAADqYAAAOpgAABdwnLpRPAAAAWZJREFUeAHVwUFqQzEUwEAZdP8rv9JtFmm/MYk1I9uGXYtzJE7iJE7iJE7iJE7iJE7iJE7iJE7iJE7iJE7iJE7iJE7iJE7iJE7iJE7iJE7iJE7iJE7iJE7iJE42DXeQOPm4xUkSJ3ESJ3ESJ3ESJ3ESJ3ESJxcZnpM4+bjh1+IMiZMvGc6QOImTOImTOImTOImTOImTONky3ELiJE7iZMNwD4lzeG/xariJxMm/DLeSOPnDcDeJkziJkziJkziJkziJkziJkziJkziJkziJkziJkziJkziJkziJkziJkziJkziJkziJkziJkziJkziJkziJkziJkziJkziJkziJkziJk6ssnpI4F3uGXYuTJE7iJE7iJE7iJE7iJE7iJE7iJE7iJE7iJE7iJE7iJE7iJE7iJE7iJE7iJE7iJE7iJE7iJE7iJE7iJE7iJE7iJE7iJE7iJE7iJE7iJE7iJE7iJE7iJE7iJO4HWvYO/NvzKesAAAAASUVORK5C\"></td><td style='text-align:center;vertical-align:middle; margin: 0.5em;border:1px #90999f solid;border-collapse:collapse'><img style='max-width: 100px; max-height:100px;display:inline' src=\"data:image/png;base64,iVBORw0KGgoAAAANSUhEUgAAAMAAAADACAAAAAB3tzPbAAAABGdBTUEAALGPC/xhBQAAAAFzUkdCAK7OHOkAAAAgY0hSTQAAeiYAAICEAAD6AAAAgOgAAHUwAADqYAAAOpgAABdwnLpRPAAAAXhJREFUeAHVwUFqAkAQAMEe6P9/eXLXIFnUsF0lb1qGZ8vwaBk+T+IkTuIkTuIkTuIkTuIkTuIkTuIkTuIkTuIkTuIkTuIkTuIkTuIkTuLkTcNvhmfDN0icxEmcxEmcxEmcxEmcxEmcxEmcxEmcxEmcxEmcxEmcxEmcxEmcxEmcxEmcXGQ5J3FyleGUxMlFhnMSJ3ESJ3ESJ3ESJ3ESJ3ESJ3ESJ3ESJ3ESJ1dZTkmcXGU4JXESJ3ESJ3ESJ3ESJ3ESJ3ESJ3ESJ3ESJ3FyleWUxMlFluGUxMlFhnMSJ3ESJ3ESJ3ESJ3ESJ3ESJ3ESJ3ESJ3ESJxdZzkmcvLDA8H+GcxInLwz3kziJkziJkziJkziJkziJkziJkziJkziJkziJkziJkziJkziJkziJkziJkzh50zI8WoZny/B5EidvWYa/WYZvkDiJkziJkziJkziJkziJkziJkziJkziJkziJkziJkziJkziJkziJkziJkziJkziJk7gfLnoRBghkJigAAAAASUVORK5C\"></td><td style='text-align:center;vertical-align:middle; margin: 0.5em;border:1px #90999f solid;border-collapse:collapse'><img style='max-width: 100px; max-height:100px;display:inline' src=\"data:image/png;base64,iVBORw0KGgoAAAANSUhEUgAAAMAAAADACAAAAAB3tzPbAAAABGdBTUEAALGPC/xhBQAAAAFzUkdCAK7OHOkAAAAgY0hSTQAAeiYAAICEAAD6AAAAgOgAAHUwAADqYAAAOpgAABdwnLpRPAAAATVJREFUeAHVwTEBAAAAQDCH/pnlsMmczMmczMmczMmczMmczMmczMmczMmczMmczMmczMmczMmczMmczMmczMmczMmczMmczMmczMmczMmczMmczMmczMmczMmczMmczMmczMmczMmczMmczMmczMmczMmczMmczMmczMmczMmczMmczMmczMmczMmczMmczMmczMmczMmczMmczMmczMmczMmczMmczMmczMmczMmczMmczMmczMmczMmczMmczMmczMmczMmczMmczMmczMmczMmczMmczMmczMmczMmczMmczMmczMmczMmczMmczMmczMmczMmczMmczMmczMmczMmczMmczMmczMmczMmczMmczMmczMmczMmczMmczMmczMmczMmczMmczMmczMmczMmczAXfBgMBjd/SYAAAAABJRU5ErkJg\"></td><td style='text-align:center;vertical-align:middle; margin: 0.5em;border:1px #90999f solid;border-collapse:collapse'><img style='max-width: 100px; max-height:100px;display:inline' src=\"data:image/png;base64,iVBORw0KGgoAAAANSUhEUgAAAMAAAADACAAAAAB3tzPbAAAABGdBTUEAALGPC/xhBQAAAAFzUkdCAK7OHOkAAAAgY0hSTQAAeiYAAICEAAD6AAAAgOgAAHUwAADqYAAAOpgAABdwnLpRPAAAAU5JREFUeAHVwcENQEAAAMGNbGMUTmfizcdDcDsjcRInD+1cTXxJ4iRO4iRO4iRO4iRO4iRO4iRO4iRO4iRO4iRO4iRO4iRO4iRO4iRO4iRO4iRO4uShiX9JnMRJnMRJnMRJnMRJnMRJnMRJnMRJnMRJnMRJnMRJnAxs4Z7ESZzESZzESZzESZzESZzESZzESZzESZzESZzESZzESZzESZzESZzESZzESZzESZzESZzESZzESZzESZzESZzEycBW7kmcxEmcxEmcxEmcxEmcxEmcxEmcxEmcxEmcxEmcxEmcxEmcxEmcxEmcxEmcxEmcxEmcxEmcxEmcxEmcxEmcxEmcxEmcxEmcxEmcxEmcxEmcxEmcxEmcxEmcxEmcxEmcxEmcxEmcxEmcxEmcvGbjbOYNEidxEidxEidxEidxEidxEidxEidxEidxEidxEncA2LgGAz9UqeYAAAAASUVORK5C\"></td><td style='text-align:center;vertical-align:middle; margin: 0.5em;border:1px #90999f solid;border-collapse:collapse'><img style='max-width: 100px; max-height:100px;display:inline' src=\"data:image/png;base64,iVBORw0KGgoAAAANSUhEUgAAAMAAAADACAAAAAB3tzPbAAAABGdBTUEAALGPC/xhBQAAAAFzUkdCAK7OHOkAAAAgY0hSTQAAeiYAAICEAAD6AAAAgOgAAHUwAADqYAAAOpgAABdwnLpRPAAAAT1JREFUeAHVwbENADAIwLAI5f+TES90bGyJkziJkziJkziJkziJkziJkziJkziJkziJkziJkziJkziJkziJkziJkziJkziJkziJkziJkziJkziJkziJkziJkziJkziJkziJkziJkziJkziJkziJkziJkziJkziJkziJkziJkziJkziJkziJkziJkziJkziJkziJkziJkziJkziJkziJkziJkziJkziJkzh5sAy/kjiXNomTOImTOImTOImTOImTOImTOImTOImTOImTOImTOImTOImTOImTOImTOImTOIlzaJM4iZM4iZM4iZM4iZM4iZM4iZM4iZM4iZM4iZM4iZM4iZM4iZM4iZM4iZM4iZM4iZM4iZM4iZM4iZM4iZM4iZM4iZM4iZM4iZM4iZM4iZM4iZM4iZM4iZM4iZO4A88jBQGMPzj2AAAAAElFTkSuQmCC\"></td><td style='text-align:center;vertical-align:middle; margin: 0.5em;border:1px #90999f solid;border-collapse:collapse'><img style='max-width: 100px; max-height:100px;display:inline' src=\"data:image/png;base64,iVBORw0KGgoAAAANSUhEUgAAAMAAAADACAAAAAB3tzPbAAAABGdBTUEAALGPC/xhBQAAAAFzUkdCAK7OHOkAAAAgY0hSTQAAeiYAAICEAAD6AAAAgOgAAHUwAADqYAAAOpgAABdwnLpRPAAAATVJREFUeAHVwTEBAAAAQDCH/pnlsMmczMmczMmczMmczMmczMmczMmczMmczMmczMmczMmczMmczMmczMmczMmczMmczMmczMmczMmczMmczMmczMmczMmczMmczMmczMmczMmczMmczMmczMmczMmczMmczMmczMmczMmczMmczMmczMmczMmczMmczMmczMmczMmczMmczMmczMmczMmczMmczMmczMmczMmczMmczMmczMmczMmczMmczMmczMmczMmczMmczMmczMmczMmczMmczMmczMmczMmczMmczMmczMmczMmczMmczMmczMmczMmczMmczMmczMmczMmczMmczMmczMmczMmczMmczMmczMmczMmczMmczMmczMmczMmczMmczMmczMmczMmczMmczAXfBgMBjd/SYAAAAABJRU5ErkJg\"></td><td style='text-align:center;vertical-align:middle; margin: 0.5em;border:1px #90999f solid;border-collapse:collapse'><img style='max-width: 100px; max-height:100px;display:inline' src=\"data:image/png;base64,iVBORw0KGgoAAAANSUhEUgAAAMAAAADACAAAAAB3tzPbAAAABGdBTUEAALGPC/xhBQAAAAFzUkdCAK7OHOkAAAAgY0hSTQAAeiYAAICEAAD6AAAAgOgAAHUwAADqYAAAOpgAABdwnLpRPAAAAudJREFUeAHVwbFqlQcABtDT9AMpbSx9gJAHEBdxcSlmSpc65AGE7GYPXUIWcY+7kAdIoZ2cDF2yBBfJA0geoKV3EiGUyyU016iE6/9f+c6JwTx07LpXNowpykW5KBflolyUi3JRLspFuSgX5aJclItyUS7KRbkoF+WiXIxsw7iiXJSLclEuykW5KBflolyUi3IxmGNfQ5SLclEuBvOzv1z3yoYxRbkoF+WiXJSLclEuykW5KBflYjDvfcw3xhXlolyUi3JRLspFuRjMiQdOzDv20LiiXJSLclEuysWA3vvQLWOLclEuysWITjwwrj1RLgZ06r5Ti9mziH1RLkZz4oGb27eYKBeDOnXfqWWKcjGwdy7dsgxRLspFuRjJa/csQ5SLgb1x1xvLE+ViFK/dsxxRLspFuRjcG3fdsyxRLkbwj5v4zcxTM3sWEeXixvZc9R12fcyZX3zKE1O3TT01b98iolzc2L4PPcOueWfuYM25eU9MPTe0KBdfYBfPsOvSmTumzq05N/MYtz03jigXX2gXz3xvB2fuuHRuzTkeOzSmKBcD2MWBR9ZddW7NhkPjinIxkEf+cGDHVRt+t2piTFEuBvHWuqkDOy49dmhqFRNjiXIxgLfWzew48INtbDk0M8GqiXFEufhib6373w5e2DZvYhUTw4tysaC/zfxr3XVbjsyb4MKlFUOJcvFZF666wMTMTz7tT786ct2KSxdmVnzchZuKcvFZKxaz7YVtn7bi81bcVJSLwW05sjxRLga26cjUthe2jS/KxWh+tAxRLga16aXlinIxmi1HtowtysWANr20bFEuykW5GMyml+ZtObJlXFEuBvPO1xDlYlS3jS3KRbkoF+WiXJSLclEuysWovjW2KBflolwM5tjXEOWiXJSLclEuykW5KBflolyUi3JRLspFuSgX5aJclIvBPHRs+aJclItyUS7KRbkoF+WiXJSLclEuykW5KBflolyUi3JRLspFuSj3H7lQXYJNETEGAAAAAElFTkSuQmCC\"></td><td style='text-align:center;vertical-align:middle; margin: 0.5em;border:1px #90999f solid;border-collapse:collapse'><img style='max-width: 100px; max-height:100px;display:inline' src=\"data:image/png;base64,iVBORw0KGgoAAAANSUhEUgAAAMAAAADACAAAAAB3tzPbAAAABGdBTUEAALGPC/xhBQAAAAFzUkdCAK7OHOkAAAAgY0hSTQAAeiYAAICEAAD6AAAAgOgAAHUwAADqYAAAOpgAABdwnLpRPAAAAnBJREFUeAHVwb9K3WcAgOEXeYNDKfEOsuQCzt4lB9wDDp0F54B7KSK5AaGz4JwhkL2gS/ZzAS5eQUw7V8qhhBbqv5zz+zy+zyOTecMF/3fOnJEkTuIkTuIkTuIkTuIkTuIkTuIkTuIkTuIkTuIkTuIkTgabM5bESZzESZzESZzESZzESZzEyWQu2ASJk8HOmTOSxMlk5pzz9CRO4iRO4iRO4iRO4iROBvuLsSROJrPNJkicDLbL7+wyjsRJnMRJnMTJcLt8ZI9RJE4ms81d9vjIHmNInMRJnEzkLZ+42x5n7DOCxMkT2eeMfaYncTKJt3ziIfuc8SfwjukcIXEyiW0eY5+l31j6g29+YemIVRwjcfLk3nGbY1YjcTKBn/nApkicxEmcrO2AUzZH4mRNB5yySRInaznglM2SOFnZIXDCpkmcrOiQE54DiZOVHHLC8yBx8p1+Zek90ztiFRInDzriXze8Z5RjViFx8qBjnjOJkziJkziJkziJkziJkziJkziJkziJkziJk3vd8F9bfLPD0jXf5ys/8o8t7nfDY0mc3GuL212ztANc8zhfgZc81haPJXGyhmvgNZc85IodXjKGxMmaLnnNJfe54hXjSJys7ZIZC+5yxStGkjiZwIIZC273hbEkTiaxYMaCTZA4mcgP3GbBjLEkTuIkTibymZ/4zNOTOBlqxmgSJ3ESJ5N5wSZInMRJnMRJnMRJnAx1zpyxJE4mc8EmSJzESZzESZzESZzESZzESZzESZzESZzESZzESZzESZxM5g0XPD2JkziJkziJkziJkziJkziJkziJkziJkziJkziJkziJkziJ+xvmMT48qzvnzgAAAABJRU5ErkJg\"></td><td style='text-align:center;vertical-align:middle; margin: 0.5em;border:1px #90999f solid;border-collapse:collapse'><img style='max-width: 100px; max-height:100px;display:inline' src=\"data:image/png;base64,iVBORw0KGgoAAAANSUhEUgAAAMAAAADACAAAAAB3tzPbAAAABGdBTUEAALGPC/xhBQAAAAFzUkdCAK7OHOkAAAAgY0hSTQAAeiYAAICEAAD6AAAAgOgAAHUwAADqYAAAOpgAABdwnLpRPAAAAW1JREFUeAHVwcENgkAAAMGN2b6Eyi5UBpUZH8aPPuE0OyOXWTj4trMyk8RJnMRJnMRJnMRJnMRJnMRJnMRJnMRJnMRJnMRJnMRJnMRJnMRJnMRJnMRJnMRJnMRJnMRJnMRJnMRJnMRJnMRJnMRJnMRJnMRJnMRJnMRJnMRJnMRJnMRJnMRJnMRJnMRJnMRJ2kDi5M8GZ2xInPzZxjkSJ3ESJ3ESJ3ESJ3ESJ3ESJ3ESJ3ESJ3ESJ1MM3g4GM0mcg+vcedt42VmZS+LcuMrCwe9JnMRJnMRJnMRJnMRJnMRJnMRJnMRJnMRJnA/mejCXxHnjKgsHn3ZW5pI4iZM4iZM4iZM4iZM4iZM4iZM4iZM4iZM4iZM4iZM4iZM4iZM4iZM4iZM4iZM4iZM4iZM4iZM4iZM4iZM4iZM4iZM4iZM4iZM4iZM4iZM4iZM4iZM4iZM4iZM4iZM4iZM4iZM4iZM4iZM4iZM4iZM4iZO4JzE6EH2wHDyqAAAAAElFTkSuQmCC\"></td><td style='text-align:center;vertical-align:middle; margin: 0.5em;border:1px #90999f solid;border-collapse:collapse'><img style='max-width: 100px; max-height:100px;display:inline' src=\"data:image/png;base64,iVBORw0KGgoAAAANSUhEUgAAAMAAAADACAAAAAB3tzPbAAAABGdBTUEAALGPC/xhBQAAAAFzUkdCAK7OHOkAAAAgY0hSTQAAeiYAAICEAAD6AAAAgOgAAHUwAADqYAAAOpgAABdwnLpRPAAAA01JREFUeAHVwb+L1gUAB+CH+oBDqf0DckubBCItTp0QuBW8QaPd4eqB4y1xSBCOgq2iOAYdNAqBt4SLhCBuLsf9AZnv0g+64uV4yVevoHu/36vP88RgVu143QMXjSnKRbkoF+WiXJSLclEuykW5KBflolyUi3JRLspFuSgX5aJclItyUS7KRbkoF+WiXJSLclEuykW5KBflolyUi3JRLspFuSgX5aJclItyMbLfjSvKRbkoFyN703c+NJ4oF+WiXJSLcjGgCx5atOMPH9o2MZYoF8dgYtvEOKJclItyMZCP/eQ3rzrhZzMTd60ZQ5SLY7LmrjXDi3IxiI99a9WrHrrggbk1d02xYThbolwM4oSZR973yN9bM3PLzAtzvzq666JcjOahCw6zYUhRLgbwqa8deOR9jxynKBcD+8XcCcchysXSrrjtvxPlYklX3HaYH5x3HKJcLOWK2xY98Z4njk+UiyO7hpsO94PzjkeUiyO65qb/gygXR3LNTX/nifecd1yiXPxLn5v5wj95bsvcji1jinLZchRbDvOBuesOPHDRy66aOWXmS0OIcrnu6G5g09yqHTx1FmfsWXTVzFeGFuViCZu4gU1zT501s+eMPQcu45SvjCPKxZI2ccNbNvDUWXN7ztjDZfeMKcrFADZxyzfOetmeM7hnXFEuBvIRPrHhZRdx0tSYolwMYteKVTtu2TB32T3rpk5iaixRLgawa8WBDbe8bR0T9xyY4qSpcUS5WNquFX/ZwB3rFk2dxNTwolwc0Y8OvLDidRPbFk2xb+4NQ4ly2bec0/a97jNz+w6zbyhRLm84unfw3NyqHQcmtt2xjgcuOvATThtelIslPMe7nlk0sW3RrnecNo4oF0t65l3P/OWSbTPr7lg3s2vFeKJcLO2Zcx573Wkzu1aMKcrFAB4757GZS+5b9KNxRbkYxGPnvGpi2/iiXAzkLVxy36vOGVeUi3JRLgbyvVX3LZrYNrYoF+WiXIzqlLFFuSgX5aJclItyUS7KRbkY1ZvGFuWiXJSLclEuykW5KBflolyUi3JRLspFuSgX5aJclItyUS7KRbkoF+WiXJSLclEuykW5KBflolyUi3JRLspFuSgX5aJclItyUS7KRbk/AWUTgEElcHnKAAAAAElFTkSuQmCC\"></td><td style='text-align:center;vertical-align:middle; margin: 0.5em;border:1px #90999f solid;border-collapse:collapse'><img style='max-width: 100px; max-height:100px;display:inline' src=\"data:image/png;base64,iVBORw0KGgoAAAANSUhEUgAAAMAAAADACAAAAAB3tzPbAAAABGdBTUEAALGPC/xhBQAAAAFzUkdCAK7OHOkAAAAgY0hSTQAAeiYAAICEAAD6AAAAgOgAAHUwAADqYAAAOpgAABdwnLpRPAAAAYxJREFUeAHVwTFqBEAMwEAV+rfxz0M4zKVMuZqROImTOImTOImTOImTOImTOImTOImTOImTOImTOImTOImTOImTOImTOImTOImTOImTOImTOImTOImTOImTOImTOImTOImTOImTOImTOImTOImTOImTOImTOImTOImTOImTOImTOImTOImTBw3LGZYzLGdYfkmcxEmcPGdYzrCcYTnD8iFxEidx8phhOcNyhuUMy5E4edawnGE5w3IGiZOnDMv/DYvEyaOG5QzLGZa/JE4eMiwfw3KG5QzLGRaQOImTOHnGsHwMyxmWMyxnWH5JnDxjOcvX8rV8LR8SJ3ESJ3ESJ3ESJ3ESJ3ESJ3ESJ3ESJ3ESJ3ESJ3ESJ3ESJ3ESJ3ESJ3ESJ3ESJ3ESJ3ESJ3ESJ3ESJ3ESJ3ESJ3ESJ3ESJ3ESJ3ESJ3ESJ3ESJ3ESJ3ESJ3ESJ3ESJ3ESJ3ESJ3ESJ3ESJ3ESJ3ESJ3ESJ3ESJ3ESJ3ESJ3ESJ3ESJ3ESJ3ESJ3ESJ3ESJ3ESJ3ES9wMFryQFC4gi3AAAAABJRU5ErkJg\"></td><td style='text-align:center;vertical-align:middle; margin: 0.5em;border:1px #90999f solid;border-collapse:collapse'><img style='max-width: 100px; max-height:100px;display:inline' src=\"data:image/png;base64,iVBORw0KGgoAAAANSUhEUgAAAMAAAADACAAAAAB3tzPbAAAABGdBTUEAALGPC/xhBQAAAAFzUkdCAK7OHOkAAAAgY0hSTQAAeiYAAICEAAD6AAAAgOgAAHUwAADqYAAAOpgAABdwnLpRPAAAAZxJREFUeAHVwcGpXFEQxUAtlHdzMjfmMvwUnqokTuIkTuIkTuIkTuIkTuIkTuIkTuIkTuIkTuIkTuIkTuIkTuIkTuIkTuIkTuIkTuIkTuIkTuIkTuIkTuIkTuIkTuIkTuIkTuIkTuIkTuIkTuIkTuIkTuIkTuIkTuIkTuIkTuIkTuIkTuLkI47xc4yfY/wc4+cY/0mcfMQ4xjOO8YxjPOMYzzgGSJzESZx8xjjGM47xjGM84xjPOIbEyYeMYzzjGM84xjOO8YxD4iRO4uRTxjGecYxnHOMZx3iGxMnHjGM84xjPOMYzjvFInMRJnHzOOMYzjvGMYzzjGP9JnMRJnHzQ+DP+jD/jkTiJkziJkziJkziJkziJkziJkziJkziJkziJkziJkziJkziJkziJkziJkziJkziJkziJkziJkziJkziJkziJkziJkziJkziJkziJkziJkziJkziJkziJkziJkziJkziJkziJkziJkziJkziJkziJkziJkziJkziJkziJkziJkziJkziJkziJkziJkziJkziJkziJk7h/9zwyoHb3qoQAAAAASUVORK5C\"></td></tr><tr><td style='text-align:center;vertical-align:middle; margin: 0.5em;border:1px #90999f solid;border-collapse:collapse'><img style='max-width: 100px; max-height:100px;display:inline' src=\"data:image/png;base64,iVBORw0KGgoAAAANSUhEUgAAAMAAAADACAAAAAB3tzPbAAAABGdBTUEAALGPC/xhBQAAAAFzUkdCAK7OHOkAAAAgY0hSTQAAeiYAAICEAAD6AAAAgOgAAHUwAADqYAAAOpgAABdwnLpRPAAAAWZJREFUeAHVwUFqQzEUwEAZdP8rv9JtFmm/MYk1I9uGXYtzJE7iJE7iJE7iJE7iJE7iJE7iJE7iJE7iJE7iJE7iJE7iJE7iJE7iJE7iJE7iJE7iJE7iJE7iJE7iJE7iJE7iJE42DXeQOPm4xUkSJ3ESJ3ESJ3ESJ3ESJ3ESJxcZnpM4+bjh1+IMiZMvGc6QOImTOImTOImTOImTOImTONky3ELiJE7iZMNwD4lzeG/xariJxMm/DLeSOPnDcDeJkziJkziJkziJkziJkziJkziJkziJkziJkziJkziJkziJkziJkziJkziJkziJkziJkziJkziJkziJkziJkziJkziJkziJkziJkziJk6ssnpI4F3uGXYuTJE7iJE7iJE7iJE7iJE7iJE7iJE7iJE7iJE7iJE7iJE7iJE7iJE7iJE7iJE7iJE7iJE7iJE7iJE7iJE7iJE7iJE7iJE7iJE7iJE7iJE7iJO4HrKYO/JgT/h4AAAAASUVORK5C\"></td><td style='text-align:center;vertical-align:middle; margin: 0.5em;border:1px #90999f solid;border-collapse:collapse'><img style='max-width: 100px; max-height:100px;display:inline' src=\"data:image/png;base64,iVBORw0KGgoAAAANSUhEUgAAAMAAAADACAAAAAB3tzPbAAAABGdBTUEAALGPC/xhBQAAAAFzUkdCAK7OHOkAAAAgY0hSTQAAeiYAAICEAAD6AAAAgOgAAHUwAADqYAAAOpgAABdwnLpRPAAAAXhJREFUeAHVwUFqAkAQAMEe6P9/eXLXIFnUsF0lb1qGZ8vwaBk+T+IkTuIkTuIkTuIkTuIkTuIkTuIkTuIkTuIkTuIkTuIkTuIkTuIkTuIkTuIkTuIkTuLkTcNvhmfDN0icxEmcxEmcxEmcxEmcxEmcxEmcxEmcxEmcxEmcxEmcxEmcxEmcxEmcxEmcXGQ5J3FyleGUxMlFhnMSJ3ESJ3ESJ3ESJ3ESJ3ESJ3ESJ3ESJ3ESJ1dZTkmcXGU4JXESJ3ESJ3ESJ3ESJ3ESJ3ESJ3ESJ3ESJ3FyleWUxMlFluGUxMlFhnMSJ3ESJ3ESJ3ESJ3ESJ3ESJ3ESJ3ESJ3ESJxdZzkmcvLDA8H+GcxInLwz3kziJkziJkziJkziJkziJkziJkziJkziJkziJkziJkziJkziJkziJkziJkzh50zI8WoZny/B5EidvWYa/WYZvkDiJkziJkziJkziJkziJkziJkziJkziJkziJkziJkziJkziJkziJk7gfUu4RBgxJcV4AAAAASUVORK5C\"></td><td style='text-align:center;vertical-align:middle; margin: 0.5em;border:1px #90999f solid;border-collapse:collapse'><img style='max-width: 100px; max-height:100px;display:inline' src=\"data:image/png;base64,iVBORw0KGgoAAAANSUhEUgAAAMAAAADACAAAAAB3tzPbAAAABGdBTUEAALGPC/xhBQAAAAFzUkdCAK7OHOkAAAAgY0hSTQAAeiYAAICEAAD6AAAAgOgAAHUwAADqYAAAOpgAABdwnLpRPAAAATVJREFUeAHVwTEBAAAAQDCH/pnlsMmczMmczMmczMmczMmczMmczMmczMmczMmczMmczMmczMmczMmczMmczMmczMmczMmczMmczMmczMmczMmczMmczMmczMmczMmczMmczMmczMmczMmczMmczMmczMmczMmczMmczMmczMmczMmczMmczMmczMmczMmczMmczMmczMmczMmczMmczMmczMmczMmczMmczMmczMmczMmczMmczMmczMmczMmczMmczMmczMmczMmczMmczMmczMmczMmczMmczMmczMmczMmczMmczMmczMmczMmczMmczMmczMmczMmczMmczMmczMmczMmczMmczMmczMmczMmczMmczMmczMmczMmczMmczMmczMmczMmczMmczMmczMmczAXfBgMBjd/SYAAAAABJRU5ErkJg\"></td><td style='text-align:center;vertical-align:middle; margin: 0.5em;border:1px #90999f solid;border-collapse:collapse'><img style='max-width: 100px; max-height:100px;display:inline' src=\"data:image/png;base64,iVBORw0KGgoAAAANSUhEUgAAAMAAAADACAAAAAB3tzPbAAAABGdBTUEAALGPC/xhBQAAAAFzUkdCAK7OHOkAAAAgY0hSTQAAeiYAAICEAAD6AAAAgOgAAHUwAADqYAAAOpgAABdwnLpRPAAAAU5JREFUeAHVwcENQEAAAMGNbGMUTmfizcdDcDsjcRInD+1cTXxJ4iRO4iRO4iRO4iRO4iRO4iRO4iRO4iRO4iRO4iRO4iRO4iRO4iRO4iRO4iRO4iRO4iRO4iRO4uShiX9JnMRJnMRJnMRJnMRJnMRJnMRJnMRJnMRJnMRJnMRJnAxs4Z7ESZzESZzESZzESZzESZzESZzESZzESZzESZzESZzESZzESZzESZzESZzESZzESZzESZzESZzESZzESZzESZzEycBW7kmcxEmcxEmcxEmcxEmcxEmcxEmcxEmcxEmcxEmcxEmcxEmcxEmcxEmcxEmcxEmcxEmcxEmcxEmcxEmcxEmcxEmcxEmcxEmcxEmcxEmcxEmcxEmcxEmcxEmcxEmcxEmcxEmcxEmcxEmcxEmcvGbjbOYNEidxEidxEidxEidxEidxEidxEncAwyUGA53Fb4UAAAAASUVORK5C\"></td><td style='text-align:center;vertical-align:middle; margin: 0.5em;border:1px #90999f solid;border-collapse:collapse'><img style='max-width: 100px; max-height:100px;display:inline' src=\"data:image/png;base64,iVBORw0KGgoAAAANSUhEUgAAAMAAAADACAAAAAB3tzPbAAAABGdBTUEAALGPC/xhBQAAAAFzUkdCAK7OHOkAAAAgY0hSTQAAeiYAAICEAAD6AAAAgOgAAHUwAADqYAAAOpgAABdwnLpRPAAAAT9JREFUeAHVwbENADAIwLAI5f+TES90bGyJkziJkziJkziJkziJkziJkziJkziJkziJkziJkziJkziJkziJkziJkziJkziJkziJkziJkziJkziJkziJkziJkziJkziJkziJkziJkziJkziJkziJkziJkziJkziJkziJkziJkziJkziJkziJkziJkziJkziJkziJkziJkziJkziJkziJkziJkziJkziJkziJkziJkziJkziX4cUy/EjihKVM4iRO4iRO4iRO4iRO4iRO4iRO4iRO4iRO4iRO4iRO4iRO4iRO4iRO4iRO4iRO4hzaJE7iJE7iJE7iJE7iJE7iJE7iJE7iJE7iJE7iJE7iJE7iJE7iJE7iJE7iJE7iJE7iJE7iJE7iJE7iJE7iJE7iJE7iJE7iJE7iJE7iJE7iJE7iJO4AmZgGAQl9xVUAAAAASUVORK5C\"></td><td style='text-align:center;vertical-align:middle; margin: 0.5em;border:1px #90999f solid;border-collapse:collapse'><img style='max-width: 100px; max-height:100px;display:inline' src=\"data:image/png;base64,iVBORw0KGgoAAAANSUhEUgAAAMAAAADACAAAAAB3tzPbAAAABGdBTUEAALGPC/xhBQAAAAFzUkdCAK7OHOkAAAAgY0hSTQAAeiYAAICEAAD6AAAAgOgAAHUwAADqYAAAOpgAABdwnLpRPAAAATVJREFUeAHVwTEBAAAAQDCH/pnlsMmczMmczMmczMmczMmczMmczMmczMmczMmczMmczMmczMmczMmczMmczMmczMmczMmczMmczMmczMmczMmczMmczMmczMmczMmczMmczMmczMmczMmczMmczMmczMmczMmczMmczMmczMmczMmczMmczMmczMmczMmczMmczMmczMmczMmczMmczMmczMmczMmczMmczMmczMmczMmczMmczMmczMmczMmczMmczMmczMmczMmczMmczMmczMmczMmczMmczMmczMmczMmczMmczMmczMmczMmczMmczMmczMmczMmczMmczMmczMmczMmczMmczMmczMmczMmczMmczMmczMmczMmczMmczMmczMmczMmczMmczMmczMmczAXfBgMBjd/SYAAAAABJRU5ErkJg\"></td><td style='text-align:center;vertical-align:middle; margin: 0.5em;border:1px #90999f solid;border-collapse:collapse'><img style='max-width: 100px; max-height:100px;display:inline' src=\"data:image/png;base64,iVBORw0KGgoAAAANSUhEUgAAAMAAAADACAAAAAB3tzPbAAAABGdBTUEAALGPC/xhBQAAAAFzUkdCAK7OHOkAAAAgY0hSTQAAeiYAAICEAAD6AAAAgOgAAHUwAADqYAAAOpgAABdwnLpRPAAAAudJREFUeAHVwbFqlQcABtDT9AMpbSx9gJAHEBdxcSlmSpc65AGE7GYPXUIWcY+7kAdIoZ2cDF2yBBfJA0geoKV3EiGUyyU016iE6/9f+c6JwTx07LpXNowpykW5KBflolyUi3JRLspFuSgX5aJclItyUS7KRbkoF+WiXJSLclEuykW5KBcj2zCuKBflolyUi3JRLspFuSgX5aJcDObY1xDlolyUi8H87C/XvbJhTFEuykW5KBflolyUi3JRLspFuRjMex/zjXFFuSgX5aJclItyUS4Gc+KBE/OOPTSuKBflolyUi3IxoPc+dMvYolyUi3IxohMPjGtPlIsBnbrv1GL2LGJflIvRnHjg5vYtJsrFoE7dd2qZolwM7J1LtyxDlItyUS5G8to9yxDlYmBv3PXG8kS5GMVr9yxHlItyUS4G98Zd9yxLlIsR/OMmfjPz1MyeRUS5uLE9V32HXR9z5hef8sTUbVNPzdu3iCgXN7bvQ8+wa96ZO1hzbt4TU88NLcrFF9jFM+y6dOaOqXNrzs08xm3PjSPKxRfaxTPf28GZOy6dW3OOxw6NKcrFAHZx4JF1V51bs+HQuKJcDOSRPxzYcdWG362aGFOUi0G8tW7qwI5Ljx2aWsXEWKJcDOCtdTM7DvxgG1sOzUywamIcUS6+2Fvr/reDF7bNm1jFxPCiXCzobzP/WnfdliPzJrhwacVQolx81oWrLjAx85NP+9Ovjly34tKFmRUfd+Gmolx81orFbHth26et+LwVNxXlYnBbjixPlIuBbToyte2FbeOLcjGaHy1DlItBbXppuaJcjGbLkS1ji3IxoE0vLVuUi3JRLgaz6aV5W45sGVeUi8G88zVEuRjVbWOLclEuykW5KBflolyUi3Ixqm+NLcpFuSgXgzn2NUS5KBflolyUi3JRLspFuSgX5aJclItyUS7KRbkoF+ViMA8dW74oF+WiXJSLclEuykW5KBflolyUi3JRLspFuSj3H0paXYIbTGD1AAAAAElFTkSuQmCC\"></td><td style='text-align:center;vertical-align:middle; margin: 0.5em;border:1px #90999f solid;border-collapse:collapse'><img style='max-width: 100px; max-height:100px;display:inline' src=\"data:image/png;base64,iVBORw0KGgoAAAANSUhEUgAAAMAAAADACAAAAAB3tzPbAAAABGdBTUEAALGPC/xhBQAAAAFzUkdCAK7OHOkAAAAgY0hSTQAAeiYAAICEAAD6AAAAgOgAAHUwAADqYAAAOpgAABdwnLpRPAAAAnBJREFUeAHVwb9K3WcAgOEXeYNDKfEOsuQCzt4lB9wDDp0F54B7KSK5AaGz4JwhkL2gS/ZzAS5eQUw7V8qhhBbqv5zz+zy+zyOTecMF/3fOnJEkTuIkTuIkTuIkTuIkTuIkTuIkTuIkTuIkTuIkTuIkTuIkTuIkTuIkTgabM5bESZzESZzESZzESZzESZzEyWQu2ASJk8HOmTOSxMlk5pzz9CRO4iRO4iRO4iRO4iROBvuLsSROJrPNJkicDLbL7+wyjsRJnMRJnMTJcLt8ZI9RJE4ms81d9vjIHmNInMRJnEzkLZ+42x5n7DOCxMkT2eeMfaYncTKJt3ziIfuc8SfwjukcIXEyiW0eY5+l31j6g29+YemIVRwjcfLk3nGbY1YjcTKBn/nApkicxEmcrO2AUzZH4mRNB5yySRInaznglM2SOFnZIXDCpkmcrOiQE54DiZOVHHLC8yBx8p1+Zek90ztiFRInDzriXze8Z5RjViFx8qBjnjOJkziJkziJkziJkziJkziJkziJkziJkziJk3vd8F9bfLPD0jXf5ys/8o8t7nfDY0mc3GuL212ztANc8zhfgZc81haPJXGyhmvgNZc85IodXjKGxMmaLnnNJfe54hXjSJys7ZIZC+5yxStGkjiZwIIZC273hbEkTiaxYMaCTZA4mcgP3GbBjLEkTuIkTibymZ/4zNOTOBlqxmgSJ3ESJ5N5wSZInMRJnMRJnMRJnAx1zpyxJE4mc8EmSJzESZzESZzESZzESZzESZzESZzESZzESZzESZzESZxM5g0XPD2JkziJkziJkziJkziJkziJkziJkziJkziJ+xv2Ij48+xWiDgAAAABJRU5ErkJg\"></td><td style='text-align:center;vertical-align:middle; margin: 0.5em;border:1px #90999f solid;border-collapse:collapse'><img style='max-width: 100px; max-height:100px;display:inline' src=\"data:image/png;base64,iVBORw0KGgoAAAANSUhEUgAAAMAAAADACAAAAAB3tzPbAAAABGdBTUEAALGPC/xhBQAAAAFzUkdCAK7OHOkAAAAgY0hSTQAAeiYAAICEAAD6AAAAgOgAAHUwAADqYAAAOpgAABdwnLpRPAAAAW1JREFUeAHVwcENgkAAAMGN2b6Eyi5UBpUZH8aPPuE0OyOXWTj4trMyk8RJnMRJnMRJnMRJnMRJnMRJnMRJnMRJnMRJnMRJnMRJnMRJnMRJnMRJnMRJnMRJnMRJnMRJnMRJnMRJnMRJnMRJnMRJnMRJnMRJnMRJnMRJnMRJnMRJnMRJnMRJnMRJnMRJnMRJnMRJnMRJnMRJ2kDi5M8GZ2xInPzZxjkSJ3ESJ3ESJ3ESJ3ESJ3ESJ3ESJ3ESJ3ESJ1MM3g4GM0mcg+vcedt42VmZS+LcuMrCwe9JnMRJnMRJnMRJnMRJnMRJnMRJnMRJnMRJnA/mejCXxHnjKgsHn3ZW5pI4iZM4iZM4iZM4iZM4iZM4iZM4iZM4iZM4iZM4iZM4iZM4iZM4iZM4iZM4iZM4iZM4iZM4iZM4iZM4iZM4iZM4iZM4iZM4iZM4iZM4iZM4iZM4iZM4iZM4iZM4iZM4iZM4iZM4iZM4iZO4JztGEH2c/+S0AAAAAElFTkSuQmCC\"></td><td style='text-align:center;vertical-align:middle; margin: 0.5em;border:1px #90999f solid;border-collapse:collapse'><img style='max-width: 100px; max-height:100px;display:inline' src=\"data:image/png;base64,iVBORw0KGgoAAAANSUhEUgAAAMAAAADACAAAAAB3tzPbAAAABGdBTUEAALGPC/xhBQAAAAFzUkdCAK7OHOkAAAAgY0hSTQAAeiYAAICEAAD6AAAAgOgAAHUwAADqYAAAOpgAABdwnLpRPAAAA01JREFUeAHVwb+L1gUAB+CH+oBDqf0DckubBCItTp0QuBW8QaPd4eqB4y1xSBCOgq2iOAYdNAqBt4SLhCBuLsf9AZnv0g+64uV4yVevoHu/36vP88RgVu143QMXjSnKRbkoF+WiXJSLclEuykW5KBflolyUi3JRLspFuSgX5aJclItyUS7KRbkoF+WiXJSLclEuykW5KBflolyUi3JRLspFuSgX5aJclItyUS7KRbkoF+WiXIzsd+OKclEuysXI3vSdD40nykW5KBflolwM6IKHFu34w4e2TYwlysUxmNg2MY4oF+WiXAzkYz/5zatO+NnMxF1rxhDl4pisuWvN8KJcDOJj31r1qocueGBuzV1TbBjOligXgzhh5pH3PfL31szcMvPC3K+O7rooF6N56ILDbBhSlIsBfOprBx553yPHKcrFwH4xd8JxiHKxtCtu++9EuVjSFbcd5gfnHYcoF0u54rZFT7znieMT5eLIruGmw/3gvOMR5eKIrrnp/yDKxZFcc9PfeeI95x2XKBf/0udmvvBPntsyt2PLmKJcthzFlsN8YO66Aw9c9LKrZk6Z+dIQolyuO7ob2DS3agdPncUZexZdNfOVoUW5WMImbmDT3FNnzew5Y8+ByzjlK+OIcrGkTdzwlg08ddbcnjP2cNk9Y4pyMYBN3PKNs1625wzuGVeUi4F8hE9seNlFnDQ1pigXg9i1YtWOWzbMXXbPuqmTmBpLlIsB7FpxYMMtb1vHxD0HpjhpahxRLpa2a8VfNnDHukVTJzE1vCgXR/SjAy+seN3EtkVT7Jt7w1CiXPYt57R9r/vM3L7D7BtKlMsbju4dPDe3aseBiW13rOOBiw78hNOGF+ViCc/xrmcWTWxbtOsdp40jysWSnnnXM3+5ZNvMujvWzexaMZ4oF0t75pzHXnfazK4VY4pyMYDHznls5pL7Fv1oXFEuBvHYOa+a2Da+KBcDeQuX3Peqc8YV5aJclIuBfG/VfYsmto0tykW5KBejOmVsUS7KRbkoF+WiXJSLclEuRvWmsUW5KBflolyUi3JRLspFuSgX5aJclItyUS7KRbkoF+WiXJSLclEuykW5KBflolyUi3JRLspFuSgX5aJclItyUS7KRbk/AcDhgEHu5wjBAAAAAElFTkSuQmCC\"></td><td style='text-align:center;vertical-align:middle; margin: 0.5em;border:1px #90999f solid;border-collapse:collapse'><img style='max-width: 100px; max-height:100px;display:inline' src=\"data:image/png;base64,iVBORw0KGgoAAAANSUhEUgAAAMAAAADACAAAAAB3tzPbAAAABGdBTUEAALGPC/xhBQAAAAFzUkdCAK7OHOkAAAAgY0hSTQAAeiYAAICEAAD6AAAAgOgAAHUwAADqYAAAOpgAABdwnLpRPAAAAYxJREFUeAHVwTFqBEAMwEAV+rfxz0M4zKVMuZqROImTOImTOImTOImTOImTOImTOImTOImTOImTOImTOImTOImTOImTOImTOImTOImTOImTOImTOImTOImTOImTOImTOImTOImTOImTOImTOImTOImTOImTOImTOImTOImTOImTOImTOImTOImTOImTOImTBw3LGZYzLGdYfkmcxEmcPGdYzrCcYTnD8iFxEidx8phhOcNyhuUMy5E4edawnGE5w3IGiZOnDMv/DYvEyaOG5QzLGZa/JE4eMiwfw3KG5QzLGRaQOImTOHnGsHwMyxmWMyxnWH5JnDxjOcvX8rV8LR8SJ3ESJ3ESJ3ESJ3ESJ3ESJ3ESJ3ESJ3ESJ3ESJ3ESJ3ESJ3ESJ3ESJ3ESJ3ESJ3ESJ3ESJ3ESJ3ESJ3ESJ3ESJ3ESJ3ESJ3ESJ3ESJ3ESJ3ESJ3ESJ3ESJ3ESJ3ESJ3ESJ3ESJ3ESJ3ESJ3ESJ3ESJ3ESJ3ESJ3ESJ3ESJ3ESJ3ESJ3ESJ3ESJ3ES9wOkzSQFjozxGgAAAABJRU5ErkJg\"></td><td style='text-align:center;vertical-align:middle; margin: 0.5em;border:1px #90999f solid;border-collapse:collapse'><img style='max-width: 100px; max-height:100px;display:inline' src=\"data:image/png;base64,iVBORw0KGgoAAAANSUhEUgAAAMAAAADACAAAAAB3tzPbAAAABGdBTUEAALGPC/xhBQAAAAFzUkdCAK7OHOkAAAAgY0hSTQAAeiYAAICEAAD6AAAAgOgAAHUwAADqYAAAOpgAABdwnLpRPAAAAZxJREFUeAHVwcGpXFEQxUAtlHdzMjfmMvwUnqokTuIkTuIkTuIkTuIkTuIkTuIkTuIkTuIkTuIkTuIkTuIkTuIkTuIkTuIkTuIkTuIkTuIkTuIkTuIkTuIkTuIkTuIkTuIkTuIkTuIkTuIkTuIkTuIkTuIkTuIkTuIkTuIkTuIkTuIkTuIkTuIkTuIkTuLkI47xc4yfY/wc4+cY/0mcfMQ4xjOO8YxjPOMYzzgGSJzESZx8xjjGM47xjGM84xjPOIbEyYeMYzzjGM84xjOO8YxD4iRO4uRTxjGecYxnHOMZx3iGxMnHjGM84xjPOMYzjvFInMRJnHzOOMYzjvGMYzzjGP9JnMRJnHzQ+DP+jD/jkTiJkziJkziJkziJkziJkziJkziJkziJkziJkziJkziJkziJkziJkziJkziJkziJkziJkziJkziJkziJkziJkziJkziJkziJkziJkziJkziJkziJkziJkziJkziJkziJkziJkziJkziJkziJkziJkziJkziJkziJkziJkziJkziJkziJkziJkziJk7h/gWkyoLIcbkMAAAAASUVORK5C\"></td></tr></tbody></table>"
      ],
      "text/plain": [
       "5×12 Matrix{Matrix{Gray{N0f8}}}:\n",
       " [Gray{N0f8}(0.0) Gray{N0f8}(0.0) … Gray{N0f8}(0.0) Gray{N0f8}(0.0); Gray{N0f8}(0.0) Gray{N0f8}(0.0) … Gray{N0f8}(0.0) Gray{N0f8}(0.0); … ; Gray{N0f8}(0.0) Gray{N0f8}(0.0) … Gray{N0f8}(0.0) Gray{N0f8}(0.0); Gray{N0f8}(0.0) Gray{N0f8}(0.0) … Gray{N0f8}(0.0) Gray{N0f8}(0.0)]  …  [Gray{N0f8}(0.0) Gray{N0f8}(0.0) … Gray{N0f8}(0.0) Gray{N0f8}(0.0); Gray{N0f8}(0.0) Gray{N0f8}(0.0) … Gray{N0f8}(0.0) Gray{N0f8}(0.0); … ; Gray{N0f8}(0.0) Gray{N0f8}(0.0) … Gray{N0f8}(0.0) Gray{N0f8}(0.0); Gray{N0f8}(0.0) Gray{N0f8}(0.0) … Gray{N0f8}(0.0) Gray{N0f8}(0.0)]\n",
       " [Gray{N0f8}(0.0) Gray{N0f8}(0.0) … Gray{N0f8}(0.0) Gray{N0f8}(0.0); Gray{N0f8}(0.0) Gray{N0f8}(0.0) … Gray{N0f8}(0.0) Gray{N0f8}(0.0); … ; Gray{N0f8}(0.0) Gray{N0f8}(0.0) … Gray{N0f8}(0.0) Gray{N0f8}(0.0); Gray{N0f8}(0.0) Gray{N0f8}(0.0) … Gray{N0f8}(0.0) Gray{N0f8}(0.0)]     [Gray{N0f8}(0.0) Gray{N0f8}(0.0) … Gray{N0f8}(0.0) Gray{N0f8}(0.0); Gray{N0f8}(0.0) Gray{N0f8}(0.0) … Gray{N0f8}(0.0) Gray{N0f8}(0.0); … ; Gray{N0f8}(0.0) Gray{N0f8}(0.0) … Gray{N0f8}(0.0) Gray{N0f8}(0.0); Gray{N0f8}(0.0) Gray{N0f8}(0.0) … Gray{N0f8}(0.0) Gray{N0f8}(0.0)]\n",
       " [Gray{N0f8}(0.0) Gray{N0f8}(0.0) … Gray{N0f8}(0.0) Gray{N0f8}(0.0); Gray{N0f8}(0.0) Gray{N0f8}(0.0) … Gray{N0f8}(0.0) Gray{N0f8}(0.0); … ; Gray{N0f8}(0.0) Gray{N0f8}(0.0) … Gray{N0f8}(0.0) Gray{N0f8}(0.0); Gray{N0f8}(0.0) Gray{N0f8}(0.0) … Gray{N0f8}(0.0) Gray{N0f8}(0.0)]     [Gray{N0f8}(0.0) Gray{N0f8}(0.0) … Gray{N0f8}(0.0) Gray{N0f8}(0.0); Gray{N0f8}(0.0) Gray{N0f8}(0.0) … Gray{N0f8}(0.0) Gray{N0f8}(0.0); … ; Gray{N0f8}(0.0) Gray{N0f8}(0.0) … Gray{N0f8}(0.0) Gray{N0f8}(0.0); Gray{N0f8}(0.0) Gray{N0f8}(0.0) … Gray{N0f8}(0.0) Gray{N0f8}(0.0)]\n",
       " [Gray{N0f8}(0.0) Gray{N0f8}(0.0) … Gray{N0f8}(0.0) Gray{N0f8}(0.0); Gray{N0f8}(0.0) Gray{N0f8}(0.0) … Gray{N0f8}(0.0) Gray{N0f8}(0.0); … ; Gray{N0f8}(0.0) Gray{N0f8}(0.0) … Gray{N0f8}(0.0) Gray{N0f8}(0.0); Gray{N0f8}(0.0) Gray{N0f8}(0.0) … Gray{N0f8}(0.0) Gray{N0f8}(0.0)]     [Gray{N0f8}(0.0) Gray{N0f8}(0.0) … Gray{N0f8}(0.0) Gray{N0f8}(0.0); Gray{N0f8}(0.0) Gray{N0f8}(0.0) … Gray{N0f8}(0.0) Gray{N0f8}(0.0); … ; Gray{N0f8}(0.0) Gray{N0f8}(0.0) … Gray{N0f8}(0.0) Gray{N0f8}(0.0); Gray{N0f8}(0.0) Gray{N0f8}(0.0) … Gray{N0f8}(0.0) Gray{N0f8}(0.0)]\n",
       " [Gray{N0f8}(0.0) Gray{N0f8}(0.0) … Gray{N0f8}(0.0) Gray{N0f8}(0.0); Gray{N0f8}(0.0) Gray{N0f8}(0.0) … Gray{N0f8}(0.0) Gray{N0f8}(0.0); … ; Gray{N0f8}(0.0) Gray{N0f8}(0.0) … Gray{N0f8}(0.0) Gray{N0f8}(0.0); Gray{N0f8}(0.0) Gray{N0f8}(0.0) … Gray{N0f8}(0.0) Gray{N0f8}(0.0)]     [Gray{N0f8}(0.0) Gray{N0f8}(0.0) … Gray{N0f8}(0.0) Gray{N0f8}(0.0); Gray{N0f8}(0.0) Gray{N0f8}(0.0) … Gray{N0f8}(0.0) Gray{N0f8}(0.0); … ; Gray{N0f8}(0.0) Gray{N0f8}(0.0) … Gray{N0f8}(0.0) Gray{N0f8}(0.0); Gray{N0f8}(0.0) Gray{N0f8}(0.0) … Gray{N0f8}(0.0) Gray{N0f8}(0.0)]"
      ]
     },
     "execution_count": 45,
     "metadata": {},
     "output_type": "execute_result"
    }
   ],
   "source": [
    "A_reshaped = reshape(reduce(hcat, A), size(A[1])..., :)"
   ]
  },
  {
   "cell_type": "code",
   "execution_count": 46,
   "id": "84d0ec39-9929-4ed9-ad2f-457b68fbf253",
   "metadata": {},
   "outputs": [
    {
     "data": {
      "text/plain": [
       "(5, 12)"
      ]
     },
     "execution_count": 46,
     "metadata": {},
     "output_type": "execute_result"
    }
   ],
   "source": [
    "size(A_reshaped)"
   ]
  },
  {
   "cell_type": "code",
   "execution_count": null,
   "id": "276231a3-5ea4-4993-804a-7fc89862858e",
   "metadata": {},
   "outputs": [],
   "source": []
  }
 ],
 "metadata": {
  "interpreter": {
   "hash": "31f2aee4e71d21fbe5cf8b01ff0e069b9275f58929596ceb00d14d90e3e16cd6"
  },
  "kernelspec": {
   "display_name": "Julia 1.6.3",
   "language": "julia",
   "name": "julia-1.6"
  },
  "language_info": {
   "file_extension": ".jl",
   "mimetype": "application/julia",
   "name": "julia",
   "version": "1.6.3"
  }
 },
 "nbformat": 4,
 "nbformat_minor": 5
}
