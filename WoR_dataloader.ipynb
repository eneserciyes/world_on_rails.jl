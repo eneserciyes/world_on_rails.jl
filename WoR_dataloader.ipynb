{
 "cells": [
  {
   "cell_type": "code",
   "execution_count": 1,
   "id": "06f3aed2-9c76-4243-9397-0d75d411fb02",
   "metadata": {},
   "outputs": [],
   "source": [
    "import torch\n",
    "from torch.utils.data import Dataset\n",
    "import numpy as np\n",
    "import yaml, glob, json\n",
    "import os"
   ]
  },
  {
   "cell_type": "code",
   "execution_count": null,
   "id": "fcbe46e5-2e84-4403-9a45-ff72f9a630aa",
   "metadata": {},
   "outputs": [],
   "source": [
    "class MainDataset(Dataset):\n",
    "     def __init__(self, data_dir, config_path):\n",
    "            super().__init__()\n",
    "            with open(config_path, 'r') as f:\n",
    "                config = yaml.safe_load(f)\n",
    "\n",
    "            self.T = config['num_plan']\n",
    "            self.camera_yaws = config['camera_yaws']\n",
    "            self.wide_crop_top = config['wide_crop_top']\n",
    "            self.narr_crop_bottom = config['narr_crop_bottom']\n",
    "            self.seg_channels = config['seg_channels']\n",
    "\n",
    "            self.num_speeds = config['num_speeds']\n",
    "            self.num_steers = config['num_steers']\n",
    "            self.num_throts = config['num_throts']\n",
    "\n",
    "            # Ablation options\n",
    "            self.multi_cam = config['multi_cam']\n",
    "\n",
    "            self.num_frames = 0\n",
    "            \n",
    "            for full_path in glob.glob(f'{data_dir}/**'):\n",
    "                # Read the data.json file \n",
    "                file = open(os.path.join(full_path, \"data.json\"))\n",
    "                data = json.load(file)\n",
    "                file.close()\n",
    "                \n",
    "                n = data['len']\n",
    "                \n",
    "                if n < self.T+1:\n",
    "                    print (full_path, ' is too small. consider deleting it.')\n",
    "                else:\n",
    "                    self.num_frames += (n-(self.T+1))\n",
    "                \n",
    "                    \n",
    "            "
   ]
  }
 ],
 "metadata": {
  "kernelspec": {
   "display_name": "Python 3",
   "language": "python",
   "name": "python3"
  },
  "language_info": {
   "codemirror_mode": {
    "name": "ipython",
    "version": 3
   },
   "file_extension": ".py",
   "mimetype": "text/x-python",
   "name": "python",
   "nbconvert_exporter": "python",
   "pygments_lexer": "ipython3",
   "version": "3.8.10"
  }
 },
 "nbformat": 4,
 "nbformat_minor": 5
}
