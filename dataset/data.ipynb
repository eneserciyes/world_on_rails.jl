{
 "cells": [
  {
   "cell_type": "markdown",
   "id": "d50ff681",
   "metadata": {},
   "source": [
    "## Data reading and manipulation"
   ]
  },
  {
   "cell_type": "code",
   "execution_count": 2,
   "id": "11504ede",
   "metadata": {},
   "outputs": [
    {
     "name": "stderr",
     "output_type": "stream",
     "text": [
      "\u001b[32m\u001b[1m  Activating\u001b[22m\u001b[39m environment at `~/avg/WoR/world_on_rails.jl/Project.toml`\n"
     ]
    }
   ],
   "source": [
    "# activate the environment\n",
    "using Pkg\n",
    "Pkg.activate(\"/home/enes/avg/WoR/world_on_rails.jl\")"
   ]
  },
  {
   "cell_type": "code",
   "execution_count": 1,
   "id": "ab5a783c",
   "metadata": {},
   "outputs": [],
   "source": [
    "using YAML: load_file\n",
    "using Images\n",
    "using Images.FileIO\n",
    "using StrLiterals\n",
    "using LMDB\n",
    "using LMDB: create, open, close, put!, start"
   ]
  },
  {
   "cell_type": "code",
   "execution_count": 3,
   "id": "592cf080",
   "metadata": {},
   "outputs": [
    {
     "data": {
      "text/plain": [
       "\"/home/enes/avg/WoR/WorldOnRails/config.yaml\""
      ]
     },
     "execution_count": 3,
     "metadata": {},
     "output_type": "execute_result"
    }
   ],
   "source": [
    "DATA_ROOT = \"/home/enes/avg/WoR/dataset\"\n",
    "CONFIG_PATH = \"/home/enes/avg/WoR/WorldOnRails/config.yaml\""
   ]
  },
  {
   "cell_type": "code",
   "execution_count": 31,
   "id": "c19b9d65",
   "metadata": {},
   "outputs": [],
   "source": [
    "struct MainDataset\n",
    "    config::Dict\n",
    "    num_frames::Int\n",
    "    txn_map::Dict\n",
    "    idx_map::Dict\n",
    "    yaw_map::Dict\n",
    "    file_map::Dict\n",
    "\n",
    "    function MainDataset(data_dir::AbstractString, config_path::AbstractString)\n",
    "        # read the config file\n",
    "        num_frames = 0\n",
    "        config = load_file(config_path)\n",
    "        txn_map = Dict()\n",
    "        idx_map = Dict()\n",
    "        yaw_map = Dict()\n",
    "        file_map = Dict()\n",
    "        \n",
    "        for full_path in readdir(data_dir, join=true)\n",
    "            if !isdir(full_path)\n",
    "                continue\n",
    "            end\n",
    "            env = create()\n",
    "            open(env, full_path)\n",
    "            txn = start(env)\n",
    "\n",
    "            dbi = open(txn)\n",
    "            \n",
    "            n = parse(Int64, LMDB.get(txn, dbi, \"len\", String))\n",
    "            if n < config[\"num_plan\"]+1\n",
    "                print(full_path, \" is too small. consider deleting\")\n",
    "                close(env, dbi)\n",
    "            else\n",
    "                offset = num_frames\n",
    "                for i in 1:n-config[\"num_plan\"]\n",
    "                    num_frames+=1\n",
    "                    for j in 1:length(config[\"camera_yaws\"])\n",
    "                        txn_map[(offset+i)*length(config[\"camera_yaws\"])+j] = txn\n",
    "                        idx_map[(offset+i)*length(config[\"camera_yaws\"])+j] = i\n",
    "                        yaw_map[(offset+i)*length(config[\"camera_yaws\"])+j] = j\n",
    "                        file_map[(offset+i)*length(config[\"camera_yaws\"])+j] = full_path\n",
    "                    end\n",
    "                end\n",
    "            end\n",
    "        end\n",
    "        print(data_dir,\": \", num_frames, \" frames \", \"x \", length(config[\"camera_yaws\"]))\n",
    "        new(config, num_frames, txn_map, idx_map, yaw_map, file_map)\n",
    "    end\n",
    "    \n",
    "    function access(tag, txn, index, T, dtype, preprocess=x->x)\n",
    "        data = preprocess.([LMDB.get(txn, dbi, f\"\\(tag)_\\(lpad(t, 3, '0')\", dtype) for t in index:index+(T-1)])\n",
    "\n",
    "    end\n",
    "end"
   ]
  },
  {
   "cell_type": "code",
   "execution_count": 32,
   "id": "bf66cd33",
   "metadata": {},
   "outputs": [
    {
     "name": "stdout",
     "output_type": "stream",
     "text": [
      "/home/enes/avg/WoR/dataset: 195 frames x 3"
     ]
    },
    {
     "data": {
      "text/plain": [
       "MainDataset(Dict{Any, Any}(\"ego_model_dir\" => \"/kuacc/users/merciyes18/WorldOnRails/ego_model.th\", \"num_plan\" => 5, \"camera_yaws\" => [0, -30, 30], \"multi_cam\" => true, \"num_orient\" => 5, \"num_throts\" => 3, \"all_speeds\" => true, \"temperature\" => 0.01, \"ego_data_dir\" => [\"PATH TO PHASE 0 DATA\"], \"min_speeds\" => 0.0…), 195, Dict{Any, Any}(56 => Transaction(Ptr{Nothing} @0x000000000398a7f0), 35 => Transaction(Ptr{Nothing} @0x000000000398a7f0), 425 => Transaction(Ptr{Nothing} @0x000000000398a7f0), 429 => Transaction(Ptr{Nothing} @0x000000000398a7f0), 60 => Transaction(Ptr{Nothing} @0x000000000398a7f0), 220 => Transaction(Ptr{Nothing} @0x000000000398a7f0), 308 => Transaction(Ptr{Nothing} @0x000000000398a7f0), 67 => Transaction(Ptr{Nothing} @0x000000000398a7f0), 215 => Transaction(Ptr{Nothing} @0x000000000398a7f0), 73 => Transaction(Ptr{Nothing} @0x000000000398a7f0)…), Dict{Any, Any}(56 => 18, 35 => 11, 425 => 141, 429 => 142, 60 => 19, 220 => 73, 308 => 102, 67 => 22, 215 => 71, 73 => 24…), Dict{Any, Any}(56 => 2, 35 => 2, 425 => 2, 429 => 3, 60 => 3, 220 => 1, 308 => 2, 67 => 1, 215 => 2, 73 => 1…), Dict{Any, Any}(56 => \"/home/enes/avg/WoR/dataset/adyhsylssx\", 35 => \"/home/enes/avg/WoR/dataset/adyhsylssx\", 425 => \"/home/enes/avg/WoR/dataset/adyhsylssx\", 429 => \"/home/enes/avg/WoR/dataset/adyhsylssx\", 60 => \"/home/enes/avg/WoR/dataset/adyhsylssx\", 220 => \"/home/enes/avg/WoR/dataset/adyhsylssx\", 308 => \"/home/enes/avg/WoR/dataset/adyhsylssx\", 67 => \"/home/enes/avg/WoR/dataset/adyhsylssx\", 215 => \"/home/enes/avg/WoR/dataset/adyhsylssx\", 73 => \"/home/enes/avg/WoR/dataset/adyhsylssx\"…))"
      ]
     },
     "execution_count": 32,
     "metadata": {},
     "output_type": "execute_result"
    }
   ],
   "source": [
    "main_dataset = MainDataset(DATA_ROOT, CONFIG_PATH)\n",
    "lp"
   ]
  },
  {
   "cell_type": "code",
   "execution_count": 35,
   "id": "bb3a68ca-db3f-4def-9857-9a7a994d7cb6",
   "metadata": {},
   "outputs": [],
   "source": [
    "Base.length(d::MainDataset) = (if (d.config[\"multi_cam\"]) d.num_frames*length(d.config[\"camera_yaws\"]) else d.num_frames end)"
   ]
  },
  {
   "cell_type": "code",
   "execution_count": 36,
   "id": "aaffc353-ef06-4151-89de-81a4e7c779a6",
   "metadata": {},
   "outputs": [
    {
     "data": {
      "text/plain": [
       "585"
      ]
     },
     "execution_count": 36,
     "metadata": {},
     "output_type": "execute_result"
    }
   ],
   "source": [
    "length(main_dataset)"
   ]
  },
  {
   "cell_type": "code",
   "execution_count": null,
   "id": "0ec9a710-a52e-44a6-b4c9-8cc5a2c4bdef",
   "metadata": {},
   "outputs": [],
   "source": [
    "function get_item(d::MainDataset, state::Int)\n",
    "    idx = state\n",
    "    if !d.config[\"multi_cam\"]\n",
    "        idx *= length(d.config[\"camera_yaws\"])\n",
    "    end\n",
    "    \n",
    "    lmdb_txn = d.txn_map[idx]\n",
    "    index = d.idx_map[idx]\n",
    "    cam_index = d.yaw_map[idx]\n",
    "\n",
    "    \n",
    "end"
   ]
  },
  {
   "cell_type": "code",
   "execution_count": 37,
   "id": "95910621-b994-4261-90f0-31178ebc7908",
   "metadata": {},
   "outputs": [],
   "source": [
    "Base.iterate(d::MainDataset, state=1) = state > length(d) ? nothing : get_item(d, state), state+1 "
   ]
  },
  {
   "cell_type": "code",
   "execution_count": 40,
   "id": "5d58ca24-23c0-4209-a70a-7aee7209d8df",
   "metadata": {},
   "outputs": [
    {
     "ename": "LoadError",
     "evalue": "UndefVarError: env not defined",
     "output_type": "error",
     "traceback": [
      "UndefVarError: env not defined",
      "",
      "Stacktrace:",
      " [1] top-level scope",
      "   @ In[40]:1",
      " [2] eval",
      "   @ ./boot.jl:360 [inlined]",
      " [3] include_string(mapexpr::typeof(REPL.softscope), mod::Module, code::String, filename::String)",
      "   @ Base ./loading.jl:1116"
     ]
    }
   ],
   "source": [
    "close(env)"
   ]
  },
  {
   "cell_type": "code",
   "execution_count": null,
   "id": "f496b78b-dbfd-4e6b-babb-cf457b84054e",
   "metadata": {},
   "outputs": [],
   "source": []
  }
 ],
 "metadata": {
  "interpreter": {
   "hash": "40dd5cc9f2def9cc5214a295ecc2a83d8d97c553bae4ffdfe62baa18529b4fc3"
  },
  "kernelspec": {
   "display_name": "Julia 1.6.3",
   "language": "julia",
   "name": "julia-1.6"
  },
  "language_info": {
   "file_extension": ".jl",
   "mimetype": "application/julia",
   "name": "julia",
   "version": "1.6.3"
  }
 },
 "nbformat": 4,
 "nbformat_minor": 5
}
