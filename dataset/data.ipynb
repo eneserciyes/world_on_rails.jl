{
 "cells": [
  {
   "cell_type": "markdown",
   "id": "d50ff681",
   "metadata": {},
   "source": [
    "## Data reading and manipulation"
   ]
  },
  {
   "cell_type": "code",
   "execution_count": 1,
   "id": "11504ede",
   "metadata": {},
   "outputs": [
    {
     "name": "stderr",
     "output_type": "stream",
     "text": [
      "\u001b[32m\u001b[1m  Activating\u001b[22m\u001b[39m environment at `~/projects/WoR/world_on_rails.jl/Project.toml`\n"
     ]
    }
   ],
   "source": [
    "# activate the environment\n",
    "using Pkg\n",
    "Pkg.activate(\"/home/eneserciyes/projects/WoR/world_on_rails.jl\")"
   ]
  },
  {
   "cell_type": "code",
   "execution_count": 3,
   "id": "ab5a783c",
   "metadata": {},
   "outputs": [],
   "source": [
    "using YAML: load_file\n",
    "using Images\n",
    "using Images.FileIO\n",
    "using StrLiterals\n",
    "using LMDB\n",
    "using LMDB: create, open, close, put!, start"
   ]
  },
  {
   "cell_type": "code",
   "execution_count": 2,
   "id": "592cf080",
   "metadata": {},
   "outputs": [
    {
     "data": {
      "text/plain": [
       "\"/home/eneserciyes/projects/WoR/world_on_rails.jl/configs/config.yaml\""
      ]
     },
     "execution_count": 2,
     "metadata": {},
     "output_type": "execute_result"
    }
   ],
   "source": [
    "DATA_ROOT = \"/home/eneserciyes/projects/WoR/dataset\"\n",
    "CONFIG_PATH = \"/home/eneserciyes/projects/WoR/world_on_rails.jl/configs/config.yaml\""
   ]
  },
  {
   "cell_type": "code",
   "execution_count": 15,
   "id": "c19b9d65",
   "metadata": {},
   "outputs": [],
   "source": [
    "struct MainDataset\n",
    "    config::Dict\n",
    "    num_frames::Int\n",
    "    txn_map::Dict\n",
    "    idx_map::Dict\n",
    "    yaw_map::Dict\n",
    "    file_map::Dict\n",
    "\n",
    "    function MainDataset(data_dir::AbstractString, config_path::AbstractString)\n",
    "        # read the config file\n",
    "        num_frames = 0\n",
    "        config = load_file(config_path)\n",
    "        txn_map = Dict()\n",
    "        idx_map = Dict()\n",
    "        yaw_map = Dict()\n",
    "        file_map = Dict()\n",
    "        \n",
    "        for full_path in readdir(data_dir, join=true)\n",
    "            if !isdir(full_path)\n",
    "                continue\n",
    "            end\n",
    "            env = create()\n",
    "            open(env, full_path)\n",
    "            txn = start(env)\n",
    "\n",
    "            dbi = open(txn)\n",
    "            \n",
    "            n = parse(Int64, LMDB.get(txn, dbi, \"len\", String))\n",
    "            if n < config[\"num_plan\"]+1\n",
    "                print(full_path, \" is too small. consider deleting\")\n",
    "                close(env, dbi)\n",
    "            else\n",
    "                offset = num_frames\n",
    "                for i in 0:n-config[\"num_plan\"]-1\n",
    "                    num_frames+=1\n",
    "                    for j in 0:length(config[\"camera_yaws\"])-1\n",
    "                        txn_map[(offset+i)*length(config[\"camera_yaws\"])+j] = txn\n",
    "                        idx_map[(offset+i)*length(config[\"camera_yaws\"])+j] = i\n",
    "                        yaw_map[(offset+i)*length(config[\"camera_yaws\"])+j] = j\n",
    "                        file_map[(offset+i)*length(config[\"camera_yaws\"])+j] = full_path\n",
    "                    end\n",
    "                end\n",
    "            end\n",
    "        end\n",
    "        print(data_dir,\": \", num_frames, \" frames \", \"x \", length(config[\"camera_yaws\"]))\n",
    "        new(config, num_frames, txn_map, idx_map, yaw_map, file_map)\n",
    "    end\n",
    "end"
   ]
  },
  {
   "cell_type": "code",
   "execution_count": 16,
   "id": "bf66cd33",
   "metadata": {},
   "outputs": [
    {
     "name": "stdout",
     "output_type": "stream",
     "text": [
      "/home/eneserciyes/projects/WoR/dataset: 195 frames x 3"
     ]
    },
    {
     "data": {
      "text/plain": [
       "MainDataset(Dict{Any, Any}(\"ego_model_dir\" => \"/kuacc/users/merciyes18/WorldOnRails/ego_model.th\", \"num_plan\" => 5, \"camera_yaws\" => [0, -30, 30], \"multi_cam\" => true, \"num_orient\" => 5, \"num_throts\" => 3, \"all_speeds\" => true, \"temperature\" => 0.01, \"ego_data_dir\" => [\"PATH TO PHASE 0 DATA\"], \"min_speeds\" => 0.0…), 195, Dict{Any, Any}(319 => Transaction(Ptr{Nothing} @0x0000000003772620), 185 => Transaction(Ptr{Nothing} @0x0000000003772620), 420 => Transaction(Ptr{Nothing} @0x0000000003772620), 525 => Transaction(Ptr{Nothing} @0x0000000003772620), 365 => Transaction(Ptr{Nothing} @0x0000000003772620), 263 => Transaction(Ptr{Nothing} @0x0000000003772620), 422 => Transaction(Ptr{Nothing} @0x0000000003772620), 242 => Transaction(Ptr{Nothing} @0x0000000003772620), 183 => Transaction(Ptr{Nothing} @0x0000000003772620), 551 => Transaction(Ptr{Nothing} @0x0000000003772620)…), Dict{Any, Any}(319 => 106, 185 => 61, 420 => 140, 525 => 175, 365 => 121, 263 => 87, 422 => 140, 242 => 80, 183 => 61, 551 => 183…), Dict{Any, Any}(319 => 1, 185 => 2, 420 => 0, 525 => 0, 365 => 2, 263 => 2, 422 => 2, 242 => 2, 183 => 0, 551 => 2…), Dict{Any, Any}(319 => \"/home/eneserciyes/projects/WoR/dataset/adyhsylssx\", 185 => \"/home/eneserciyes/projects/WoR/dataset/adyhsylssx\", 420 => \"/home/eneserciyes/projects/WoR/dataset/adyhsylssx\", 525 => \"/home/eneserciyes/projects/WoR/dataset/adyhsylssx\", 365 => \"/home/eneserciyes/projects/WoR/dataset/adyhsylssx\", 263 => \"/home/eneserciyes/projects/WoR/dataset/adyhsylssx\", 422 => \"/home/eneserciyes/projects/WoR/dataset/adyhsylssx\", 242 => \"/home/eneserciyes/projects/WoR/dataset/adyhsylssx\", 183 => \"/home/eneserciyes/projects/WoR/dataset/adyhsylssx\", 551 => \"/home/eneserciyes/projects/WoR/dataset/adyhsylssx\"…))"
      ]
     },
     "execution_count": 16,
     "metadata": {},
     "output_type": "execute_result"
    }
   ],
   "source": [
    "main_dataset = MainDataset(DATA_ROOT, CONFIG_PATH)"
   ]
  },
  {
   "cell_type": "code",
   "execution_count": null,
   "metadata": {},
   "outputs": [],
   "source": []
  },
  {
   "cell_type": "code",
   "execution_count": 6,
   "id": "bb3a68ca-db3f-4def-9857-9a7a994d7cb6",
   "metadata": {},
   "outputs": [],
   "source": [
    "Base.length(d::MainDataset) = (if (d.config[\"multi_cam\"]) d.num_frames*length(d.config[\"camera_yaws\"]) else d.num_frames end)"
   ]
  },
  {
   "cell_type": "code",
   "execution_count": 7,
   "id": "aaffc353-ef06-4151-89de-81a4e7c779a6",
   "metadata": {},
   "outputs": [
    {
     "data": {
      "text/plain": [
       "585"
      ]
     },
     "execution_count": 7,
     "metadata": {},
     "output_type": "execute_result"
    }
   ],
   "source": [
    "length(main_dataset)"
   ]
  },
  {
   "cell_type": "code",
   "execution_count": 26,
   "id": "0ec9a710-a52e-44a6-b4c9-8cc5a2c4bdef",
   "metadata": {},
   "outputs": [
    {
     "data": {
      "text/plain": [
       "get_item (generic function with 1 method)"
      ]
     },
     "execution_count": 26,
     "metadata": {},
     "output_type": "execute_result"
    }
   ],
   "source": [
    "function get_item(d::MainDataset, state::Int)\n",
    "    T = d.config[\"num_plan\"]\n",
    "    idx = state\n",
    "    if !d.config[\"multi_cam\"]\n",
    "        idx *= length(d.config[\"camera_yaws\"])\n",
    "    end\n",
    "    \n",
    "    lmdb_txn = d.txn_map[idx]\n",
    "    index = d.idx_map[idx]\n",
    "    cam_index = d.yaw_map[idx]\n",
    "    \n",
    "    locs = access(\"loc\", lmdb_txn, index, T+1, Vector{Float32})\n",
    "    locs\n",
    "end"
   ]
  },
  {
   "cell_type": "code",
   "execution_count": 37,
   "id": "95910621-b994-4261-90f0-31178ebc7908",
   "metadata": {},
   "outputs": [],
   "source": [
    "Base.iterate(d::MainDataset, state=1) = state > length(d) ? nothing : get_item(d, state), state+1 "
   ]
  },
  {
   "cell_type": "code",
   "execution_count": 1,
   "id": "f496b78b-dbfd-4e6b-babb-cf457b84054e",
   "metadata": {},
   "outputs": [
    {
     "ename": "LoadError",
     "evalue": "UndefVarError: get_item not defined",
     "output_type": "error",
     "traceback": [
      "UndefVarError: get_item not defined",
      "",
      "Stacktrace:",
      " [1] top-level scope",
      "   @ In[1]:1",
      " [2] eval",
      "   @ ./boot.jl:360 [inlined]",
      " [3] include_string(mapexpr::typeof(REPL.softscope), mod::Module, code::String, filename::String)",
      "   @ Base ./loading.jl:1116"
     ]
    }
   ],
   "source": [
    "get_item(main_dataset, 1)"
   ]
  }
 ],
 "metadata": {
  "interpreter": {
   "hash": "31f2aee4e71d21fbe5cf8b01ff0e069b9275f58929596ceb00d14d90e3e16cd6"
  },
  "kernelspec": {
   "display_name": "Julia 1.6.3",
   "language": "julia",
   "name": "julia-1.6"
  },
  "language_info": {
   "file_extension": ".jl",
   "mimetype": "application/julia",
   "name": "julia",
   "version": "1.6.3"
  }
 },
 "nbformat": 4,
 "nbformat_minor": 5
}
